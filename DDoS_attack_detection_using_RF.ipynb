{
 "cells": [
  {
   "cell_type": "code",
   "execution_count": 1,
   "metadata": {
    "execution": {
     "iopub.execute_input": "2023-11-21T06:37:32.340702Z",
     "iopub.status.busy": "2023-11-21T06:37:32.340295Z",
     "iopub.status.idle": "2023-11-21T06:37:46.592145Z",
     "shell.execute_reply": "2023-11-21T06:37:46.591221Z",
     "shell.execute_reply.started": "2023-11-21T06:37:32.340668Z"
    }
   },
   "outputs": [],
   "source": [
    "#Importing a few libraries\n",
    "import pandas as pd\n",
    "import numpy as np\n",
    "import matplotlib.pyplot as plt\n",
    "import joblib\n",
    "import sklearn\n",
    "import seaborn as sns\n",
    "import time\n",
    "import copy\n",
    "\n",
    "from sklearn.tree import plot_tree\n",
    "from sklearn.preprocessing import MinMaxScaler\n",
    "from sklearn.ensemble import RandomForestClassifier\n",
    "from sklearn.model_selection import train_test_split\n",
    "from sklearn.metrics import accuracy_score, classification_report, confusion_matrix, f1_score, precision_score, recall_score, roc_auc_score\n",
    "from sklearn.utils import class_weight\n",
    "\n",
    "RANDOM_STATE_SEED = 12"
   ]
  },
  {
   "cell_type": "markdown",
   "metadata": {},
   "source": [
    "# I. Data Analysis"
   ]
  },
  {
   "cell_type": "code",
   "execution_count": 2,
   "metadata": {
    "execution": {
     "iopub.execute_input": "2023-11-21T06:37:46.595668Z",
     "iopub.status.busy": "2023-11-21T06:37:46.593684Z",
     "iopub.status.idle": "2023-11-21T06:37:48.339021Z",
     "shell.execute_reply": "2023-11-21T06:37:48.338048Z",
     "shell.execute_reply.started": "2023-11-21T06:37:46.595637Z"
    }
   },
   "outputs": [],
   "source": [
    "#Read data from parquet files\n",
    "df1_dataset = pd.read_parquet(\"DDoS1-Tuesday-20-02-2018_TrafficForML_CICFlowMeter.parquet\")\n",
    "df2_dataset = pd.read_parquet(\"DDoS2-Wednesday-21-02-2018_TrafficForML_CICFlowMeter.parquet\")"
   ]
  },
  {
   "cell_type": "code",
   "execution_count": 3,
   "metadata": {
    "execution": {
     "iopub.execute_input": "2023-11-21T06:37:48.340591Z",
     "iopub.status.busy": "2023-11-21T06:37:48.340297Z",
     "iopub.status.idle": "2023-11-21T06:37:48.696359Z",
     "shell.execute_reply": "2023-11-21T06:37:48.695504Z",
     "shell.execute_reply.started": "2023-11-21T06:37:48.340567Z"
    }
   },
   "outputs": [],
   "source": [
    "# Concatenate df1_dataset and df2_dataset along axis 0 (row-wise)\n",
    "df_dataset = pd.concat([df1_dataset, df2_dataset], axis=0)"
   ]
  },
  {
   "cell_type": "code",
   "execution_count": 4,
   "metadata": {
    "execution": {
     "iopub.execute_input": "2023-11-21T06:37:48.699018Z",
     "iopub.status.busy": "2023-11-21T06:37:48.698675Z",
     "iopub.status.idle": "2023-11-21T06:37:49.084241Z",
     "shell.execute_reply": "2023-11-21T06:37:49.083258Z",
     "shell.execute_reply.started": "2023-11-21T06:37:48.698992Z"
    }
   },
   "outputs": [
    {
     "data": {
      "text/html": [
       "<div>\n",
       "<style scoped>\n",
       "    .dataframe tbody tr th:only-of-type {\n",
       "        vertical-align: middle;\n",
       "    }\n",
       "\n",
       "    .dataframe tbody tr th {\n",
       "        vertical-align: top;\n",
       "    }\n",
       "\n",
       "    .dataframe thead th {\n",
       "        text-align: right;\n",
       "    }\n",
       "</style>\n",
       "<table border=\"1\" class=\"dataframe\">\n",
       "  <thead>\n",
       "    <tr style=\"text-align: right;\">\n",
       "      <th></th>\n",
       "      <th>Protocol</th>\n",
       "      <th>Flow Duration</th>\n",
       "      <th>Total Fwd Packets</th>\n",
       "      <th>Total Backward Packets</th>\n",
       "      <th>Fwd Packets Length Total</th>\n",
       "      <th>Bwd Packets Length Total</th>\n",
       "      <th>Fwd Packet Length Max</th>\n",
       "      <th>Fwd Packet Length Min</th>\n",
       "      <th>Fwd Packet Length Mean</th>\n",
       "      <th>Fwd Packet Length Std</th>\n",
       "      <th>...</th>\n",
       "      <th>Fwd Seg Size Min</th>\n",
       "      <th>Active Mean</th>\n",
       "      <th>Active Std</th>\n",
       "      <th>Active Max</th>\n",
       "      <th>Active Min</th>\n",
       "      <th>Idle Mean</th>\n",
       "      <th>Idle Std</th>\n",
       "      <th>Idle Max</th>\n",
       "      <th>Idle Min</th>\n",
       "      <th>Label</th>\n",
       "    </tr>\n",
       "  </thead>\n",
       "  <tbody>\n",
       "    <tr>\n",
       "      <th>0</th>\n",
       "      <td>6</td>\n",
       "      <td>888751</td>\n",
       "      <td>11</td>\n",
       "      <td>11</td>\n",
       "      <td>1249</td>\n",
       "      <td>1969</td>\n",
       "      <td>736</td>\n",
       "      <td>0</td>\n",
       "      <td>113.545456</td>\n",
       "      <td>220.896072</td>\n",
       "      <td>...</td>\n",
       "      <td>32</td>\n",
       "      <td>0.0</td>\n",
       "      <td>0.0</td>\n",
       "      <td>0</td>\n",
       "      <td>0</td>\n",
       "      <td>0.0</td>\n",
       "      <td>0.000000</td>\n",
       "      <td>0</td>\n",
       "      <td>0</td>\n",
       "      <td>Benign</td>\n",
       "    </tr>\n",
       "    <tr>\n",
       "      <th>1</th>\n",
       "      <td>0</td>\n",
       "      <td>112642816</td>\n",
       "      <td>3</td>\n",
       "      <td>0</td>\n",
       "      <td>0</td>\n",
       "      <td>0</td>\n",
       "      <td>0</td>\n",
       "      <td>0</td>\n",
       "      <td>0.000000</td>\n",
       "      <td>0.000000</td>\n",
       "      <td>...</td>\n",
       "      <td>0</td>\n",
       "      <td>0.0</td>\n",
       "      <td>0.0</td>\n",
       "      <td>0</td>\n",
       "      <td>0</td>\n",
       "      <td>56300000.0</td>\n",
       "      <td>7.071068</td>\n",
       "      <td>56300000</td>\n",
       "      <td>56300000</td>\n",
       "      <td>Benign</td>\n",
       "    </tr>\n",
       "    <tr>\n",
       "      <th>2</th>\n",
       "      <td>0</td>\n",
       "      <td>112642712</td>\n",
       "      <td>3</td>\n",
       "      <td>0</td>\n",
       "      <td>0</td>\n",
       "      <td>0</td>\n",
       "      <td>0</td>\n",
       "      <td>0</td>\n",
       "      <td>0.000000</td>\n",
       "      <td>0.000000</td>\n",
       "      <td>...</td>\n",
       "      <td>0</td>\n",
       "      <td>0.0</td>\n",
       "      <td>0.0</td>\n",
       "      <td>0</td>\n",
       "      <td>0</td>\n",
       "      <td>56300000.0</td>\n",
       "      <td>18.384777</td>\n",
       "      <td>56300000</td>\n",
       "      <td>56300000</td>\n",
       "      <td>Benign</td>\n",
       "    </tr>\n",
       "    <tr>\n",
       "      <th>3</th>\n",
       "      <td>0</td>\n",
       "      <td>112642648</td>\n",
       "      <td>3</td>\n",
       "      <td>0</td>\n",
       "      <td>0</td>\n",
       "      <td>0</td>\n",
       "      <td>0</td>\n",
       "      <td>0</td>\n",
       "      <td>0.000000</td>\n",
       "      <td>0.000000</td>\n",
       "      <td>...</td>\n",
       "      <td>0</td>\n",
       "      <td>0.0</td>\n",
       "      <td>0.0</td>\n",
       "      <td>0</td>\n",
       "      <td>0</td>\n",
       "      <td>56300000.0</td>\n",
       "      <td>5.656854</td>\n",
       "      <td>56300000</td>\n",
       "      <td>56300000</td>\n",
       "      <td>Benign</td>\n",
       "    </tr>\n",
       "    <tr>\n",
       "      <th>4</th>\n",
       "      <td>0</td>\n",
       "      <td>112642702</td>\n",
       "      <td>3</td>\n",
       "      <td>0</td>\n",
       "      <td>0</td>\n",
       "      <td>0</td>\n",
       "      <td>0</td>\n",
       "      <td>0</td>\n",
       "      <td>0.000000</td>\n",
       "      <td>0.000000</td>\n",
       "      <td>...</td>\n",
       "      <td>0</td>\n",
       "      <td>0.0</td>\n",
       "      <td>0.0</td>\n",
       "      <td>0</td>\n",
       "      <td>0</td>\n",
       "      <td>56300000.0</td>\n",
       "      <td>65.053825</td>\n",
       "      <td>56300000</td>\n",
       "      <td>56300000</td>\n",
       "      <td>Benign</td>\n",
       "    </tr>\n",
       "    <tr>\n",
       "      <th>...</th>\n",
       "      <td>...</td>\n",
       "      <td>...</td>\n",
       "      <td>...</td>\n",
       "      <td>...</td>\n",
       "      <td>...</td>\n",
       "      <td>...</td>\n",
       "      <td>...</td>\n",
       "      <td>...</td>\n",
       "      <td>...</td>\n",
       "      <td>...</td>\n",
       "      <td>...</td>\n",
       "      <td>...</td>\n",
       "      <td>...</td>\n",
       "      <td>...</td>\n",
       "      <td>...</td>\n",
       "      <td>...</td>\n",
       "      <td>...</td>\n",
       "      <td>...</td>\n",
       "      <td>...</td>\n",
       "      <td>...</td>\n",
       "      <td>...</td>\n",
       "    </tr>\n",
       "    <tr>\n",
       "      <th>561391</th>\n",
       "      <td>6</td>\n",
       "      <td>1252</td>\n",
       "      <td>5</td>\n",
       "      <td>2</td>\n",
       "      <td>935</td>\n",
       "      <td>274</td>\n",
       "      <td>935</td>\n",
       "      <td>0</td>\n",
       "      <td>187.000000</td>\n",
       "      <td>418.144714</td>\n",
       "      <td>...</td>\n",
       "      <td>20</td>\n",
       "      <td>0.0</td>\n",
       "      <td>0.0</td>\n",
       "      <td>0</td>\n",
       "      <td>0</td>\n",
       "      <td>0.0</td>\n",
       "      <td>0.000000</td>\n",
       "      <td>0</td>\n",
       "      <td>0</td>\n",
       "      <td>Benign</td>\n",
       "    </tr>\n",
       "    <tr>\n",
       "      <th>561392</th>\n",
       "      <td>6</td>\n",
       "      <td>19055</td>\n",
       "      <td>5</td>\n",
       "      <td>2</td>\n",
       "      <td>935</td>\n",
       "      <td>341</td>\n",
       "      <td>935</td>\n",
       "      <td>0</td>\n",
       "      <td>187.000000</td>\n",
       "      <td>418.144714</td>\n",
       "      <td>...</td>\n",
       "      <td>20</td>\n",
       "      <td>0.0</td>\n",
       "      <td>0.0</td>\n",
       "      <td>0</td>\n",
       "      <td>0</td>\n",
       "      <td>0.0</td>\n",
       "      <td>0.000000</td>\n",
       "      <td>0</td>\n",
       "      <td>0</td>\n",
       "      <td>Benign</td>\n",
       "    </tr>\n",
       "    <tr>\n",
       "      <th>561393</th>\n",
       "      <td>6</td>\n",
       "      <td>36677</td>\n",
       "      <td>5</td>\n",
       "      <td>2</td>\n",
       "      <td>935</td>\n",
       "      <td>341</td>\n",
       "      <td>935</td>\n",
       "      <td>0</td>\n",
       "      <td>187.000000</td>\n",
       "      <td>418.144714</td>\n",
       "      <td>...</td>\n",
       "      <td>20</td>\n",
       "      <td>0.0</td>\n",
       "      <td>0.0</td>\n",
       "      <td>0</td>\n",
       "      <td>0</td>\n",
       "      <td>0.0</td>\n",
       "      <td>0.000000</td>\n",
       "      <td>0</td>\n",
       "      <td>0</td>\n",
       "      <td>Benign</td>\n",
       "    </tr>\n",
       "    <tr>\n",
       "      <th>561394</th>\n",
       "      <td>6</td>\n",
       "      <td>1849</td>\n",
       "      <td>5</td>\n",
       "      <td>2</td>\n",
       "      <td>935</td>\n",
       "      <td>341</td>\n",
       "      <td>935</td>\n",
       "      <td>0</td>\n",
       "      <td>187.000000</td>\n",
       "      <td>418.144714</td>\n",
       "      <td>...</td>\n",
       "      <td>20</td>\n",
       "      <td>0.0</td>\n",
       "      <td>0.0</td>\n",
       "      <td>0</td>\n",
       "      <td>0</td>\n",
       "      <td>0.0</td>\n",
       "      <td>0.000000</td>\n",
       "      <td>0</td>\n",
       "      <td>0</td>\n",
       "      <td>Benign</td>\n",
       "    </tr>\n",
       "    <tr>\n",
       "      <th>561395</th>\n",
       "      <td>6</td>\n",
       "      <td>20580</td>\n",
       "      <td>5</td>\n",
       "      <td>2</td>\n",
       "      <td>935</td>\n",
       "      <td>299</td>\n",
       "      <td>935</td>\n",
       "      <td>0</td>\n",
       "      <td>187.000000</td>\n",
       "      <td>418.144714</td>\n",
       "      <td>...</td>\n",
       "      <td>20</td>\n",
       "      <td>0.0</td>\n",
       "      <td>0.0</td>\n",
       "      <td>0</td>\n",
       "      <td>0</td>\n",
       "      <td>0.0</td>\n",
       "      <td>0.000000</td>\n",
       "      <td>0</td>\n",
       "      <td>0</td>\n",
       "      <td>Benign</td>\n",
       "    </tr>\n",
       "  </tbody>\n",
       "</table>\n",
       "<p>1516242 rows × 78 columns</p>\n",
       "</div>"
      ],
      "text/plain": [
       "        Protocol  Flow Duration  Total Fwd Packets  Total Backward Packets  \\\n",
       "0              6         888751                 11                      11   \n",
       "1              0      112642816                  3                       0   \n",
       "2              0      112642712                  3                       0   \n",
       "3              0      112642648                  3                       0   \n",
       "4              0      112642702                  3                       0   \n",
       "...          ...            ...                ...                     ...   \n",
       "561391         6           1252                  5                       2   \n",
       "561392         6          19055                  5                       2   \n",
       "561393         6          36677                  5                       2   \n",
       "561394         6           1849                  5                       2   \n",
       "561395         6          20580                  5                       2   \n",
       "\n",
       "        Fwd Packets Length Total  Bwd Packets Length Total  \\\n",
       "0                           1249                      1969   \n",
       "1                              0                         0   \n",
       "2                              0                         0   \n",
       "3                              0                         0   \n",
       "4                              0                         0   \n",
       "...                          ...                       ...   \n",
       "561391                       935                       274   \n",
       "561392                       935                       341   \n",
       "561393                       935                       341   \n",
       "561394                       935                       341   \n",
       "561395                       935                       299   \n",
       "\n",
       "        Fwd Packet Length Max  Fwd Packet Length Min  Fwd Packet Length Mean  \\\n",
       "0                         736                      0              113.545456   \n",
       "1                           0                      0                0.000000   \n",
       "2                           0                      0                0.000000   \n",
       "3                           0                      0                0.000000   \n",
       "4                           0                      0                0.000000   \n",
       "...                       ...                    ...                     ...   \n",
       "561391                    935                      0              187.000000   \n",
       "561392                    935                      0              187.000000   \n",
       "561393                    935                      0              187.000000   \n",
       "561394                    935                      0              187.000000   \n",
       "561395                    935                      0              187.000000   \n",
       "\n",
       "        Fwd Packet Length Std  ...  Fwd Seg Size Min  Active Mean  Active Std  \\\n",
       "0                  220.896072  ...                32          0.0         0.0   \n",
       "1                    0.000000  ...                 0          0.0         0.0   \n",
       "2                    0.000000  ...                 0          0.0         0.0   \n",
       "3                    0.000000  ...                 0          0.0         0.0   \n",
       "4                    0.000000  ...                 0          0.0         0.0   \n",
       "...                       ...  ...               ...          ...         ...   \n",
       "561391             418.144714  ...                20          0.0         0.0   \n",
       "561392             418.144714  ...                20          0.0         0.0   \n",
       "561393             418.144714  ...                20          0.0         0.0   \n",
       "561394             418.144714  ...                20          0.0         0.0   \n",
       "561395             418.144714  ...                20          0.0         0.0   \n",
       "\n",
       "        Active Max  Active Min   Idle Mean   Idle Std  Idle Max  Idle Min  \\\n",
       "0                0           0         0.0   0.000000         0         0   \n",
       "1                0           0  56300000.0   7.071068  56300000  56300000   \n",
       "2                0           0  56300000.0  18.384777  56300000  56300000   \n",
       "3                0           0  56300000.0   5.656854  56300000  56300000   \n",
       "4                0           0  56300000.0  65.053825  56300000  56300000   \n",
       "...            ...         ...         ...        ...       ...       ...   \n",
       "561391           0           0         0.0   0.000000         0         0   \n",
       "561392           0           0         0.0   0.000000         0         0   \n",
       "561393           0           0         0.0   0.000000         0         0   \n",
       "561394           0           0         0.0   0.000000         0         0   \n",
       "561395           0           0         0.0   0.000000         0         0   \n",
       "\n",
       "         Label  \n",
       "0       Benign  \n",
       "1       Benign  \n",
       "2       Benign  \n",
       "3       Benign  \n",
       "4       Benign  \n",
       "...        ...  \n",
       "561391  Benign  \n",
       "561392  Benign  \n",
       "561393  Benign  \n",
       "561394  Benign  \n",
       "561395  Benign  \n",
       "\n",
       "[1516242 rows x 78 columns]"
      ]
     },
     "execution_count": 4,
     "metadata": {},
     "output_type": "execute_result"
    }
   ],
   "source": [
    "#Display data\n",
    "df_dataset"
   ]
  },
  {
   "cell_type": "code",
   "execution_count": 5,
   "metadata": {
    "execution": {
     "iopub.execute_input": "2023-11-21T06:37:49.402521Z",
     "iopub.status.busy": "2023-11-21T06:37:49.402110Z",
     "iopub.status.idle": "2023-11-21T06:37:49.932911Z",
     "shell.execute_reply": "2023-11-21T06:37:49.931951Z",
     "shell.execute_reply.started": "2023-11-21T06:37:49.402484Z"
    }
   },
   "outputs": [],
   "source": [
    "# Replace +ve and -ve infinity with NaN\n",
    "df_dataset.replace([np.inf, -np.inf], np.nan, inplace=True)"
   ]
  },
  {
   "cell_type": "code",
   "execution_count": 6,
   "metadata": {
    "execution": {
     "iopub.execute_input": "2023-11-21T06:37:52.656974Z",
     "iopub.status.busy": "2023-11-21T06:37:52.656441Z",
     "iopub.status.idle": "2023-11-21T06:37:52.887278Z",
     "shell.execute_reply": "2023-11-21T06:37:52.886399Z",
     "shell.execute_reply.started": "2023-11-21T06:37:52.656938Z"
    }
   },
   "outputs": [],
   "source": [
    "# Drop rows with null values\n",
    "df_dataset.dropna(inplace=True)"
   ]
  },
  {
   "cell_type": "code",
   "execution_count": 7,
   "metadata": {},
   "outputs": [
    {
     "data": {
      "text/plain": [
       "Protocol                    0\n",
       "Flow Duration               0\n",
       "Total Fwd Packets           0\n",
       "Total Backward Packets      0\n",
       "Fwd Packets Length Total    0\n",
       "                           ..\n",
       "Idle Mean                   0\n",
       "Idle Std                    0\n",
       "Idle Max                    0\n",
       "Idle Min                    0\n",
       "Label                       0\n",
       "Length: 78, dtype: int64"
      ]
     },
     "execution_count": 7,
     "metadata": {},
     "output_type": "execute_result"
    }
   ],
   "source": [
    "df_dataset.isnull().sum()"
   ]
  },
  {
   "cell_type": "code",
   "execution_count": 8,
   "metadata": {
    "execution": {
     "iopub.execute_input": "2023-11-21T06:37:49.934680Z",
     "iopub.status.busy": "2023-11-21T06:37:49.934393Z",
     "iopub.status.idle": "2023-11-21T06:37:52.655449Z",
     "shell.execute_reply": "2023-11-21T06:37:52.654671Z",
     "shell.execute_reply.started": "2023-11-21T06:37:49.934657Z"
    }
   },
   "outputs": [
    {
     "data": {
      "text/html": [
       "<div>\n",
       "<style scoped>\n",
       "    .dataframe tbody tr th:only-of-type {\n",
       "        vertical-align: middle;\n",
       "    }\n",
       "\n",
       "    .dataframe tbody tr th {\n",
       "        vertical-align: top;\n",
       "    }\n",
       "\n",
       "    .dataframe thead th {\n",
       "        text-align: right;\n",
       "    }\n",
       "</style>\n",
       "<table border=\"1\" class=\"dataframe\">\n",
       "  <thead>\n",
       "    <tr style=\"text-align: right;\">\n",
       "      <th></th>\n",
       "      <th>Protocol</th>\n",
       "      <th>Flow Duration</th>\n",
       "      <th>Total Fwd Packets</th>\n",
       "      <th>Total Backward Packets</th>\n",
       "      <th>Fwd Packets Length Total</th>\n",
       "      <th>Bwd Packets Length Total</th>\n",
       "      <th>Fwd Packet Length Max</th>\n",
       "      <th>Fwd Packet Length Min</th>\n",
       "      <th>Fwd Packet Length Mean</th>\n",
       "      <th>Fwd Packet Length Std</th>\n",
       "      <th>...</th>\n",
       "      <th>Fwd Act Data Packets</th>\n",
       "      <th>Fwd Seg Size Min</th>\n",
       "      <th>Active Mean</th>\n",
       "      <th>Active Std</th>\n",
       "      <th>Active Max</th>\n",
       "      <th>Active Min</th>\n",
       "      <th>Idle Mean</th>\n",
       "      <th>Idle Std</th>\n",
       "      <th>Idle Max</th>\n",
       "      <th>Idle Min</th>\n",
       "    </tr>\n",
       "  </thead>\n",
       "  <tbody>\n",
       "    <tr>\n",
       "      <th>count</th>\n",
       "      <td>1.516242e+06</td>\n",
       "      <td>1.516242e+06</td>\n",
       "      <td>1.516242e+06</td>\n",
       "      <td>1.516242e+06</td>\n",
       "      <td>1.516242e+06</td>\n",
       "      <td>1.516242e+06</td>\n",
       "      <td>1.516242e+06</td>\n",
       "      <td>1.516242e+06</td>\n",
       "      <td>1.516242e+06</td>\n",
       "      <td>1.516242e+06</td>\n",
       "      <td>...</td>\n",
       "      <td>1.516242e+06</td>\n",
       "      <td>1.516242e+06</td>\n",
       "      <td>1.516242e+06</td>\n",
       "      <td>1.516242e+06</td>\n",
       "      <td>1.516242e+06</td>\n",
       "      <td>1.516242e+06</td>\n",
       "      <td>1516242.0</td>\n",
       "      <td>1.516242e+06</td>\n",
       "      <td>1.516242e+06</td>\n",
       "      <td>1.516242e+06</td>\n",
       "    </tr>\n",
       "    <tr>\n",
       "      <th>mean</th>\n",
       "      <td>6.869231e+00</td>\n",
       "      <td>9.064749e+06</td>\n",
       "      <td>1.971200e+02</td>\n",
       "      <td>4.625881e+00</td>\n",
       "      <td>6.545791e+03</td>\n",
       "      <td>3.133920e+03</td>\n",
       "      <td>3.124259e+02</td>\n",
       "      <td>3.525636e+00</td>\n",
       "      <td>7.047224e+01</td>\n",
       "      <td>1.377741e+02</td>\n",
       "      <td>...</td>\n",
       "      <td>1.939113e+02</td>\n",
       "      <td>1.892650e+01</td>\n",
       "      <td>2.745230e+04</td>\n",
       "      <td>1.353791e+04</td>\n",
       "      <td>4.907409e+04</td>\n",
       "      <td>1.950246e+04</td>\n",
       "      <td>5236406.5</td>\n",
       "      <td>6.234499e+04</td>\n",
       "      <td>5.299285e+06</td>\n",
       "      <td>5.175039e+06</td>\n",
       "    </tr>\n",
       "    <tr>\n",
       "      <th>std</th>\n",
       "      <td>3.057031e+00</td>\n",
       "      <td>2.209509e+07</td>\n",
       "      <td>4.968769e+03</td>\n",
       "      <td>1.198103e+02</td>\n",
       "      <td>1.589931e+05</td>\n",
       "      <td>1.737952e+05</td>\n",
       "      <td>3.877777e+02</td>\n",
       "      <td>1.513306e+01</td>\n",
       "      <td>7.781921e+01</td>\n",
       "      <td>1.709302e+02</td>\n",
       "      <td>...</td>\n",
       "      <td>4.968674e+03</td>\n",
       "      <td>3.596368e+00</td>\n",
       "      <td>3.616128e+05</td>\n",
       "      <td>1.745244e+05</td>\n",
       "      <td>5.230418e+05</td>\n",
       "      <td>3.240248e+05</td>\n",
       "      <td>12887393.0</td>\n",
       "      <td>1.059574e+06</td>\n",
       "      <td>1.285253e+07</td>\n",
       "      <td>1.266421e+07</td>\n",
       "    </tr>\n",
       "    <tr>\n",
       "      <th>min</th>\n",
       "      <td>0.000000e+00</td>\n",
       "      <td>1.000000e+00</td>\n",
       "      <td>1.000000e+00</td>\n",
       "      <td>0.000000e+00</td>\n",
       "      <td>0.000000e+00</td>\n",
       "      <td>0.000000e+00</td>\n",
       "      <td>0.000000e+00</td>\n",
       "      <td>0.000000e+00</td>\n",
       "      <td>0.000000e+00</td>\n",
       "      <td>0.000000e+00</td>\n",
       "      <td>...</td>\n",
       "      <td>0.000000e+00</td>\n",
       "      <td>0.000000e+00</td>\n",
       "      <td>0.000000e+00</td>\n",
       "      <td>0.000000e+00</td>\n",
       "      <td>0.000000e+00</td>\n",
       "      <td>0.000000e+00</td>\n",
       "      <td>0.0</td>\n",
       "      <td>0.000000e+00</td>\n",
       "      <td>0.000000e+00</td>\n",
       "      <td>0.000000e+00</td>\n",
       "    </tr>\n",
       "    <tr>\n",
       "      <th>25%</th>\n",
       "      <td>6.000000e+00</td>\n",
       "      <td>2.940000e+03</td>\n",
       "      <td>2.000000e+00</td>\n",
       "      <td>0.000000e+00</td>\n",
       "      <td>0.000000e+00</td>\n",
       "      <td>0.000000e+00</td>\n",
       "      <td>0.000000e+00</td>\n",
       "      <td>0.000000e+00</td>\n",
       "      <td>0.000000e+00</td>\n",
       "      <td>0.000000e+00</td>\n",
       "      <td>...</td>\n",
       "      <td>0.000000e+00</td>\n",
       "      <td>2.000000e+01</td>\n",
       "      <td>0.000000e+00</td>\n",
       "      <td>0.000000e+00</td>\n",
       "      <td>0.000000e+00</td>\n",
       "      <td>0.000000e+00</td>\n",
       "      <td>0.0</td>\n",
       "      <td>0.000000e+00</td>\n",
       "      <td>0.000000e+00</td>\n",
       "      <td>0.000000e+00</td>\n",
       "    </tr>\n",
       "    <tr>\n",
       "      <th>50%</th>\n",
       "      <td>6.000000e+00</td>\n",
       "      <td>3.209230e+05</td>\n",
       "      <td>3.000000e+00</td>\n",
       "      <td>2.000000e+00</td>\n",
       "      <td>4.800000e+01</td>\n",
       "      <td>3.120000e+02</td>\n",
       "      <td>4.100000e+01</td>\n",
       "      <td>0.000000e+00</td>\n",
       "      <td>3.400000e+01</td>\n",
       "      <td>1.154701e+01</td>\n",
       "      <td>...</td>\n",
       "      <td>1.000000e+00</td>\n",
       "      <td>2.000000e+01</td>\n",
       "      <td>0.000000e+00</td>\n",
       "      <td>0.000000e+00</td>\n",
       "      <td>0.000000e+00</td>\n",
       "      <td>0.000000e+00</td>\n",
       "      <td>0.0</td>\n",
       "      <td>0.000000e+00</td>\n",
       "      <td>0.000000e+00</td>\n",
       "      <td>0.000000e+00</td>\n",
       "    </tr>\n",
       "    <tr>\n",
       "      <th>75%</th>\n",
       "      <td>6.000000e+00</td>\n",
       "      <td>3.441316e+06</td>\n",
       "      <td>5.000000e+00</td>\n",
       "      <td>4.000000e+00</td>\n",
       "      <td>9.350000e+02</td>\n",
       "      <td>9.640000e+02</td>\n",
       "      <td>6.770000e+02</td>\n",
       "      <td>0.000000e+00</td>\n",
       "      <td>1.435000e+02</td>\n",
       "      <td>2.281297e+02</td>\n",
       "      <td>...</td>\n",
       "      <td>1.000000e+00</td>\n",
       "      <td>2.000000e+01</td>\n",
       "      <td>0.000000e+00</td>\n",
       "      <td>0.000000e+00</td>\n",
       "      <td>0.000000e+00</td>\n",
       "      <td>0.000000e+00</td>\n",
       "      <td>0.0</td>\n",
       "      <td>0.000000e+00</td>\n",
       "      <td>0.000000e+00</td>\n",
       "      <td>0.000000e+00</td>\n",
       "    </tr>\n",
       "    <tr>\n",
       "      <th>max</th>\n",
       "      <td>1.700000e+01</td>\n",
       "      <td>1.200000e+08</td>\n",
       "      <td>3.096290e+05</td>\n",
       "      <td>2.151400e+04</td>\n",
       "      <td>9.908128e+06</td>\n",
       "      <td>3.130897e+07</td>\n",
       "      <td>2.224000e+03</td>\n",
       "      <td>1.443000e+03</td>\n",
       "      <td>1.458111e+03</td>\n",
       "      <td>8.407499e+02</td>\n",
       "      <td>...</td>\n",
       "      <td>3.096280e+05</td>\n",
       "      <td>4.400000e+01</td>\n",
       "      <td>7.594122e+07</td>\n",
       "      <td>2.564258e+07</td>\n",
       "      <td>7.594123e+07</td>\n",
       "      <td>7.594123e+07</td>\n",
       "      <td>119996344.0</td>\n",
       "      <td>7.089778e+07</td>\n",
       "      <td>1.199963e+08</td>\n",
       "      <td>1.199963e+08</td>\n",
       "    </tr>\n",
       "  </tbody>\n",
       "</table>\n",
       "<p>8 rows × 77 columns</p>\n",
       "</div>"
      ],
      "text/plain": [
       "           Protocol  Flow Duration  Total Fwd Packets  Total Backward Packets  \\\n",
       "count  1.516242e+06   1.516242e+06       1.516242e+06            1.516242e+06   \n",
       "mean   6.869231e+00   9.064749e+06       1.971200e+02            4.625881e+00   \n",
       "std    3.057031e+00   2.209509e+07       4.968769e+03            1.198103e+02   \n",
       "min    0.000000e+00   1.000000e+00       1.000000e+00            0.000000e+00   \n",
       "25%    6.000000e+00   2.940000e+03       2.000000e+00            0.000000e+00   \n",
       "50%    6.000000e+00   3.209230e+05       3.000000e+00            2.000000e+00   \n",
       "75%    6.000000e+00   3.441316e+06       5.000000e+00            4.000000e+00   \n",
       "max    1.700000e+01   1.200000e+08       3.096290e+05            2.151400e+04   \n",
       "\n",
       "       Fwd Packets Length Total  Bwd Packets Length Total  \\\n",
       "count              1.516242e+06              1.516242e+06   \n",
       "mean               6.545791e+03              3.133920e+03   \n",
       "std                1.589931e+05              1.737952e+05   \n",
       "min                0.000000e+00              0.000000e+00   \n",
       "25%                0.000000e+00              0.000000e+00   \n",
       "50%                4.800000e+01              3.120000e+02   \n",
       "75%                9.350000e+02              9.640000e+02   \n",
       "max                9.908128e+06              3.130897e+07   \n",
       "\n",
       "       Fwd Packet Length Max  Fwd Packet Length Min  Fwd Packet Length Mean  \\\n",
       "count           1.516242e+06           1.516242e+06            1.516242e+06   \n",
       "mean            3.124259e+02           3.525636e+00            7.047224e+01   \n",
       "std             3.877777e+02           1.513306e+01            7.781921e+01   \n",
       "min             0.000000e+00           0.000000e+00            0.000000e+00   \n",
       "25%             0.000000e+00           0.000000e+00            0.000000e+00   \n",
       "50%             4.100000e+01           0.000000e+00            3.400000e+01   \n",
       "75%             6.770000e+02           0.000000e+00            1.435000e+02   \n",
       "max             2.224000e+03           1.443000e+03            1.458111e+03   \n",
       "\n",
       "       Fwd Packet Length Std  ...  Fwd Act Data Packets  Fwd Seg Size Min  \\\n",
       "count           1.516242e+06  ...          1.516242e+06      1.516242e+06   \n",
       "mean            1.377741e+02  ...          1.939113e+02      1.892650e+01   \n",
       "std             1.709302e+02  ...          4.968674e+03      3.596368e+00   \n",
       "min             0.000000e+00  ...          0.000000e+00      0.000000e+00   \n",
       "25%             0.000000e+00  ...          0.000000e+00      2.000000e+01   \n",
       "50%             1.154701e+01  ...          1.000000e+00      2.000000e+01   \n",
       "75%             2.281297e+02  ...          1.000000e+00      2.000000e+01   \n",
       "max             8.407499e+02  ...          3.096280e+05      4.400000e+01   \n",
       "\n",
       "        Active Mean    Active Std    Active Max    Active Min    Idle Mean  \\\n",
       "count  1.516242e+06  1.516242e+06  1.516242e+06  1.516242e+06    1516242.0   \n",
       "mean   2.745230e+04  1.353791e+04  4.907409e+04  1.950246e+04    5236406.5   \n",
       "std    3.616128e+05  1.745244e+05  5.230418e+05  3.240248e+05   12887393.0   \n",
       "min    0.000000e+00  0.000000e+00  0.000000e+00  0.000000e+00          0.0   \n",
       "25%    0.000000e+00  0.000000e+00  0.000000e+00  0.000000e+00          0.0   \n",
       "50%    0.000000e+00  0.000000e+00  0.000000e+00  0.000000e+00          0.0   \n",
       "75%    0.000000e+00  0.000000e+00  0.000000e+00  0.000000e+00          0.0   \n",
       "max    7.594122e+07  2.564258e+07  7.594123e+07  7.594123e+07  119996344.0   \n",
       "\n",
       "           Idle Std      Idle Max      Idle Min  \n",
       "count  1.516242e+06  1.516242e+06  1.516242e+06  \n",
       "mean   6.234499e+04  5.299285e+06  5.175039e+06  \n",
       "std    1.059574e+06  1.285253e+07  1.266421e+07  \n",
       "min    0.000000e+00  0.000000e+00  0.000000e+00  \n",
       "25%    0.000000e+00  0.000000e+00  0.000000e+00  \n",
       "50%    0.000000e+00  0.000000e+00  0.000000e+00  \n",
       "75%    0.000000e+00  0.000000e+00  0.000000e+00  \n",
       "max    7.089778e+07  1.199963e+08  1.199963e+08  \n",
       "\n",
       "[8 rows x 77 columns]"
      ]
     },
     "execution_count": 8,
     "metadata": {},
     "output_type": "execute_result"
    }
   ],
   "source": [
    "# Descriptive statistics of dataset\n",
    "df_dataset.describe()"
   ]
  },
  {
   "cell_type": "code",
   "execution_count": 9,
   "metadata": {
    "execution": {
     "iopub.execute_input": "2023-11-21T06:37:52.898768Z",
     "iopub.status.busy": "2023-11-21T06:37:52.898455Z",
     "iopub.status.idle": "2023-11-21T06:37:52.997552Z",
     "shell.execute_reply": "2023-11-21T06:37:52.996294Z",
     "shell.execute_reply.started": "2023-11-21T06:37:52.898744Z"
    }
   },
   "outputs": [
    {
     "data": {
      "text/plain": [
       "Label\n",
       "Benign                    740287\n",
       "DDoS attacks-LOIC-HTTP    575364\n",
       "DDOS attack-HOIC          198861\n",
       "DDOS attack-LOIC-UDP        1730\n",
       "Name: count, dtype: int64"
      ]
     },
     "execution_count": 9,
     "metadata": {},
     "output_type": "execute_result"
    }
   ],
   "source": [
    "# Count the occurrences of each unique value in the \"Label\" column\n",
    "df_dataset[\"Label\"].value_counts()"
   ]
  },
  {
   "cell_type": "code",
   "execution_count": 10,
   "metadata": {
    "execution": {
     "iopub.execute_input": "2023-11-21T06:37:53.000196Z",
     "iopub.status.busy": "2023-11-21T06:37:52.998965Z",
     "iopub.status.idle": "2023-11-21T06:37:53.005510Z",
     "shell.execute_reply": "2023-11-21T06:37:53.004544Z",
     "shell.execute_reply.started": "2023-11-21T06:37:53.000157Z"
    }
   },
   "outputs": [],
   "source": [
    "# Assign the DataFrame 'df_dataset' to a new variable 'df'\n",
    "df = df_dataset"
   ]
  },
  {
   "cell_type": "code",
   "execution_count": 11,
   "metadata": {
    "execution": {
     "iopub.execute_input": "2023-11-21T06:37:53.007116Z",
     "iopub.status.busy": "2023-11-21T06:37:53.006818Z",
     "iopub.status.idle": "2023-11-21T06:37:55.872124Z",
     "shell.execute_reply": "2023-11-21T06:37:55.871100Z",
     "shell.execute_reply.started": "2023-11-21T06:37:53.007091Z"
    }
   },
   "outputs": [
    {
     "data": {
      "text/html": [
       "        <script type=\"text/javascript\">\n",
       "        window.PlotlyConfig = {MathJaxConfig: 'local'};\n",
       "        if (window.MathJax && window.MathJax.Hub && window.MathJax.Hub.Config) {window.MathJax.Hub.Config({SVG: {font: \"STIX-Web\"}});}\n",
       "        if (typeof require !== 'undefined') {\n",
       "        require.undef(\"plotly\");\n",
       "        requirejs.config({\n",
       "            paths: {\n",
       "                'plotly': ['https://cdn.plot.ly/plotly-2.12.1.min']\n",
       "            }\n",
       "        });\n",
       "        require(['plotly'], function(Plotly) {\n",
       "            window._Plotly = Plotly;\n",
       "        });\n",
       "        }\n",
       "        </script>\n",
       "        "
      ]
     },
     "metadata": {},
     "output_type": "display_data"
    },
    {
     "data": {
      "application/vnd.plotly.v1+json": {
       "config": {
        "linkText": "Export to plot.ly",
        "plotlyServerURL": "https://plot.ly",
        "showLink": false
       },
       "data": [
        {
         "name": "Benign",
         "orientation": "v",
         "text": [
          740287
         ],
         "textposition": "outside",
         "type": "bar",
         "x": [
          "Benign"
         ],
         "y": [
          740287
         ]
        },
        {
         "name": "DDoS attacks-LOIC-HTTP",
         "orientation": "v",
         "text": [
          575364
         ],
         "textposition": "outside",
         "type": "bar",
         "x": [
          "DDoS attacks-LOIC-HTTP "
         ],
         "y": [
          575364
         ]
        },
        {
         "name": "DDOS attack-HOIC  ",
         "orientation": "v",
         "text": [
          198861
         ],
         "textposition": "outside",
         "type": "bar",
         "x": [
          "DDOS attack-HOIC  "
         ],
         "y": [
          198861
         ]
        },
        {
         "name": "DDOS attack-LOIC-UDP",
         "orientation": "v",
         "text": [
          1730
         ],
         "textposition": "outside",
         "type": "bar",
         "x": [
          "DDOS attack-LOIC-UDP"
         ],
         "y": [
          1730
         ]
        }
       ],
       "layout": {
        "height": 600,
        "template": {
         "data": {
          "bar": [
           {
            "error_x": {
             "color": "#2a3f5f"
            },
            "error_y": {
             "color": "#2a3f5f"
            },
            "marker": {
             "line": {
              "color": "#E5ECF6",
              "width": 0.5
             },
             "pattern": {
              "fillmode": "overlay",
              "size": 10,
              "solidity": 0.2
             }
            },
            "type": "bar"
           }
          ],
          "barpolar": [
           {
            "marker": {
             "line": {
              "color": "#E5ECF6",
              "width": 0.5
             },
             "pattern": {
              "fillmode": "overlay",
              "size": 10,
              "solidity": 0.2
             }
            },
            "type": "barpolar"
           }
          ],
          "carpet": [
           {
            "aaxis": {
             "endlinecolor": "#2a3f5f",
             "gridcolor": "white",
             "linecolor": "white",
             "minorgridcolor": "white",
             "startlinecolor": "#2a3f5f"
            },
            "baxis": {
             "endlinecolor": "#2a3f5f",
             "gridcolor": "white",
             "linecolor": "white",
             "minorgridcolor": "white",
             "startlinecolor": "#2a3f5f"
            },
            "type": "carpet"
           }
          ],
          "choropleth": [
           {
            "colorbar": {
             "outlinewidth": 0,
             "ticks": ""
            },
            "type": "choropleth"
           }
          ],
          "contour": [
           {
            "colorbar": {
             "outlinewidth": 0,
             "ticks": ""
            },
            "colorscale": [
             [
              0,
              "#0d0887"
             ],
             [
              0.1111111111111111,
              "#46039f"
             ],
             [
              0.2222222222222222,
              "#7201a8"
             ],
             [
              0.3333333333333333,
              "#9c179e"
             ],
             [
              0.4444444444444444,
              "#bd3786"
             ],
             [
              0.5555555555555556,
              "#d8576b"
             ],
             [
              0.6666666666666666,
              "#ed7953"
             ],
             [
              0.7777777777777778,
              "#fb9f3a"
             ],
             [
              0.8888888888888888,
              "#fdca26"
             ],
             [
              1,
              "#f0f921"
             ]
            ],
            "type": "contour"
           }
          ],
          "contourcarpet": [
           {
            "colorbar": {
             "outlinewidth": 0,
             "ticks": ""
            },
            "type": "contourcarpet"
           }
          ],
          "heatmap": [
           {
            "colorbar": {
             "outlinewidth": 0,
             "ticks": ""
            },
            "colorscale": [
             [
              0,
              "#0d0887"
             ],
             [
              0.1111111111111111,
              "#46039f"
             ],
             [
              0.2222222222222222,
              "#7201a8"
             ],
             [
              0.3333333333333333,
              "#9c179e"
             ],
             [
              0.4444444444444444,
              "#bd3786"
             ],
             [
              0.5555555555555556,
              "#d8576b"
             ],
             [
              0.6666666666666666,
              "#ed7953"
             ],
             [
              0.7777777777777778,
              "#fb9f3a"
             ],
             [
              0.8888888888888888,
              "#fdca26"
             ],
             [
              1,
              "#f0f921"
             ]
            ],
            "type": "heatmap"
           }
          ],
          "heatmapgl": [
           {
            "colorbar": {
             "outlinewidth": 0,
             "ticks": ""
            },
            "colorscale": [
             [
              0,
              "#0d0887"
             ],
             [
              0.1111111111111111,
              "#46039f"
             ],
             [
              0.2222222222222222,
              "#7201a8"
             ],
             [
              0.3333333333333333,
              "#9c179e"
             ],
             [
              0.4444444444444444,
              "#bd3786"
             ],
             [
              0.5555555555555556,
              "#d8576b"
             ],
             [
              0.6666666666666666,
              "#ed7953"
             ],
             [
              0.7777777777777778,
              "#fb9f3a"
             ],
             [
              0.8888888888888888,
              "#fdca26"
             ],
             [
              1,
              "#f0f921"
             ]
            ],
            "type": "heatmapgl"
           }
          ],
          "histogram": [
           {
            "marker": {
             "pattern": {
              "fillmode": "overlay",
              "size": 10,
              "solidity": 0.2
             }
            },
            "type": "histogram"
           }
          ],
          "histogram2d": [
           {
            "colorbar": {
             "outlinewidth": 0,
             "ticks": ""
            },
            "colorscale": [
             [
              0,
              "#0d0887"
             ],
             [
              0.1111111111111111,
              "#46039f"
             ],
             [
              0.2222222222222222,
              "#7201a8"
             ],
             [
              0.3333333333333333,
              "#9c179e"
             ],
             [
              0.4444444444444444,
              "#bd3786"
             ],
             [
              0.5555555555555556,
              "#d8576b"
             ],
             [
              0.6666666666666666,
              "#ed7953"
             ],
             [
              0.7777777777777778,
              "#fb9f3a"
             ],
             [
              0.8888888888888888,
              "#fdca26"
             ],
             [
              1,
              "#f0f921"
             ]
            ],
            "type": "histogram2d"
           }
          ],
          "histogram2dcontour": [
           {
            "colorbar": {
             "outlinewidth": 0,
             "ticks": ""
            },
            "colorscale": [
             [
              0,
              "#0d0887"
             ],
             [
              0.1111111111111111,
              "#46039f"
             ],
             [
              0.2222222222222222,
              "#7201a8"
             ],
             [
              0.3333333333333333,
              "#9c179e"
             ],
             [
              0.4444444444444444,
              "#bd3786"
             ],
             [
              0.5555555555555556,
              "#d8576b"
             ],
             [
              0.6666666666666666,
              "#ed7953"
             ],
             [
              0.7777777777777778,
              "#fb9f3a"
             ],
             [
              0.8888888888888888,
              "#fdca26"
             ],
             [
              1,
              "#f0f921"
             ]
            ],
            "type": "histogram2dcontour"
           }
          ],
          "mesh3d": [
           {
            "colorbar": {
             "outlinewidth": 0,
             "ticks": ""
            },
            "type": "mesh3d"
           }
          ],
          "parcoords": [
           {
            "line": {
             "colorbar": {
              "outlinewidth": 0,
              "ticks": ""
             }
            },
            "type": "parcoords"
           }
          ],
          "pie": [
           {
            "automargin": true,
            "type": "pie"
           }
          ],
          "scatter": [
           {
            "fillpattern": {
             "fillmode": "overlay",
             "size": 10,
             "solidity": 0.2
            },
            "type": "scatter"
           }
          ],
          "scatter3d": [
           {
            "line": {
             "colorbar": {
              "outlinewidth": 0,
              "ticks": ""
             }
            },
            "marker": {
             "colorbar": {
              "outlinewidth": 0,
              "ticks": ""
             }
            },
            "type": "scatter3d"
           }
          ],
          "scattercarpet": [
           {
            "marker": {
             "colorbar": {
              "outlinewidth": 0,
              "ticks": ""
             }
            },
            "type": "scattercarpet"
           }
          ],
          "scattergeo": [
           {
            "marker": {
             "colorbar": {
              "outlinewidth": 0,
              "ticks": ""
             }
            },
            "type": "scattergeo"
           }
          ],
          "scattergl": [
           {
            "marker": {
             "colorbar": {
              "outlinewidth": 0,
              "ticks": ""
             }
            },
            "type": "scattergl"
           }
          ],
          "scattermapbox": [
           {
            "marker": {
             "colorbar": {
              "outlinewidth": 0,
              "ticks": ""
             }
            },
            "type": "scattermapbox"
           }
          ],
          "scatterpolar": [
           {
            "marker": {
             "colorbar": {
              "outlinewidth": 0,
              "ticks": ""
             }
            },
            "type": "scatterpolar"
           }
          ],
          "scatterpolargl": [
           {
            "marker": {
             "colorbar": {
              "outlinewidth": 0,
              "ticks": ""
             }
            },
            "type": "scatterpolargl"
           }
          ],
          "scatterternary": [
           {
            "marker": {
             "colorbar": {
              "outlinewidth": 0,
              "ticks": ""
             }
            },
            "type": "scatterternary"
           }
          ],
          "surface": [
           {
            "colorbar": {
             "outlinewidth": 0,
             "ticks": ""
            },
            "colorscale": [
             [
              0,
              "#0d0887"
             ],
             [
              0.1111111111111111,
              "#46039f"
             ],
             [
              0.2222222222222222,
              "#7201a8"
             ],
             [
              0.3333333333333333,
              "#9c179e"
             ],
             [
              0.4444444444444444,
              "#bd3786"
             ],
             [
              0.5555555555555556,
              "#d8576b"
             ],
             [
              0.6666666666666666,
              "#ed7953"
             ],
             [
              0.7777777777777778,
              "#fb9f3a"
             ],
             [
              0.8888888888888888,
              "#fdca26"
             ],
             [
              1,
              "#f0f921"
             ]
            ],
            "type": "surface"
           }
          ],
          "table": [
           {
            "cells": {
             "fill": {
              "color": "#EBF0F8"
             },
             "line": {
              "color": "white"
             }
            },
            "header": {
             "fill": {
              "color": "#C8D4E3"
             },
             "line": {
              "color": "white"
             }
            },
            "type": "table"
           }
          ]
         },
         "layout": {
          "annotationdefaults": {
           "arrowcolor": "#2a3f5f",
           "arrowhead": 0,
           "arrowwidth": 1
          },
          "autotypenumbers": "strict",
          "coloraxis": {
           "colorbar": {
            "outlinewidth": 0,
            "ticks": ""
           }
          },
          "colorscale": {
           "diverging": [
            [
             0,
             "#8e0152"
            ],
            [
             0.1,
             "#c51b7d"
            ],
            [
             0.2,
             "#de77ae"
            ],
            [
             0.3,
             "#f1b6da"
            ],
            [
             0.4,
             "#fde0ef"
            ],
            [
             0.5,
             "#f7f7f7"
            ],
            [
             0.6,
             "#e6f5d0"
            ],
            [
             0.7,
             "#b8e186"
            ],
            [
             0.8,
             "#7fbc41"
            ],
            [
             0.9,
             "#4d9221"
            ],
            [
             1,
             "#276419"
            ]
           ],
           "sequential": [
            [
             0,
             "#0d0887"
            ],
            [
             0.1111111111111111,
             "#46039f"
            ],
            [
             0.2222222222222222,
             "#7201a8"
            ],
            [
             0.3333333333333333,
             "#9c179e"
            ],
            [
             0.4444444444444444,
             "#bd3786"
            ],
            [
             0.5555555555555556,
             "#d8576b"
            ],
            [
             0.6666666666666666,
             "#ed7953"
            ],
            [
             0.7777777777777778,
             "#fb9f3a"
            ],
            [
             0.8888888888888888,
             "#fdca26"
            ],
            [
             1,
             "#f0f921"
            ]
           ],
           "sequentialminus": [
            [
             0,
             "#0d0887"
            ],
            [
             0.1111111111111111,
             "#46039f"
            ],
            [
             0.2222222222222222,
             "#7201a8"
            ],
            [
             0.3333333333333333,
             "#9c179e"
            ],
            [
             0.4444444444444444,
             "#bd3786"
            ],
            [
             0.5555555555555556,
             "#d8576b"
            ],
            [
             0.6666666666666666,
             "#ed7953"
            ],
            [
             0.7777777777777778,
             "#fb9f3a"
            ],
            [
             0.8888888888888888,
             "#fdca26"
            ],
            [
             1,
             "#f0f921"
            ]
           ]
          },
          "colorway": [
           "#636efa",
           "#EF553B",
           "#00cc96",
           "#ab63fa",
           "#FFA15A",
           "#19d3f3",
           "#FF6692",
           "#B6E880",
           "#FF97FF",
           "#FECB52"
          ],
          "font": {
           "color": "#2a3f5f"
          },
          "geo": {
           "bgcolor": "white",
           "lakecolor": "white",
           "landcolor": "#E5ECF6",
           "showlakes": true,
           "showland": true,
           "subunitcolor": "white"
          },
          "hoverlabel": {
           "align": "left"
          },
          "hovermode": "closest",
          "mapbox": {
           "style": "light"
          },
          "paper_bgcolor": "white",
          "plot_bgcolor": "#E5ECF6",
          "polar": {
           "angularaxis": {
            "gridcolor": "white",
            "linecolor": "white",
            "ticks": ""
           },
           "bgcolor": "#E5ECF6",
           "radialaxis": {
            "gridcolor": "white",
            "linecolor": "white",
            "ticks": ""
           }
          },
          "scene": {
           "xaxis": {
            "backgroundcolor": "#E5ECF6",
            "gridcolor": "white",
            "gridwidth": 2,
            "linecolor": "white",
            "showbackground": true,
            "ticks": "",
            "zerolinecolor": "white"
           },
           "yaxis": {
            "backgroundcolor": "#E5ECF6",
            "gridcolor": "white",
            "gridwidth": 2,
            "linecolor": "white",
            "showbackground": true,
            "ticks": "",
            "zerolinecolor": "white"
           },
           "zaxis": {
            "backgroundcolor": "#E5ECF6",
            "gridcolor": "white",
            "gridwidth": 2,
            "linecolor": "white",
            "showbackground": true,
            "ticks": "",
            "zerolinecolor": "white"
           }
          },
          "shapedefaults": {
           "line": {
            "color": "#2a3f5f"
           }
          },
          "ternary": {
           "aaxis": {
            "gridcolor": "white",
            "linecolor": "white",
            "ticks": ""
           },
           "baxis": {
            "gridcolor": "white",
            "linecolor": "white",
            "ticks": ""
           },
           "bgcolor": "#E5ECF6",
           "caxis": {
            "gridcolor": "white",
            "linecolor": "white",
            "ticks": ""
           }
          },
          "title": {
           "x": 0.05
          },
          "xaxis": {
           "automargin": true,
           "gridcolor": "white",
           "linecolor": "white",
           "ticks": "",
           "title": {
            "standoff": 15
           },
           "zerolinecolor": "white",
           "zerolinewidth": 2
          },
          "yaxis": {
           "automargin": true,
           "gridcolor": "white",
           "linecolor": "white",
           "ticks": "",
           "title": {
            "standoff": 15
           },
           "zerolinecolor": "white",
           "zerolinewidth": 2
          }
         }
        },
        "title": {
         "text": "Class Distribution"
        },
        "width": 800,
        "xaxis": {
         "title": {
          "text": "Attack Name"
         }
        },
        "yaxis": {
         "title": {
          "text": "Number of attacks"
         }
        }
       }
      },
      "text/html": [
       "<div>                            <div id=\"4a08b106-856e-42ce-a733-1ab97520ce1b\" class=\"plotly-graph-div\" style=\"height:600px; width:800px;\"></div>            <script type=\"text/javascript\">                require([\"plotly\"], function(Plotly) {                    window.PLOTLYENV=window.PLOTLYENV || {};                                    if (document.getElementById(\"4a08b106-856e-42ce-a733-1ab97520ce1b\")) {                    Plotly.newPlot(                        \"4a08b106-856e-42ce-a733-1ab97520ce1b\",                        [{\"name\":\"Benign\",\"orientation\":\"v\",\"text\":[740287.0],\"textposition\":\"outside\",\"x\":[\"Benign\"],\"y\":[740287],\"type\":\"bar\"},{\"name\":\"DDoS attacks-LOIC-HTTP\",\"orientation\":\"v\",\"text\":[575364.0],\"textposition\":\"outside\",\"x\":[\"DDoS attacks-LOIC-HTTP \"],\"y\":[575364],\"type\":\"bar\"},{\"name\":\"DDOS attack-HOIC  \",\"orientation\":\"v\",\"text\":[198861.0],\"textposition\":\"outside\",\"x\":[\"DDOS attack-HOIC  \"],\"y\":[198861],\"type\":\"bar\"},{\"name\":\"DDOS attack-LOIC-UDP\",\"orientation\":\"v\",\"text\":[1730.0],\"textposition\":\"outside\",\"x\":[\"DDOS attack-LOIC-UDP\"],\"y\":[1730],\"type\":\"bar\"}],                        {\"height\":600,\"template\":{\"data\":{\"barpolar\":[{\"marker\":{\"line\":{\"color\":\"#E5ECF6\",\"width\":0.5},\"pattern\":{\"fillmode\":\"overlay\",\"size\":10,\"solidity\":0.2}},\"type\":\"barpolar\"}],\"bar\":[{\"error_x\":{\"color\":\"#2a3f5f\"},\"error_y\":{\"color\":\"#2a3f5f\"},\"marker\":{\"line\":{\"color\":\"#E5ECF6\",\"width\":0.5},\"pattern\":{\"fillmode\":\"overlay\",\"size\":10,\"solidity\":0.2}},\"type\":\"bar\"}],\"carpet\":[{\"aaxis\":{\"endlinecolor\":\"#2a3f5f\",\"gridcolor\":\"white\",\"linecolor\":\"white\",\"minorgridcolor\":\"white\",\"startlinecolor\":\"#2a3f5f\"},\"baxis\":{\"endlinecolor\":\"#2a3f5f\",\"gridcolor\":\"white\",\"linecolor\":\"white\",\"minorgridcolor\":\"white\",\"startlinecolor\":\"#2a3f5f\"},\"type\":\"carpet\"}],\"choropleth\":[{\"colorbar\":{\"outlinewidth\":0,\"ticks\":\"\"},\"type\":\"choropleth\"}],\"contourcarpet\":[{\"colorbar\":{\"outlinewidth\":0,\"ticks\":\"\"},\"type\":\"contourcarpet\"}],\"contour\":[{\"colorbar\":{\"outlinewidth\":0,\"ticks\":\"\"},\"colorscale\":[[0.0,\"#0d0887\"],[0.1111111111111111,\"#46039f\"],[0.2222222222222222,\"#7201a8\"],[0.3333333333333333,\"#9c179e\"],[0.4444444444444444,\"#bd3786\"],[0.5555555555555556,\"#d8576b\"],[0.6666666666666666,\"#ed7953\"],[0.7777777777777778,\"#fb9f3a\"],[0.8888888888888888,\"#fdca26\"],[1.0,\"#f0f921\"]],\"type\":\"contour\"}],\"heatmapgl\":[{\"colorbar\":{\"outlinewidth\":0,\"ticks\":\"\"},\"colorscale\":[[0.0,\"#0d0887\"],[0.1111111111111111,\"#46039f\"],[0.2222222222222222,\"#7201a8\"],[0.3333333333333333,\"#9c179e\"],[0.4444444444444444,\"#bd3786\"],[0.5555555555555556,\"#d8576b\"],[0.6666666666666666,\"#ed7953\"],[0.7777777777777778,\"#fb9f3a\"],[0.8888888888888888,\"#fdca26\"],[1.0,\"#f0f921\"]],\"type\":\"heatmapgl\"}],\"heatmap\":[{\"colorbar\":{\"outlinewidth\":0,\"ticks\":\"\"},\"colorscale\":[[0.0,\"#0d0887\"],[0.1111111111111111,\"#46039f\"],[0.2222222222222222,\"#7201a8\"],[0.3333333333333333,\"#9c179e\"],[0.4444444444444444,\"#bd3786\"],[0.5555555555555556,\"#d8576b\"],[0.6666666666666666,\"#ed7953\"],[0.7777777777777778,\"#fb9f3a\"],[0.8888888888888888,\"#fdca26\"],[1.0,\"#f0f921\"]],\"type\":\"heatmap\"}],\"histogram2dcontour\":[{\"colorbar\":{\"outlinewidth\":0,\"ticks\":\"\"},\"colorscale\":[[0.0,\"#0d0887\"],[0.1111111111111111,\"#46039f\"],[0.2222222222222222,\"#7201a8\"],[0.3333333333333333,\"#9c179e\"],[0.4444444444444444,\"#bd3786\"],[0.5555555555555556,\"#d8576b\"],[0.6666666666666666,\"#ed7953\"],[0.7777777777777778,\"#fb9f3a\"],[0.8888888888888888,\"#fdca26\"],[1.0,\"#f0f921\"]],\"type\":\"histogram2dcontour\"}],\"histogram2d\":[{\"colorbar\":{\"outlinewidth\":0,\"ticks\":\"\"},\"colorscale\":[[0.0,\"#0d0887\"],[0.1111111111111111,\"#46039f\"],[0.2222222222222222,\"#7201a8\"],[0.3333333333333333,\"#9c179e\"],[0.4444444444444444,\"#bd3786\"],[0.5555555555555556,\"#d8576b\"],[0.6666666666666666,\"#ed7953\"],[0.7777777777777778,\"#fb9f3a\"],[0.8888888888888888,\"#fdca26\"],[1.0,\"#f0f921\"]],\"type\":\"histogram2d\"}],\"histogram\":[{\"marker\":{\"pattern\":{\"fillmode\":\"overlay\",\"size\":10,\"solidity\":0.2}},\"type\":\"histogram\"}],\"mesh3d\":[{\"colorbar\":{\"outlinewidth\":0,\"ticks\":\"\"},\"type\":\"mesh3d\"}],\"parcoords\":[{\"line\":{\"colorbar\":{\"outlinewidth\":0,\"ticks\":\"\"}},\"type\":\"parcoords\"}],\"pie\":[{\"automargin\":true,\"type\":\"pie\"}],\"scatter3d\":[{\"line\":{\"colorbar\":{\"outlinewidth\":0,\"ticks\":\"\"}},\"marker\":{\"colorbar\":{\"outlinewidth\":0,\"ticks\":\"\"}},\"type\":\"scatter3d\"}],\"scattercarpet\":[{\"marker\":{\"colorbar\":{\"outlinewidth\":0,\"ticks\":\"\"}},\"type\":\"scattercarpet\"}],\"scattergeo\":[{\"marker\":{\"colorbar\":{\"outlinewidth\":0,\"ticks\":\"\"}},\"type\":\"scattergeo\"}],\"scattergl\":[{\"marker\":{\"colorbar\":{\"outlinewidth\":0,\"ticks\":\"\"}},\"type\":\"scattergl\"}],\"scattermapbox\":[{\"marker\":{\"colorbar\":{\"outlinewidth\":0,\"ticks\":\"\"}},\"type\":\"scattermapbox\"}],\"scatterpolargl\":[{\"marker\":{\"colorbar\":{\"outlinewidth\":0,\"ticks\":\"\"}},\"type\":\"scatterpolargl\"}],\"scatterpolar\":[{\"marker\":{\"colorbar\":{\"outlinewidth\":0,\"ticks\":\"\"}},\"type\":\"scatterpolar\"}],\"scatter\":[{\"fillpattern\":{\"fillmode\":\"overlay\",\"size\":10,\"solidity\":0.2},\"type\":\"scatter\"}],\"scatterternary\":[{\"marker\":{\"colorbar\":{\"outlinewidth\":0,\"ticks\":\"\"}},\"type\":\"scatterternary\"}],\"surface\":[{\"colorbar\":{\"outlinewidth\":0,\"ticks\":\"\"},\"colorscale\":[[0.0,\"#0d0887\"],[0.1111111111111111,\"#46039f\"],[0.2222222222222222,\"#7201a8\"],[0.3333333333333333,\"#9c179e\"],[0.4444444444444444,\"#bd3786\"],[0.5555555555555556,\"#d8576b\"],[0.6666666666666666,\"#ed7953\"],[0.7777777777777778,\"#fb9f3a\"],[0.8888888888888888,\"#fdca26\"],[1.0,\"#f0f921\"]],\"type\":\"surface\"}],\"table\":[{\"cells\":{\"fill\":{\"color\":\"#EBF0F8\"},\"line\":{\"color\":\"white\"}},\"header\":{\"fill\":{\"color\":\"#C8D4E3\"},\"line\":{\"color\":\"white\"}},\"type\":\"table\"}]},\"layout\":{\"annotationdefaults\":{\"arrowcolor\":\"#2a3f5f\",\"arrowhead\":0,\"arrowwidth\":1},\"autotypenumbers\":\"strict\",\"coloraxis\":{\"colorbar\":{\"outlinewidth\":0,\"ticks\":\"\"}},\"colorscale\":{\"diverging\":[[0,\"#8e0152\"],[0.1,\"#c51b7d\"],[0.2,\"#de77ae\"],[0.3,\"#f1b6da\"],[0.4,\"#fde0ef\"],[0.5,\"#f7f7f7\"],[0.6,\"#e6f5d0\"],[0.7,\"#b8e186\"],[0.8,\"#7fbc41\"],[0.9,\"#4d9221\"],[1,\"#276419\"]],\"sequential\":[[0.0,\"#0d0887\"],[0.1111111111111111,\"#46039f\"],[0.2222222222222222,\"#7201a8\"],[0.3333333333333333,\"#9c179e\"],[0.4444444444444444,\"#bd3786\"],[0.5555555555555556,\"#d8576b\"],[0.6666666666666666,\"#ed7953\"],[0.7777777777777778,\"#fb9f3a\"],[0.8888888888888888,\"#fdca26\"],[1.0,\"#f0f921\"]],\"sequentialminus\":[[0.0,\"#0d0887\"],[0.1111111111111111,\"#46039f\"],[0.2222222222222222,\"#7201a8\"],[0.3333333333333333,\"#9c179e\"],[0.4444444444444444,\"#bd3786\"],[0.5555555555555556,\"#d8576b\"],[0.6666666666666666,\"#ed7953\"],[0.7777777777777778,\"#fb9f3a\"],[0.8888888888888888,\"#fdca26\"],[1.0,\"#f0f921\"]]},\"colorway\":[\"#636efa\",\"#EF553B\",\"#00cc96\",\"#ab63fa\",\"#FFA15A\",\"#19d3f3\",\"#FF6692\",\"#B6E880\",\"#FF97FF\",\"#FECB52\"],\"font\":{\"color\":\"#2a3f5f\"},\"geo\":{\"bgcolor\":\"white\",\"lakecolor\":\"white\",\"landcolor\":\"#E5ECF6\",\"showlakes\":true,\"showland\":true,\"subunitcolor\":\"white\"},\"hoverlabel\":{\"align\":\"left\"},\"hovermode\":\"closest\",\"mapbox\":{\"style\":\"light\"},\"paper_bgcolor\":\"white\",\"plot_bgcolor\":\"#E5ECF6\",\"polar\":{\"angularaxis\":{\"gridcolor\":\"white\",\"linecolor\":\"white\",\"ticks\":\"\"},\"bgcolor\":\"#E5ECF6\",\"radialaxis\":{\"gridcolor\":\"white\",\"linecolor\":\"white\",\"ticks\":\"\"}},\"scene\":{\"xaxis\":{\"backgroundcolor\":\"#E5ECF6\",\"gridcolor\":\"white\",\"gridwidth\":2,\"linecolor\":\"white\",\"showbackground\":true,\"ticks\":\"\",\"zerolinecolor\":\"white\"},\"yaxis\":{\"backgroundcolor\":\"#E5ECF6\",\"gridcolor\":\"white\",\"gridwidth\":2,\"linecolor\":\"white\",\"showbackground\":true,\"ticks\":\"\",\"zerolinecolor\":\"white\"},\"zaxis\":{\"backgroundcolor\":\"#E5ECF6\",\"gridcolor\":\"white\",\"gridwidth\":2,\"linecolor\":\"white\",\"showbackground\":true,\"ticks\":\"\",\"zerolinecolor\":\"white\"}},\"shapedefaults\":{\"line\":{\"color\":\"#2a3f5f\"}},\"ternary\":{\"aaxis\":{\"gridcolor\":\"white\",\"linecolor\":\"white\",\"ticks\":\"\"},\"baxis\":{\"gridcolor\":\"white\",\"linecolor\":\"white\",\"ticks\":\"\"},\"bgcolor\":\"#E5ECF6\",\"caxis\":{\"gridcolor\":\"white\",\"linecolor\":\"white\",\"ticks\":\"\"}},\"title\":{\"x\":0.05},\"xaxis\":{\"automargin\":true,\"gridcolor\":\"white\",\"linecolor\":\"white\",\"ticks\":\"\",\"title\":{\"standoff\":15},\"zerolinecolor\":\"white\",\"zerolinewidth\":2},\"yaxis\":{\"automargin\":true,\"gridcolor\":\"white\",\"linecolor\":\"white\",\"ticks\":\"\",\"title\":{\"standoff\":15},\"zerolinecolor\":\"white\",\"zerolinewidth\":2}}},\"title\":{\"text\":\"Class Distribution\"},\"width\":800,\"xaxis\":{\"title\":{\"text\":\"Attack Name\"}},\"yaxis\":{\"title\":{\"text\":\"Number of attacks\"}}},                        {\"responsive\": true}                    ).then(function(){\n",
       "                            \n",
       "var gd = document.getElementById('4a08b106-856e-42ce-a733-1ab97520ce1b');\n",
       "var x = new MutationObserver(function (mutations, observer) {{\n",
       "        var display = window.getComputedStyle(gd).display;\n",
       "        if (!display || display === 'none') {{\n",
       "            console.log([gd, 'removed!']);\n",
       "            Plotly.purge(gd);\n",
       "            observer.disconnect();\n",
       "        }}\n",
       "}});\n",
       "\n",
       "// Listen for the removal of the full notebook cells\n",
       "var notebookContainer = gd.closest('#notebook-container');\n",
       "if (notebookContainer) {{\n",
       "    x.observe(notebookContainer, {childList: true});\n",
       "}}\n",
       "\n",
       "// Listen for the clearing of the current output cell\n",
       "var outputEl = gd.closest('.output');\n",
       "if (outputEl) {{\n",
       "    x.observe(outputEl, {childList: true});\n",
       "}}\n",
       "\n",
       "                        })                };                });            </script>        </div>"
      ]
     },
     "metadata": {},
     "output_type": "display_data"
    }
   ],
   "source": [
    "#Visualize the target feature's class distribution\n",
    "from plotly.offline import init_notebook_mode, iplot, plot\n",
    "import plotly as py\n",
    "import plotly.express as px\n",
    "init_notebook_mode(connected=True)\n",
    "import plotly.graph_objs as go\n",
    "\n",
    "fig = go.Figure(data=[\n",
    "    go.Bar(name='Benign', \n",
    "           y=df[\"Label\"].value_counts().values[0:1],\n",
    "           x=['Benign'],\n",
    "           text = df[\"Label\"].value_counts()[0:1],\n",
    "           orientation='v',\n",
    "           textposition='outside',),\n",
    "    go.Bar(name='DDoS attacks-LOIC-HTTP', \n",
    "           y=df[\"Label\"].value_counts().values[1:2],\n",
    "           x=['DDoS attacks-LOIC-HTTP '],\n",
    "           text = df[\"Label\"].value_counts()[1:2],\n",
    "           orientation='v',\n",
    "           textposition='outside',),\n",
    "    go.Bar(name='DDOS attack-HOIC  ', \n",
    "           y=df[\"Label\"].value_counts().values[2:3],\n",
    "           x=['DDOS attack-HOIC  '],\n",
    "           text = df[\"Label\"].value_counts()[2:3],\n",
    "           orientation='v',\n",
    "           textposition='outside',),\n",
    "    go.Bar(name='DDOS attack-LOIC-UDP', \n",
    "           y=df[\"Label\"].value_counts().values[3:],\n",
    "           x=['DDOS attack-LOIC-UDP'],\n",
    "           text = df[\"Label\"].value_counts()[3:],\n",
    "           orientation='v',\n",
    "           textposition='outside',)\n",
    "])\n",
    "# Change the bar mode\n",
    "fig.update_layout(\n",
    "                  width=800,\n",
    "                  height=600,\n",
    "                  title=f'Class Distribution',\n",
    "                  yaxis_title='Number of attacks',\n",
    "                  xaxis_title='Attack Name',)\n",
    "iplot(fig)"
   ]
  },
  {
   "cell_type": "code",
   "execution_count": 12,
   "metadata": {},
   "outputs": [
    {
     "data": {
      "text/plain": [
       "array(['Benign', 'DDoS attacks-LOIC-HTTP', 'DDOS attack-LOIC-UDP',\n",
       "       'DDOS attack-HOIC'], dtype=object)"
      ]
     },
     "execution_count": 12,
     "metadata": {},
     "output_type": "execute_result"
    }
   ],
   "source": [
    "df['Label'].unique()"
   ]
  },
  {
   "cell_type": "code",
   "execution_count": 13,
   "metadata": {},
   "outputs": [],
   "source": [
    "from sklearn.preprocessing import LabelEncoder \n",
    "le = LabelEncoder()"
   ]
  },
  {
   "cell_type": "code",
   "execution_count": 14,
   "metadata": {},
   "outputs": [],
   "source": [
    "df['Label'] = le.fit_transform(df['Label'])"
   ]
  },
  {
   "cell_type": "code",
   "execution_count": 15,
   "metadata": {},
   "outputs": [
    {
     "data": {
      "text/plain": [
       "Label\n",
       "0    740287\n",
       "3    575364\n",
       "1    198861\n",
       "2      1730\n",
       "Name: count, dtype: int64"
      ]
     },
     "execution_count": 15,
     "metadata": {},
     "output_type": "execute_result"
    }
   ],
   "source": [
    "df[\"Label\"].value_counts()"
   ]
  },
  {
   "cell_type": "code",
   "execution_count": 16,
   "metadata": {},
   "outputs": [
    {
     "data": {
      "text/html": [
       "<div>\n",
       "<style scoped>\n",
       "    .dataframe tbody tr th:only-of-type {\n",
       "        vertical-align: middle;\n",
       "    }\n",
       "\n",
       "    .dataframe tbody tr th {\n",
       "        vertical-align: top;\n",
       "    }\n",
       "\n",
       "    .dataframe thead th {\n",
       "        text-align: right;\n",
       "    }\n",
       "</style>\n",
       "<table border=\"1\" class=\"dataframe\">\n",
       "  <thead>\n",
       "    <tr style=\"text-align: right;\">\n",
       "      <th></th>\n",
       "      <th>Protocol</th>\n",
       "      <th>Flow Duration</th>\n",
       "      <th>Total Fwd Packets</th>\n",
       "      <th>Total Backward Packets</th>\n",
       "      <th>Fwd Packets Length Total</th>\n",
       "      <th>Bwd Packets Length Total</th>\n",
       "      <th>Fwd Packet Length Max</th>\n",
       "      <th>Fwd Packet Length Min</th>\n",
       "      <th>Fwd Packet Length Mean</th>\n",
       "      <th>Fwd Packet Length Std</th>\n",
       "      <th>...</th>\n",
       "      <th>Fwd Seg Size Min</th>\n",
       "      <th>Active Mean</th>\n",
       "      <th>Active Std</th>\n",
       "      <th>Active Max</th>\n",
       "      <th>Active Min</th>\n",
       "      <th>Idle Mean</th>\n",
       "      <th>Idle Std</th>\n",
       "      <th>Idle Max</th>\n",
       "      <th>Idle Min</th>\n",
       "      <th>Label</th>\n",
       "    </tr>\n",
       "  </thead>\n",
       "  <tbody>\n",
       "    <tr>\n",
       "      <th>0</th>\n",
       "      <td>6</td>\n",
       "      <td>888751</td>\n",
       "      <td>11</td>\n",
       "      <td>11</td>\n",
       "      <td>1249</td>\n",
       "      <td>1969</td>\n",
       "      <td>736</td>\n",
       "      <td>0</td>\n",
       "      <td>113.545456</td>\n",
       "      <td>220.896072</td>\n",
       "      <td>...</td>\n",
       "      <td>32</td>\n",
       "      <td>0.0</td>\n",
       "      <td>0.0</td>\n",
       "      <td>0</td>\n",
       "      <td>0</td>\n",
       "      <td>0.0</td>\n",
       "      <td>0.000000</td>\n",
       "      <td>0</td>\n",
       "      <td>0</td>\n",
       "      <td>0</td>\n",
       "    </tr>\n",
       "    <tr>\n",
       "      <th>1</th>\n",
       "      <td>0</td>\n",
       "      <td>112642816</td>\n",
       "      <td>3</td>\n",
       "      <td>0</td>\n",
       "      <td>0</td>\n",
       "      <td>0</td>\n",
       "      <td>0</td>\n",
       "      <td>0</td>\n",
       "      <td>0.000000</td>\n",
       "      <td>0.000000</td>\n",
       "      <td>...</td>\n",
       "      <td>0</td>\n",
       "      <td>0.0</td>\n",
       "      <td>0.0</td>\n",
       "      <td>0</td>\n",
       "      <td>0</td>\n",
       "      <td>56300000.0</td>\n",
       "      <td>7.071068</td>\n",
       "      <td>56300000</td>\n",
       "      <td>56300000</td>\n",
       "      <td>0</td>\n",
       "    </tr>\n",
       "    <tr>\n",
       "      <th>2</th>\n",
       "      <td>0</td>\n",
       "      <td>112642712</td>\n",
       "      <td>3</td>\n",
       "      <td>0</td>\n",
       "      <td>0</td>\n",
       "      <td>0</td>\n",
       "      <td>0</td>\n",
       "      <td>0</td>\n",
       "      <td>0.000000</td>\n",
       "      <td>0.000000</td>\n",
       "      <td>...</td>\n",
       "      <td>0</td>\n",
       "      <td>0.0</td>\n",
       "      <td>0.0</td>\n",
       "      <td>0</td>\n",
       "      <td>0</td>\n",
       "      <td>56300000.0</td>\n",
       "      <td>18.384777</td>\n",
       "      <td>56300000</td>\n",
       "      <td>56300000</td>\n",
       "      <td>0</td>\n",
       "    </tr>\n",
       "    <tr>\n",
       "      <th>3</th>\n",
       "      <td>0</td>\n",
       "      <td>112642648</td>\n",
       "      <td>3</td>\n",
       "      <td>0</td>\n",
       "      <td>0</td>\n",
       "      <td>0</td>\n",
       "      <td>0</td>\n",
       "      <td>0</td>\n",
       "      <td>0.000000</td>\n",
       "      <td>0.000000</td>\n",
       "      <td>...</td>\n",
       "      <td>0</td>\n",
       "      <td>0.0</td>\n",
       "      <td>0.0</td>\n",
       "      <td>0</td>\n",
       "      <td>0</td>\n",
       "      <td>56300000.0</td>\n",
       "      <td>5.656854</td>\n",
       "      <td>56300000</td>\n",
       "      <td>56300000</td>\n",
       "      <td>0</td>\n",
       "    </tr>\n",
       "    <tr>\n",
       "      <th>4</th>\n",
       "      <td>0</td>\n",
       "      <td>112642702</td>\n",
       "      <td>3</td>\n",
       "      <td>0</td>\n",
       "      <td>0</td>\n",
       "      <td>0</td>\n",
       "      <td>0</td>\n",
       "      <td>0</td>\n",
       "      <td>0.000000</td>\n",
       "      <td>0.000000</td>\n",
       "      <td>...</td>\n",
       "      <td>0</td>\n",
       "      <td>0.0</td>\n",
       "      <td>0.0</td>\n",
       "      <td>0</td>\n",
       "      <td>0</td>\n",
       "      <td>56300000.0</td>\n",
       "      <td>65.053825</td>\n",
       "      <td>56300000</td>\n",
       "      <td>56300000</td>\n",
       "      <td>0</td>\n",
       "    </tr>\n",
       "    <tr>\n",
       "      <th>...</th>\n",
       "      <td>...</td>\n",
       "      <td>...</td>\n",
       "      <td>...</td>\n",
       "      <td>...</td>\n",
       "      <td>...</td>\n",
       "      <td>...</td>\n",
       "      <td>...</td>\n",
       "      <td>...</td>\n",
       "      <td>...</td>\n",
       "      <td>...</td>\n",
       "      <td>...</td>\n",
       "      <td>...</td>\n",
       "      <td>...</td>\n",
       "      <td>...</td>\n",
       "      <td>...</td>\n",
       "      <td>...</td>\n",
       "      <td>...</td>\n",
       "      <td>...</td>\n",
       "      <td>...</td>\n",
       "      <td>...</td>\n",
       "      <td>...</td>\n",
       "    </tr>\n",
       "    <tr>\n",
       "      <th>561391</th>\n",
       "      <td>6</td>\n",
       "      <td>1252</td>\n",
       "      <td>5</td>\n",
       "      <td>2</td>\n",
       "      <td>935</td>\n",
       "      <td>274</td>\n",
       "      <td>935</td>\n",
       "      <td>0</td>\n",
       "      <td>187.000000</td>\n",
       "      <td>418.144714</td>\n",
       "      <td>...</td>\n",
       "      <td>20</td>\n",
       "      <td>0.0</td>\n",
       "      <td>0.0</td>\n",
       "      <td>0</td>\n",
       "      <td>0</td>\n",
       "      <td>0.0</td>\n",
       "      <td>0.000000</td>\n",
       "      <td>0</td>\n",
       "      <td>0</td>\n",
       "      <td>0</td>\n",
       "    </tr>\n",
       "    <tr>\n",
       "      <th>561392</th>\n",
       "      <td>6</td>\n",
       "      <td>19055</td>\n",
       "      <td>5</td>\n",
       "      <td>2</td>\n",
       "      <td>935</td>\n",
       "      <td>341</td>\n",
       "      <td>935</td>\n",
       "      <td>0</td>\n",
       "      <td>187.000000</td>\n",
       "      <td>418.144714</td>\n",
       "      <td>...</td>\n",
       "      <td>20</td>\n",
       "      <td>0.0</td>\n",
       "      <td>0.0</td>\n",
       "      <td>0</td>\n",
       "      <td>0</td>\n",
       "      <td>0.0</td>\n",
       "      <td>0.000000</td>\n",
       "      <td>0</td>\n",
       "      <td>0</td>\n",
       "      <td>0</td>\n",
       "    </tr>\n",
       "    <tr>\n",
       "      <th>561393</th>\n",
       "      <td>6</td>\n",
       "      <td>36677</td>\n",
       "      <td>5</td>\n",
       "      <td>2</td>\n",
       "      <td>935</td>\n",
       "      <td>341</td>\n",
       "      <td>935</td>\n",
       "      <td>0</td>\n",
       "      <td>187.000000</td>\n",
       "      <td>418.144714</td>\n",
       "      <td>...</td>\n",
       "      <td>20</td>\n",
       "      <td>0.0</td>\n",
       "      <td>0.0</td>\n",
       "      <td>0</td>\n",
       "      <td>0</td>\n",
       "      <td>0.0</td>\n",
       "      <td>0.000000</td>\n",
       "      <td>0</td>\n",
       "      <td>0</td>\n",
       "      <td>0</td>\n",
       "    </tr>\n",
       "    <tr>\n",
       "      <th>561394</th>\n",
       "      <td>6</td>\n",
       "      <td>1849</td>\n",
       "      <td>5</td>\n",
       "      <td>2</td>\n",
       "      <td>935</td>\n",
       "      <td>341</td>\n",
       "      <td>935</td>\n",
       "      <td>0</td>\n",
       "      <td>187.000000</td>\n",
       "      <td>418.144714</td>\n",
       "      <td>...</td>\n",
       "      <td>20</td>\n",
       "      <td>0.0</td>\n",
       "      <td>0.0</td>\n",
       "      <td>0</td>\n",
       "      <td>0</td>\n",
       "      <td>0.0</td>\n",
       "      <td>0.000000</td>\n",
       "      <td>0</td>\n",
       "      <td>0</td>\n",
       "      <td>0</td>\n",
       "    </tr>\n",
       "    <tr>\n",
       "      <th>561395</th>\n",
       "      <td>6</td>\n",
       "      <td>20580</td>\n",
       "      <td>5</td>\n",
       "      <td>2</td>\n",
       "      <td>935</td>\n",
       "      <td>299</td>\n",
       "      <td>935</td>\n",
       "      <td>0</td>\n",
       "      <td>187.000000</td>\n",
       "      <td>418.144714</td>\n",
       "      <td>...</td>\n",
       "      <td>20</td>\n",
       "      <td>0.0</td>\n",
       "      <td>0.0</td>\n",
       "      <td>0</td>\n",
       "      <td>0</td>\n",
       "      <td>0.0</td>\n",
       "      <td>0.000000</td>\n",
       "      <td>0</td>\n",
       "      <td>0</td>\n",
       "      <td>0</td>\n",
       "    </tr>\n",
       "  </tbody>\n",
       "</table>\n",
       "<p>1516242 rows × 78 columns</p>\n",
       "</div>"
      ],
      "text/plain": [
       "        Protocol  Flow Duration  Total Fwd Packets  Total Backward Packets  \\\n",
       "0              6         888751                 11                      11   \n",
       "1              0      112642816                  3                       0   \n",
       "2              0      112642712                  3                       0   \n",
       "3              0      112642648                  3                       0   \n",
       "4              0      112642702                  3                       0   \n",
       "...          ...            ...                ...                     ...   \n",
       "561391         6           1252                  5                       2   \n",
       "561392         6          19055                  5                       2   \n",
       "561393         6          36677                  5                       2   \n",
       "561394         6           1849                  5                       2   \n",
       "561395         6          20580                  5                       2   \n",
       "\n",
       "        Fwd Packets Length Total  Bwd Packets Length Total  \\\n",
       "0                           1249                      1969   \n",
       "1                              0                         0   \n",
       "2                              0                         0   \n",
       "3                              0                         0   \n",
       "4                              0                         0   \n",
       "...                          ...                       ...   \n",
       "561391                       935                       274   \n",
       "561392                       935                       341   \n",
       "561393                       935                       341   \n",
       "561394                       935                       341   \n",
       "561395                       935                       299   \n",
       "\n",
       "        Fwd Packet Length Max  Fwd Packet Length Min  Fwd Packet Length Mean  \\\n",
       "0                         736                      0              113.545456   \n",
       "1                           0                      0                0.000000   \n",
       "2                           0                      0                0.000000   \n",
       "3                           0                      0                0.000000   \n",
       "4                           0                      0                0.000000   \n",
       "...                       ...                    ...                     ...   \n",
       "561391                    935                      0              187.000000   \n",
       "561392                    935                      0              187.000000   \n",
       "561393                    935                      0              187.000000   \n",
       "561394                    935                      0              187.000000   \n",
       "561395                    935                      0              187.000000   \n",
       "\n",
       "        Fwd Packet Length Std  ...  Fwd Seg Size Min  Active Mean  Active Std  \\\n",
       "0                  220.896072  ...                32          0.0         0.0   \n",
       "1                    0.000000  ...                 0          0.0         0.0   \n",
       "2                    0.000000  ...                 0          0.0         0.0   \n",
       "3                    0.000000  ...                 0          0.0         0.0   \n",
       "4                    0.000000  ...                 0          0.0         0.0   \n",
       "...                       ...  ...               ...          ...         ...   \n",
       "561391             418.144714  ...                20          0.0         0.0   \n",
       "561392             418.144714  ...                20          0.0         0.0   \n",
       "561393             418.144714  ...                20          0.0         0.0   \n",
       "561394             418.144714  ...                20          0.0         0.0   \n",
       "561395             418.144714  ...                20          0.0         0.0   \n",
       "\n",
       "        Active Max  Active Min   Idle Mean   Idle Std  Idle Max  Idle Min  \\\n",
       "0                0           0         0.0   0.000000         0         0   \n",
       "1                0           0  56300000.0   7.071068  56300000  56300000   \n",
       "2                0           0  56300000.0  18.384777  56300000  56300000   \n",
       "3                0           0  56300000.0   5.656854  56300000  56300000   \n",
       "4                0           0  56300000.0  65.053825  56300000  56300000   \n",
       "...            ...         ...         ...        ...       ...       ...   \n",
       "561391           0           0         0.0   0.000000         0         0   \n",
       "561392           0           0         0.0   0.000000         0         0   \n",
       "561393           0           0         0.0   0.000000         0         0   \n",
       "561394           0           0         0.0   0.000000         0         0   \n",
       "561395           0           0         0.0   0.000000         0         0   \n",
       "\n",
       "        Label  \n",
       "0           0  \n",
       "1           0  \n",
       "2           0  \n",
       "3           0  \n",
       "4           0  \n",
       "...       ...  \n",
       "561391      0  \n",
       "561392      0  \n",
       "561393      0  \n",
       "561394      0  \n",
       "561395      0  \n",
       "\n",
       "[1516242 rows x 78 columns]"
      ]
     },
     "execution_count": 16,
     "metadata": {},
     "output_type": "execute_result"
    }
   ],
   "source": [
    "df"
   ]
  },
  {
   "cell_type": "code",
   "execution_count": 17,
   "metadata": {},
   "outputs": [
    {
     "data": {
      "text/plain": [
       "Index(['Protocol', 'Flow Duration', 'Total Fwd Packets',\n",
       "       'Total Backward Packets', 'Fwd Packets Length Total',\n",
       "       'Bwd Packets Length Total', 'Fwd Packet Length Max',\n",
       "       'Fwd Packet Length Min', 'Fwd Packet Length Mean',\n",
       "       'Fwd Packet Length Std', 'Bwd Packet Length Max',\n",
       "       'Bwd Packet Length Min', 'Bwd Packet Length Mean',\n",
       "       'Bwd Packet Length Std', 'Flow Bytes/s', 'Flow Packets/s',\n",
       "       'Flow IAT Mean', 'Flow IAT Std', 'Flow IAT Max', 'Flow IAT Min',\n",
       "       'Fwd IAT Total', 'Fwd IAT Mean', 'Fwd IAT Std', 'Fwd IAT Max',\n",
       "       'Fwd IAT Min', 'Bwd IAT Total', 'Bwd IAT Mean', 'Bwd IAT Std',\n",
       "       'Bwd IAT Max', 'Bwd IAT Min', 'Fwd PSH Flags', 'Bwd PSH Flags',\n",
       "       'Fwd URG Flags', 'Bwd URG Flags', 'Fwd Header Length',\n",
       "       'Bwd Header Length', 'Fwd Packets/s', 'Bwd Packets/s',\n",
       "       'Packet Length Min', 'Packet Length Max', 'Packet Length Mean',\n",
       "       'Packet Length Std', 'Packet Length Variance', 'FIN Flag Count',\n",
       "       'SYN Flag Count', 'RST Flag Count', 'PSH Flag Count', 'ACK Flag Count',\n",
       "       'URG Flag Count', 'CWE Flag Count', 'ECE Flag Count', 'Down/Up Ratio',\n",
       "       'Avg Packet Size', 'Avg Fwd Segment Size', 'Avg Bwd Segment Size',\n",
       "       'Fwd Avg Bytes/Bulk', 'Fwd Avg Packets/Bulk', 'Fwd Avg Bulk Rate',\n",
       "       'Bwd Avg Bytes/Bulk', 'Bwd Avg Packets/Bulk', 'Bwd Avg Bulk Rate',\n",
       "       'Subflow Fwd Packets', 'Subflow Fwd Bytes', 'Subflow Bwd Packets',\n",
       "       'Subflow Bwd Bytes', 'Init Fwd Win Bytes', 'Init Bwd Win Bytes',\n",
       "       'Fwd Act Data Packets', 'Fwd Seg Size Min', 'Active Mean', 'Active Std',\n",
       "       'Active Max', 'Active Min', 'Idle Mean', 'Idle Std', 'Idle Max',\n",
       "       'Idle Min', 'Label'],\n",
       "      dtype='object')"
      ]
     },
     "execution_count": 17,
     "metadata": {},
     "output_type": "execute_result"
    }
   ],
   "source": [
    "df.columns"
   ]
  },
  {
   "cell_type": "markdown",
   "metadata": {},
   "source": [
    "These numerical columns in our dataset have different ranges of values, which can potentially confuse our model during training. To address this issue, we need to normalize our data."
   ]
  },
  {
   "cell_type": "code",
   "execution_count": 18,
   "metadata": {},
   "outputs": [],
   "source": [
    "min_max_scaler = MinMaxScaler().fit(df[['Flow Duration', 'Total Fwd Packets',\n",
    "       'Total Backward Packets', 'Fwd Packets Length Total',\n",
    "       'Bwd Packets Length Total', 'Fwd Packet Length Max',\n",
    "       'Fwd Packet Length Min', 'Fwd Packet Length Mean',\n",
    "       'Fwd Packet Length Std', 'Bwd Packet Length Max',\n",
    "       'Bwd Packet Length Min', 'Bwd Packet Length Mean',\n",
    "       'Bwd Packet Length Std', 'Flow Bytes/s', 'Flow Packets/s',\n",
    "       'Flow IAT Mean', 'Flow IAT Std', 'Flow IAT Max', 'Flow IAT Min',\n",
    "       'Fwd IAT Total', 'Fwd IAT Mean', 'Fwd IAT Std', 'Fwd IAT Max',\n",
    "       'Fwd IAT Min', 'Bwd IAT Total', 'Bwd IAT Mean', 'Bwd IAT Std',\n",
    "       'Bwd IAT Max', 'Bwd IAT Min', 'Fwd PSH Flags', 'Bwd PSH Flags',\n",
    "       'Fwd URG Flags', 'Bwd URG Flags', 'Fwd Header Length',\n",
    "       'Bwd Header Length', 'Fwd Packets/s', 'Bwd Packets/s',\n",
    "       'Packet Length Min', 'Packet Length Max', 'Packet Length Mean',\n",
    "       'Packet Length Std', 'Packet Length Variance', 'FIN Flag Count',\n",
    "       'SYN Flag Count', 'RST Flag Count', 'PSH Flag Count', 'ACK Flag Count',\n",
    "       'URG Flag Count', 'CWE Flag Count', 'ECE Flag Count', 'Down/Up Ratio',\n",
    "       'Avg Packet Size', 'Avg Fwd Segment Size', 'Avg Bwd Segment Size',\n",
    "       'Fwd Avg Bytes/Bulk', 'Fwd Avg Packets/Bulk', 'Fwd Avg Bulk Rate',\n",
    "       'Bwd Avg Bytes/Bulk', 'Bwd Avg Packets/Bulk', 'Bwd Avg Bulk Rate',\n",
    "       'Subflow Fwd Packets', 'Subflow Fwd Bytes', 'Subflow Bwd Packets',\n",
    "       'Subflow Bwd Bytes', 'Init Fwd Win Bytes', 'Init Bwd Win Bytes',\n",
    "       'Fwd Act Data Packets', 'Fwd Seg Size Min', 'Active Mean', 'Active Std',\n",
    "       'Active Max', 'Active Min', 'Idle Mean', 'Idle Std', 'Idle Max',\n",
    "       'Idle Min',]])"
   ]
  },
  {
   "cell_type": "code",
   "execution_count": 19,
   "metadata": {},
   "outputs": [],
   "source": [
    "numerical_columns = ['Flow Duration', 'Total Fwd Packets',\n",
    "       'Total Backward Packets', 'Fwd Packets Length Total',\n",
    "       'Bwd Packets Length Total', 'Fwd Packet Length Max',\n",
    "       'Fwd Packet Length Min', 'Fwd Packet Length Mean',\n",
    "       'Fwd Packet Length Std', 'Bwd Packet Length Max',\n",
    "       'Bwd Packet Length Min', 'Bwd Packet Length Mean',\n",
    "       'Bwd Packet Length Std', 'Flow Bytes/s', 'Flow Packets/s',\n",
    "       'Flow IAT Mean', 'Flow IAT Std', 'Flow IAT Max', 'Flow IAT Min',\n",
    "       'Fwd IAT Total', 'Fwd IAT Mean', 'Fwd IAT Std', 'Fwd IAT Max',\n",
    "       'Fwd IAT Min', 'Bwd IAT Total', 'Bwd IAT Mean', 'Bwd IAT Std',\n",
    "       'Bwd IAT Max', 'Bwd IAT Min', 'Fwd PSH Flags', 'Bwd PSH Flags',\n",
    "       'Fwd URG Flags', 'Bwd URG Flags', 'Fwd Header Length',\n",
    "       'Bwd Header Length', 'Fwd Packets/s', 'Bwd Packets/s',\n",
    "       'Packet Length Min', 'Packet Length Max', 'Packet Length Mean',\n",
    "       'Packet Length Std', 'Packet Length Variance', 'FIN Flag Count',\n",
    "       'SYN Flag Count', 'RST Flag Count', 'PSH Flag Count', 'ACK Flag Count',\n",
    "       'URG Flag Count', 'CWE Flag Count', 'ECE Flag Count', 'Down/Up Ratio',\n",
    "       'Avg Packet Size', 'Avg Fwd Segment Size', 'Avg Bwd Segment Size',\n",
    "       'Fwd Avg Bytes/Bulk', 'Fwd Avg Packets/Bulk', 'Fwd Avg Bulk Rate',\n",
    "       'Bwd Avg Bytes/Bulk', 'Bwd Avg Packets/Bulk', 'Bwd Avg Bulk Rate',\n",
    "       'Subflow Fwd Packets', 'Subflow Fwd Bytes', 'Subflow Bwd Packets',\n",
    "       'Subflow Bwd Bytes', 'Init Fwd Win Bytes', 'Init Bwd Win Bytes',\n",
    "       'Fwd Act Data Packets', 'Fwd Seg Size Min', 'Active Mean', 'Active Std',\n",
    "       'Active Max', 'Active Min', 'Idle Mean', 'Idle Std', 'Idle Max',\n",
    "       'Idle Min']"
   ]
  },
  {
   "cell_type": "code",
   "execution_count": 20,
   "metadata": {},
   "outputs": [],
   "source": [
    "# Apply min-max scaling to normalize the values of numerical columns in the 'train' DataFrame\n",
    "df[numerical_columns] = min_max_scaler.transform(df[numerical_columns])"
   ]
  },
  {
   "cell_type": "code",
   "execution_count": 21,
   "metadata": {},
   "outputs": [
    {
     "data": {
      "text/html": [
       "<div>\n",
       "<style scoped>\n",
       "    .dataframe tbody tr th:only-of-type {\n",
       "        vertical-align: middle;\n",
       "    }\n",
       "\n",
       "    .dataframe tbody tr th {\n",
       "        vertical-align: top;\n",
       "    }\n",
       "\n",
       "    .dataframe thead th {\n",
       "        text-align: right;\n",
       "    }\n",
       "</style>\n",
       "<table border=\"1\" class=\"dataframe\">\n",
       "  <thead>\n",
       "    <tr style=\"text-align: right;\">\n",
       "      <th></th>\n",
       "      <th>Protocol</th>\n",
       "      <th>Flow Duration</th>\n",
       "      <th>Total Fwd Packets</th>\n",
       "      <th>Total Backward Packets</th>\n",
       "      <th>Fwd Packets Length Total</th>\n",
       "      <th>Bwd Packets Length Total</th>\n",
       "      <th>Fwd Packet Length Max</th>\n",
       "      <th>Fwd Packet Length Min</th>\n",
       "      <th>Fwd Packet Length Mean</th>\n",
       "      <th>Fwd Packet Length Std</th>\n",
       "      <th>...</th>\n",
       "      <th>Fwd Seg Size Min</th>\n",
       "      <th>Active Mean</th>\n",
       "      <th>Active Std</th>\n",
       "      <th>Active Max</th>\n",
       "      <th>Active Min</th>\n",
       "      <th>Idle Mean</th>\n",
       "      <th>Idle Std</th>\n",
       "      <th>Idle Max</th>\n",
       "      <th>Idle Min</th>\n",
       "      <th>Label</th>\n",
       "    </tr>\n",
       "  </thead>\n",
       "  <tbody>\n",
       "    <tr>\n",
       "      <th>0</th>\n",
       "      <td>6</td>\n",
       "      <td>0.007406</td>\n",
       "      <td>0.000032</td>\n",
       "      <td>0.000511</td>\n",
       "      <td>0.000126</td>\n",
       "      <td>0.000063</td>\n",
       "      <td>0.330935</td>\n",
       "      <td>0.0</td>\n",
       "      <td>0.077872</td>\n",
       "      <td>0.262737</td>\n",
       "      <td>...</td>\n",
       "      <td>0.727273</td>\n",
       "      <td>0.0</td>\n",
       "      <td>0.0</td>\n",
       "      <td>0.0</td>\n",
       "      <td>0.0</td>\n",
       "      <td>0.000000</td>\n",
       "      <td>0.000000e+00</td>\n",
       "      <td>0.000000</td>\n",
       "      <td>0.000000</td>\n",
       "      <td>0</td>\n",
       "    </tr>\n",
       "    <tr>\n",
       "      <th>1</th>\n",
       "      <td>0</td>\n",
       "      <td>0.938690</td>\n",
       "      <td>0.000006</td>\n",
       "      <td>0.000000</td>\n",
       "      <td>0.000000</td>\n",
       "      <td>0.000000</td>\n",
       "      <td>0.000000</td>\n",
       "      <td>0.0</td>\n",
       "      <td>0.000000</td>\n",
       "      <td>0.000000</td>\n",
       "      <td>...</td>\n",
       "      <td>0.000000</td>\n",
       "      <td>0.0</td>\n",
       "      <td>0.0</td>\n",
       "      <td>0.0</td>\n",
       "      <td>0.0</td>\n",
       "      <td>0.469181</td>\n",
       "      <td>9.973610e-08</td>\n",
       "      <td>0.469181</td>\n",
       "      <td>0.469181</td>\n",
       "      <td>0</td>\n",
       "    </tr>\n",
       "    <tr>\n",
       "      <th>2</th>\n",
       "      <td>0</td>\n",
       "      <td>0.938689</td>\n",
       "      <td>0.000006</td>\n",
       "      <td>0.000000</td>\n",
       "      <td>0.000000</td>\n",
       "      <td>0.000000</td>\n",
       "      <td>0.000000</td>\n",
       "      <td>0.0</td>\n",
       "      <td>0.000000</td>\n",
       "      <td>0.000000</td>\n",
       "      <td>...</td>\n",
       "      <td>0.000000</td>\n",
       "      <td>0.0</td>\n",
       "      <td>0.0</td>\n",
       "      <td>0.0</td>\n",
       "      <td>0.0</td>\n",
       "      <td>0.469181</td>\n",
       "      <td>2.593139e-07</td>\n",
       "      <td>0.469181</td>\n",
       "      <td>0.469181</td>\n",
       "      <td>0</td>\n",
       "    </tr>\n",
       "    <tr>\n",
       "      <th>3</th>\n",
       "      <td>0</td>\n",
       "      <td>0.938689</td>\n",
       "      <td>0.000006</td>\n",
       "      <td>0.000000</td>\n",
       "      <td>0.000000</td>\n",
       "      <td>0.000000</td>\n",
       "      <td>0.000000</td>\n",
       "      <td>0.0</td>\n",
       "      <td>0.000000</td>\n",
       "      <td>0.000000</td>\n",
       "      <td>...</td>\n",
       "      <td>0.000000</td>\n",
       "      <td>0.0</td>\n",
       "      <td>0.0</td>\n",
       "      <td>0.0</td>\n",
       "      <td>0.0</td>\n",
       "      <td>0.469181</td>\n",
       "      <td>7.978888e-08</td>\n",
       "      <td>0.469181</td>\n",
       "      <td>0.469181</td>\n",
       "      <td>0</td>\n",
       "    </tr>\n",
       "    <tr>\n",
       "      <th>4</th>\n",
       "      <td>0</td>\n",
       "      <td>0.938689</td>\n",
       "      <td>0.000006</td>\n",
       "      <td>0.000000</td>\n",
       "      <td>0.000000</td>\n",
       "      <td>0.000000</td>\n",
       "      <td>0.000000</td>\n",
       "      <td>0.0</td>\n",
       "      <td>0.000000</td>\n",
       "      <td>0.000000</td>\n",
       "      <td>...</td>\n",
       "      <td>0.000000</td>\n",
       "      <td>0.0</td>\n",
       "      <td>0.0</td>\n",
       "      <td>0.0</td>\n",
       "      <td>0.0</td>\n",
       "      <td>0.469181</td>\n",
       "      <td>9.175722e-07</td>\n",
       "      <td>0.469181</td>\n",
       "      <td>0.469181</td>\n",
       "      <td>0</td>\n",
       "    </tr>\n",
       "    <tr>\n",
       "      <th>...</th>\n",
       "      <td>...</td>\n",
       "      <td>...</td>\n",
       "      <td>...</td>\n",
       "      <td>...</td>\n",
       "      <td>...</td>\n",
       "      <td>...</td>\n",
       "      <td>...</td>\n",
       "      <td>...</td>\n",
       "      <td>...</td>\n",
       "      <td>...</td>\n",
       "      <td>...</td>\n",
       "      <td>...</td>\n",
       "      <td>...</td>\n",
       "      <td>...</td>\n",
       "      <td>...</td>\n",
       "      <td>...</td>\n",
       "      <td>...</td>\n",
       "      <td>...</td>\n",
       "      <td>...</td>\n",
       "      <td>...</td>\n",
       "      <td>...</td>\n",
       "    </tr>\n",
       "    <tr>\n",
       "      <th>561391</th>\n",
       "      <td>6</td>\n",
       "      <td>0.000010</td>\n",
       "      <td>0.000013</td>\n",
       "      <td>0.000093</td>\n",
       "      <td>0.000094</td>\n",
       "      <td>0.000009</td>\n",
       "      <td>0.420414</td>\n",
       "      <td>0.0</td>\n",
       "      <td>0.128248</td>\n",
       "      <td>0.497347</td>\n",
       "      <td>...</td>\n",
       "      <td>0.454545</td>\n",
       "      <td>0.0</td>\n",
       "      <td>0.0</td>\n",
       "      <td>0.0</td>\n",
       "      <td>0.0</td>\n",
       "      <td>0.000000</td>\n",
       "      <td>0.000000e+00</td>\n",
       "      <td>0.000000</td>\n",
       "      <td>0.000000</td>\n",
       "      <td>0</td>\n",
       "    </tr>\n",
       "    <tr>\n",
       "      <th>561392</th>\n",
       "      <td>6</td>\n",
       "      <td>0.000159</td>\n",
       "      <td>0.000013</td>\n",
       "      <td>0.000093</td>\n",
       "      <td>0.000094</td>\n",
       "      <td>0.000011</td>\n",
       "      <td>0.420414</td>\n",
       "      <td>0.0</td>\n",
       "      <td>0.128248</td>\n",
       "      <td>0.497347</td>\n",
       "      <td>...</td>\n",
       "      <td>0.454545</td>\n",
       "      <td>0.0</td>\n",
       "      <td>0.0</td>\n",
       "      <td>0.0</td>\n",
       "      <td>0.0</td>\n",
       "      <td>0.000000</td>\n",
       "      <td>0.000000e+00</td>\n",
       "      <td>0.000000</td>\n",
       "      <td>0.000000</td>\n",
       "      <td>0</td>\n",
       "    </tr>\n",
       "    <tr>\n",
       "      <th>561393</th>\n",
       "      <td>6</td>\n",
       "      <td>0.000306</td>\n",
       "      <td>0.000013</td>\n",
       "      <td>0.000093</td>\n",
       "      <td>0.000094</td>\n",
       "      <td>0.000011</td>\n",
       "      <td>0.420414</td>\n",
       "      <td>0.0</td>\n",
       "      <td>0.128248</td>\n",
       "      <td>0.497347</td>\n",
       "      <td>...</td>\n",
       "      <td>0.454545</td>\n",
       "      <td>0.0</td>\n",
       "      <td>0.0</td>\n",
       "      <td>0.0</td>\n",
       "      <td>0.0</td>\n",
       "      <td>0.000000</td>\n",
       "      <td>0.000000e+00</td>\n",
       "      <td>0.000000</td>\n",
       "      <td>0.000000</td>\n",
       "      <td>0</td>\n",
       "    </tr>\n",
       "    <tr>\n",
       "      <th>561394</th>\n",
       "      <td>6</td>\n",
       "      <td>0.000015</td>\n",
       "      <td>0.000013</td>\n",
       "      <td>0.000093</td>\n",
       "      <td>0.000094</td>\n",
       "      <td>0.000011</td>\n",
       "      <td>0.420414</td>\n",
       "      <td>0.0</td>\n",
       "      <td>0.128248</td>\n",
       "      <td>0.497347</td>\n",
       "      <td>...</td>\n",
       "      <td>0.454545</td>\n",
       "      <td>0.0</td>\n",
       "      <td>0.0</td>\n",
       "      <td>0.0</td>\n",
       "      <td>0.0</td>\n",
       "      <td>0.000000</td>\n",
       "      <td>0.000000e+00</td>\n",
       "      <td>0.000000</td>\n",
       "      <td>0.000000</td>\n",
       "      <td>0</td>\n",
       "    </tr>\n",
       "    <tr>\n",
       "      <th>561395</th>\n",
       "      <td>6</td>\n",
       "      <td>0.000171</td>\n",
       "      <td>0.000013</td>\n",
       "      <td>0.000093</td>\n",
       "      <td>0.000094</td>\n",
       "      <td>0.000010</td>\n",
       "      <td>0.420414</td>\n",
       "      <td>0.0</td>\n",
       "      <td>0.128248</td>\n",
       "      <td>0.497347</td>\n",
       "      <td>...</td>\n",
       "      <td>0.454545</td>\n",
       "      <td>0.0</td>\n",
       "      <td>0.0</td>\n",
       "      <td>0.0</td>\n",
       "      <td>0.0</td>\n",
       "      <td>0.000000</td>\n",
       "      <td>0.000000e+00</td>\n",
       "      <td>0.000000</td>\n",
       "      <td>0.000000</td>\n",
       "      <td>0</td>\n",
       "    </tr>\n",
       "  </tbody>\n",
       "</table>\n",
       "<p>1516242 rows × 78 columns</p>\n",
       "</div>"
      ],
      "text/plain": [
       "        Protocol  Flow Duration  Total Fwd Packets  Total Backward Packets  \\\n",
       "0              6       0.007406           0.000032                0.000511   \n",
       "1              0       0.938690           0.000006                0.000000   \n",
       "2              0       0.938689           0.000006                0.000000   \n",
       "3              0       0.938689           0.000006                0.000000   \n",
       "4              0       0.938689           0.000006                0.000000   \n",
       "...          ...            ...                ...                     ...   \n",
       "561391         6       0.000010           0.000013                0.000093   \n",
       "561392         6       0.000159           0.000013                0.000093   \n",
       "561393         6       0.000306           0.000013                0.000093   \n",
       "561394         6       0.000015           0.000013                0.000093   \n",
       "561395         6       0.000171           0.000013                0.000093   \n",
       "\n",
       "        Fwd Packets Length Total  Bwd Packets Length Total  \\\n",
       "0                       0.000126                  0.000063   \n",
       "1                       0.000000                  0.000000   \n",
       "2                       0.000000                  0.000000   \n",
       "3                       0.000000                  0.000000   \n",
       "4                       0.000000                  0.000000   \n",
       "...                          ...                       ...   \n",
       "561391                  0.000094                  0.000009   \n",
       "561392                  0.000094                  0.000011   \n",
       "561393                  0.000094                  0.000011   \n",
       "561394                  0.000094                  0.000011   \n",
       "561395                  0.000094                  0.000010   \n",
       "\n",
       "        Fwd Packet Length Max  Fwd Packet Length Min  Fwd Packet Length Mean  \\\n",
       "0                    0.330935                    0.0                0.077872   \n",
       "1                    0.000000                    0.0                0.000000   \n",
       "2                    0.000000                    0.0                0.000000   \n",
       "3                    0.000000                    0.0                0.000000   \n",
       "4                    0.000000                    0.0                0.000000   \n",
       "...                       ...                    ...                     ...   \n",
       "561391               0.420414                    0.0                0.128248   \n",
       "561392               0.420414                    0.0                0.128248   \n",
       "561393               0.420414                    0.0                0.128248   \n",
       "561394               0.420414                    0.0                0.128248   \n",
       "561395               0.420414                    0.0                0.128248   \n",
       "\n",
       "        Fwd Packet Length Std  ...  Fwd Seg Size Min  Active Mean  Active Std  \\\n",
       "0                    0.262737  ...          0.727273          0.0         0.0   \n",
       "1                    0.000000  ...          0.000000          0.0         0.0   \n",
       "2                    0.000000  ...          0.000000          0.0         0.0   \n",
       "3                    0.000000  ...          0.000000          0.0         0.0   \n",
       "4                    0.000000  ...          0.000000          0.0         0.0   \n",
       "...                       ...  ...               ...          ...         ...   \n",
       "561391               0.497347  ...          0.454545          0.0         0.0   \n",
       "561392               0.497347  ...          0.454545          0.0         0.0   \n",
       "561393               0.497347  ...          0.454545          0.0         0.0   \n",
       "561394               0.497347  ...          0.454545          0.0         0.0   \n",
       "561395               0.497347  ...          0.454545          0.0         0.0   \n",
       "\n",
       "        Active Max  Active Min  Idle Mean      Idle Std  Idle Max  Idle Min  \\\n",
       "0              0.0         0.0   0.000000  0.000000e+00  0.000000  0.000000   \n",
       "1              0.0         0.0   0.469181  9.973610e-08  0.469181  0.469181   \n",
       "2              0.0         0.0   0.469181  2.593139e-07  0.469181  0.469181   \n",
       "3              0.0         0.0   0.469181  7.978888e-08  0.469181  0.469181   \n",
       "4              0.0         0.0   0.469181  9.175722e-07  0.469181  0.469181   \n",
       "...            ...         ...        ...           ...       ...       ...   \n",
       "561391         0.0         0.0   0.000000  0.000000e+00  0.000000  0.000000   \n",
       "561392         0.0         0.0   0.000000  0.000000e+00  0.000000  0.000000   \n",
       "561393         0.0         0.0   0.000000  0.000000e+00  0.000000  0.000000   \n",
       "561394         0.0         0.0   0.000000  0.000000e+00  0.000000  0.000000   \n",
       "561395         0.0         0.0   0.000000  0.000000e+00  0.000000  0.000000   \n",
       "\n",
       "        Label  \n",
       "0           0  \n",
       "1           0  \n",
       "2           0  \n",
       "3           0  \n",
       "4           0  \n",
       "...       ...  \n",
       "561391      0  \n",
       "561392      0  \n",
       "561393      0  \n",
       "561394      0  \n",
       "561395      0  \n",
       "\n",
       "[1516242 rows x 78 columns]"
      ]
     },
     "execution_count": 21,
     "metadata": {},
     "output_type": "execute_result"
    }
   ],
   "source": [
    "df"
   ]
  },
  {
   "cell_type": "markdown",
   "metadata": {},
   "source": [
    "# II. Random Forest Classifier Model "
   ]
  },
  {
   "cell_type": "code",
   "execution_count": 22,
   "metadata": {
    "execution": {
     "iopub.execute_input": "2023-11-21T06:37:58.266117Z",
     "iopub.status.busy": "2023-11-21T06:37:58.265313Z",
     "iopub.status.idle": "2023-11-21T06:37:59.212680Z",
     "shell.execute_reply": "2023-11-21T06:37:59.211542Z",
     "shell.execute_reply.started": "2023-11-21T06:37:58.266088Z"
    }
   },
   "outputs": [],
   "source": [
    "# Split the data into training and testing sets.\n",
    "train, test = train_test_split(df, test_size=0.3, random_state=RANDOM_STATE_SEED)"
   ]
  },
  {
   "cell_type": "code",
   "execution_count": 23,
   "metadata": {
    "execution": {
     "iopub.execute_input": "2023-11-21T06:37:59.224395Z",
     "iopub.status.busy": "2023-11-21T06:37:59.223944Z",
     "iopub.status.idle": "2023-11-21T06:37:59.425959Z",
     "shell.execute_reply": "2023-11-21T06:37:59.424977Z",
     "shell.execute_reply.started": "2023-11-21T06:37:59.224370Z"
    }
   },
   "outputs": [
    {
     "name": "stdout",
     "output_type": "stream",
     "text": [
      "<class 'pandas.core.frame.DataFrame'>\n",
      "Index: 1061369 entries, 533129 to 349096\n",
      "Data columns (total 78 columns):\n",
      " #   Column                    Non-Null Count    Dtype  \n",
      "---  ------                    --------------    -----  \n",
      " 0   Protocol                  1061369 non-null  int8   \n",
      " 1   Flow Duration             1061369 non-null  float64\n",
      " 2   Total Fwd Packets         1061369 non-null  float64\n",
      " 3   Total Backward Packets    1061369 non-null  float64\n",
      " 4   Fwd Packets Length Total  1061369 non-null  float64\n",
      " 5   Bwd Packets Length Total  1061369 non-null  float64\n",
      " 6   Fwd Packet Length Max     1061369 non-null  float64\n",
      " 7   Fwd Packet Length Min     1061369 non-null  float64\n",
      " 8   Fwd Packet Length Mean    1061369 non-null  float64\n",
      " 9   Fwd Packet Length Std     1061369 non-null  float64\n",
      " 10  Bwd Packet Length Max     1061369 non-null  float64\n",
      " 11  Bwd Packet Length Min     1061369 non-null  float64\n",
      " 12  Bwd Packet Length Mean    1061369 non-null  float64\n",
      " 13  Bwd Packet Length Std     1061369 non-null  float64\n",
      " 14  Flow Bytes/s              1061369 non-null  float64\n",
      " 15  Flow Packets/s            1061369 non-null  float64\n",
      " 16  Flow IAT Mean             1061369 non-null  float64\n",
      " 17  Flow IAT Std              1061369 non-null  float64\n",
      " 18  Flow IAT Max              1061369 non-null  float64\n",
      " 19  Flow IAT Min              1061369 non-null  float64\n",
      " 20  Fwd IAT Total             1061369 non-null  float64\n",
      " 21  Fwd IAT Mean              1061369 non-null  float64\n",
      " 22  Fwd IAT Std               1061369 non-null  float64\n",
      " 23  Fwd IAT Max               1061369 non-null  float64\n",
      " 24  Fwd IAT Min               1061369 non-null  float64\n",
      " 25  Bwd IAT Total             1061369 non-null  float64\n",
      " 26  Bwd IAT Mean              1061369 non-null  float64\n",
      " 27  Bwd IAT Std               1061369 non-null  float64\n",
      " 28  Bwd IAT Max               1061369 non-null  float64\n",
      " 29  Bwd IAT Min               1061369 non-null  float64\n",
      " 30  Fwd PSH Flags             1061369 non-null  float64\n",
      " 31  Bwd PSH Flags             1061369 non-null  float64\n",
      " 32  Fwd URG Flags             1061369 non-null  float64\n",
      " 33  Bwd URG Flags             1061369 non-null  float64\n",
      " 34  Fwd Header Length         1061369 non-null  float64\n",
      " 35  Bwd Header Length         1061369 non-null  float64\n",
      " 36  Fwd Packets/s             1061369 non-null  float64\n",
      " 37  Bwd Packets/s             1061369 non-null  float64\n",
      " 38  Packet Length Min         1061369 non-null  float64\n",
      " 39  Packet Length Max         1061369 non-null  float64\n",
      " 40  Packet Length Mean        1061369 non-null  float64\n",
      " 41  Packet Length Std         1061369 non-null  float64\n",
      " 42  Packet Length Variance    1061369 non-null  float64\n",
      " 43  FIN Flag Count            1061369 non-null  float64\n",
      " 44  SYN Flag Count            1061369 non-null  float64\n",
      " 45  RST Flag Count            1061369 non-null  float64\n",
      " 46  PSH Flag Count            1061369 non-null  float64\n",
      " 47  ACK Flag Count            1061369 non-null  float64\n",
      " 48  URG Flag Count            1061369 non-null  float64\n",
      " 49  CWE Flag Count            1061369 non-null  float64\n",
      " 50  ECE Flag Count            1061369 non-null  float64\n",
      " 51  Down/Up Ratio             1061369 non-null  float64\n",
      " 52  Avg Packet Size           1061369 non-null  float64\n",
      " 53  Avg Fwd Segment Size      1061369 non-null  float64\n",
      " 54  Avg Bwd Segment Size      1061369 non-null  float64\n",
      " 55  Fwd Avg Bytes/Bulk        1061369 non-null  float64\n",
      " 56  Fwd Avg Packets/Bulk      1061369 non-null  float64\n",
      " 57  Fwd Avg Bulk Rate         1061369 non-null  float64\n",
      " 58  Bwd Avg Bytes/Bulk        1061369 non-null  float64\n",
      " 59  Bwd Avg Packets/Bulk      1061369 non-null  float64\n",
      " 60  Bwd Avg Bulk Rate         1061369 non-null  float64\n",
      " 61  Subflow Fwd Packets       1061369 non-null  float64\n",
      " 62  Subflow Fwd Bytes         1061369 non-null  float64\n",
      " 63  Subflow Bwd Packets       1061369 non-null  float64\n",
      " 64  Subflow Bwd Bytes         1061369 non-null  float64\n",
      " 65  Init Fwd Win Bytes        1061369 non-null  float64\n",
      " 66  Init Bwd Win Bytes        1061369 non-null  float64\n",
      " 67  Fwd Act Data Packets      1061369 non-null  float64\n",
      " 68  Fwd Seg Size Min          1061369 non-null  float64\n",
      " 69  Active Mean               1061369 non-null  float64\n",
      " 70  Active Std                1061369 non-null  float64\n",
      " 71  Active Max                1061369 non-null  float64\n",
      " 72  Active Min                1061369 non-null  float64\n",
      " 73  Idle Mean                 1061369 non-null  float64\n",
      " 74  Idle Std                  1061369 non-null  float64\n",
      " 75  Idle Max                  1061369 non-null  float64\n",
      " 76  Idle Min                  1061369 non-null  float64\n",
      " 77  Label                     1061369 non-null  int32  \n",
      "dtypes: float64(76), int32(1), int8(1)\n",
      "memory usage: 628.6 MB\n"
     ]
    }
   ],
   "source": [
    "# Concise summary of tranning dataset\n",
    "train.info()"
   ]
  },
  {
   "cell_type": "code",
   "execution_count": 24,
   "metadata": {},
   "outputs": [
    {
     "data": {
      "text/plain": [
       "Index(['Protocol', 'Flow Duration', 'Total Fwd Packets',\n",
       "       'Total Backward Packets', 'Fwd Packets Length Total',\n",
       "       'Bwd Packets Length Total', 'Fwd Packet Length Max',\n",
       "       'Fwd Packet Length Min', 'Fwd Packet Length Mean',\n",
       "       'Fwd Packet Length Std', 'Bwd Packet Length Max',\n",
       "       'Bwd Packet Length Min', 'Bwd Packet Length Mean',\n",
       "       'Bwd Packet Length Std', 'Flow Bytes/s', 'Flow Packets/s',\n",
       "       'Flow IAT Mean', 'Flow IAT Std', 'Flow IAT Max', 'Flow IAT Min',\n",
       "       'Fwd IAT Total', 'Fwd IAT Mean', 'Fwd IAT Std', 'Fwd IAT Max',\n",
       "       'Fwd IAT Min', 'Bwd IAT Total', 'Bwd IAT Mean', 'Bwd IAT Std',\n",
       "       'Bwd IAT Max', 'Bwd IAT Min', 'Fwd PSH Flags', 'Bwd PSH Flags',\n",
       "       'Fwd URG Flags', 'Bwd URG Flags', 'Fwd Header Length',\n",
       "       'Bwd Header Length', 'Fwd Packets/s', 'Bwd Packets/s',\n",
       "       'Packet Length Min', 'Packet Length Max', 'Packet Length Mean',\n",
       "       'Packet Length Std', 'Packet Length Variance', 'FIN Flag Count',\n",
       "       'SYN Flag Count', 'RST Flag Count', 'PSH Flag Count', 'ACK Flag Count',\n",
       "       'URG Flag Count', 'CWE Flag Count', 'ECE Flag Count', 'Down/Up Ratio',\n",
       "       'Avg Packet Size', 'Avg Fwd Segment Size', 'Avg Bwd Segment Size',\n",
       "       'Fwd Avg Bytes/Bulk', 'Fwd Avg Packets/Bulk', 'Fwd Avg Bulk Rate',\n",
       "       'Bwd Avg Bytes/Bulk', 'Bwd Avg Packets/Bulk', 'Bwd Avg Bulk Rate',\n",
       "       'Subflow Fwd Packets', 'Subflow Fwd Bytes', 'Subflow Bwd Packets',\n",
       "       'Subflow Bwd Bytes', 'Init Fwd Win Bytes', 'Init Bwd Win Bytes',\n",
       "       'Fwd Act Data Packets', 'Fwd Seg Size Min', 'Active Mean', 'Active Std',\n",
       "       'Active Max', 'Active Min', 'Idle Mean', 'Idle Std', 'Idle Max',\n",
       "       'Idle Min', 'Label'],\n",
       "      dtype='object')"
      ]
     },
     "execution_count": 24,
     "metadata": {},
     "output_type": "execute_result"
    }
   ],
   "source": [
    "train.columns"
   ]
  },
  {
   "cell_type": "code",
   "execution_count": 25,
   "metadata": {
    "execution": {
     "iopub.execute_input": "2023-11-21T06:38:06.346202Z",
     "iopub.status.busy": "2023-11-21T06:38:06.345722Z",
     "iopub.status.idle": "2023-11-21T06:38:06.550178Z",
     "shell.execute_reply": "2023-11-21T06:38:06.549145Z",
     "shell.execute_reply.started": "2023-11-21T06:38:06.346166Z"
    }
   },
   "outputs": [
    {
     "name": "stdout",
     "output_type": "stream",
     "text": [
      "<class 'numpy.ndarray'>\n",
      "<class 'numpy.ndarray'>\n",
      "(1061369, 77)\n",
      "(1061369,)\n"
     ]
    }
   ],
   "source": [
    "y_train = np.array(train.pop(\"Label\"))\n",
    "X_train = train.values\n",
    "\n",
    "print(type(X_train))\n",
    "print(type(y_train))\n",
    "print(X_train.shape)\n",
    "print(y_train.shape)"
   ]
  },
  {
   "cell_type": "code",
   "execution_count": 26,
   "metadata": {
    "execution": {
     "iopub.execute_input": "2023-11-21T06:38:06.552364Z",
     "iopub.status.busy": "2023-11-21T06:38:06.551916Z",
     "iopub.status.idle": "2023-11-21T06:38:06.644341Z",
     "shell.execute_reply": "2023-11-21T06:38:06.643312Z",
     "shell.execute_reply.started": "2023-11-21T06:38:06.552326Z"
    }
   },
   "outputs": [
    {
     "name": "stdout",
     "output_type": "stream",
     "text": [
      "<class 'numpy.ndarray'>\n",
      "<class 'numpy.ndarray'>\n",
      "(454873, 77)\n",
      "(454873,)\n"
     ]
    }
   ],
   "source": [
    "y_test = np.array(test.pop(\"Label\")) \n",
    "X_test = test.values\n",
    "\n",
    "print(type(X_test))\n",
    "print(type(y_test))\n",
    "print(X_test.shape)\n",
    "print(y_test.shape)"
   ]
  },
  {
   "cell_type": "code",
   "execution_count": 27,
   "metadata": {},
   "outputs": [
    {
     "name": "stdout",
     "output_type": "stream",
     "text": [
      "Time training (full features): 661.5304908752441 s\n"
     ]
    }
   ],
   "source": [
    "rf = RandomForestClassifier(\n",
    "    class_weight='balanced',\n",
    "    n_estimators=175,\n",
    "    criterion='gini',\n",
    "    max_depth=None,\n",
    "    min_samples_split=2,\n",
    "    min_samples_leaf=1,\n",
    "    max_features='sqrt',\n",
    "    bootstrap=True,\n",
    "    random_state=RANDOM_STATE_SEED,\n",
    ")\n",
    "\n",
    "start_time = time.time()\n",
    "rf.fit(X_train, y_train)\n",
    "end_time = time.time()\n",
    "\n",
    "training_time = end_time - start_time\n",
    "print(\"Time training (full features):\", training_time, \"s\")"
   ]
  },
  {
   "cell_type": "code",
   "execution_count": 28,
   "metadata": {},
   "outputs": [
    {
     "data": {
      "text/html": [
       "<style>#sk-container-id-1 {color: black;}#sk-container-id-1 pre{padding: 0;}#sk-container-id-1 div.sk-toggleable {background-color: white;}#sk-container-id-1 label.sk-toggleable__label {cursor: pointer;display: block;width: 100%;margin-bottom: 0;padding: 0.3em;box-sizing: border-box;text-align: center;}#sk-container-id-1 label.sk-toggleable__label-arrow:before {content: \"▸\";float: left;margin-right: 0.25em;color: #696969;}#sk-container-id-1 label.sk-toggleable__label-arrow:hover:before {color: black;}#sk-container-id-1 div.sk-estimator:hover label.sk-toggleable__label-arrow:before {color: black;}#sk-container-id-1 div.sk-toggleable__content {max-height: 0;max-width: 0;overflow: hidden;text-align: left;background-color: #f0f8ff;}#sk-container-id-1 div.sk-toggleable__content pre {margin: 0.2em;color: black;border-radius: 0.25em;background-color: #f0f8ff;}#sk-container-id-1 input.sk-toggleable__control:checked~div.sk-toggleable__content {max-height: 200px;max-width: 100%;overflow: auto;}#sk-container-id-1 input.sk-toggleable__control:checked~label.sk-toggleable__label-arrow:before {content: \"▾\";}#sk-container-id-1 div.sk-estimator input.sk-toggleable__control:checked~label.sk-toggleable__label {background-color: #d4ebff;}#sk-container-id-1 div.sk-label input.sk-toggleable__control:checked~label.sk-toggleable__label {background-color: #d4ebff;}#sk-container-id-1 input.sk-hidden--visually {border: 0;clip: rect(1px 1px 1px 1px);clip: rect(1px, 1px, 1px, 1px);height: 1px;margin: -1px;overflow: hidden;padding: 0;position: absolute;width: 1px;}#sk-container-id-1 div.sk-estimator {font-family: monospace;background-color: #f0f8ff;border: 1px dotted black;border-radius: 0.25em;box-sizing: border-box;margin-bottom: 0.5em;}#sk-container-id-1 div.sk-estimator:hover {background-color: #d4ebff;}#sk-container-id-1 div.sk-parallel-item::after {content: \"\";width: 100%;border-bottom: 1px solid gray;flex-grow: 1;}#sk-container-id-1 div.sk-label:hover label.sk-toggleable__label {background-color: #d4ebff;}#sk-container-id-1 div.sk-serial::before {content: \"\";position: absolute;border-left: 1px solid gray;box-sizing: border-box;top: 0;bottom: 0;left: 50%;z-index: 0;}#sk-container-id-1 div.sk-serial {display: flex;flex-direction: column;align-items: center;background-color: white;padding-right: 0.2em;padding-left: 0.2em;position: relative;}#sk-container-id-1 div.sk-item {position: relative;z-index: 1;}#sk-container-id-1 div.sk-parallel {display: flex;align-items: stretch;justify-content: center;background-color: white;position: relative;}#sk-container-id-1 div.sk-item::before, #sk-container-id-1 div.sk-parallel-item::before {content: \"\";position: absolute;border-left: 1px solid gray;box-sizing: border-box;top: 0;bottom: 0;left: 50%;z-index: -1;}#sk-container-id-1 div.sk-parallel-item {display: flex;flex-direction: column;z-index: 1;position: relative;background-color: white;}#sk-container-id-1 div.sk-parallel-item:first-child::after {align-self: flex-end;width: 50%;}#sk-container-id-1 div.sk-parallel-item:last-child::after {align-self: flex-start;width: 50%;}#sk-container-id-1 div.sk-parallel-item:only-child::after {width: 0;}#sk-container-id-1 div.sk-dashed-wrapped {border: 1px dashed gray;margin: 0 0.4em 0.5em 0.4em;box-sizing: border-box;padding-bottom: 0.4em;background-color: white;}#sk-container-id-1 div.sk-label label {font-family: monospace;font-weight: bold;display: inline-block;line-height: 1.2em;}#sk-container-id-1 div.sk-label-container {text-align: center;}#sk-container-id-1 div.sk-container {/* jupyter's `normalize.less` sets `[hidden] { display: none; }` but bootstrap.min.css set `[hidden] { display: none !important; }` so we also need the `!important` here to be able to override the default hidden behavior on the sphinx rendered scikit-learn.org. See: https://github.com/scikit-learn/scikit-learn/issues/21755 */display: inline-block !important;position: relative;}#sk-container-id-1 div.sk-text-repr-fallback {display: none;}</style><div id=\"sk-container-id-1\" class=\"sk-top-container\"><div class=\"sk-text-repr-fallback\"><pre>RandomForestClassifier(class_weight=&#x27;balanced&#x27;, n_estimators=175,\n",
       "                       random_state=12)</pre><b>In a Jupyter environment, please rerun this cell to show the HTML representation or trust the notebook. <br />On GitHub, the HTML representation is unable to render, please try loading this page with nbviewer.org.</b></div><div class=\"sk-container\" hidden><div class=\"sk-item\"><div class=\"sk-estimator sk-toggleable\"><input class=\"sk-toggleable__control sk-hidden--visually\" id=\"sk-estimator-id-1\" type=\"checkbox\" checked><label for=\"sk-estimator-id-1\" class=\"sk-toggleable__label sk-toggleable__label-arrow\">RandomForestClassifier</label><div class=\"sk-toggleable__content\"><pre>RandomForestClassifier(class_weight=&#x27;balanced&#x27;, n_estimators=175,\n",
       "                       random_state=12)</pre></div></div></div></div></div>"
      ],
      "text/plain": [
       "RandomForestClassifier(class_weight='balanced', n_estimators=175,\n",
       "                       random_state=12)"
      ]
     },
     "execution_count": 28,
     "metadata": {},
     "output_type": "execute_result"
    }
   ],
   "source": [
    "rf"
   ]
  },
  {
   "cell_type": "code",
   "execution_count": 29,
   "metadata": {},
   "outputs": [],
   "source": [
    "predictions = rf.predict(X_test)"
   ]
  },
  {
   "cell_type": "code",
   "execution_count": 30,
   "metadata": {},
   "outputs": [
    {
     "data": {
      "text/plain": [
       "array([0, 0, 1, ..., 0, 0, 0])"
      ]
     },
     "execution_count": 30,
     "metadata": {},
     "output_type": "execute_result"
    }
   ],
   "source": [
    "predictions"
   ]
  },
  {
   "cell_type": "code",
   "execution_count": 31,
   "metadata": {},
   "outputs": [
    {
     "name": "stdout",
     "output_type": "stream",
     "text": [
      "Accuracy: 99.931%\n"
     ]
    }
   ],
   "source": [
    "print(f\"Accuracy: {accuracy_score(y_test, predictions)* 100:.3f}%\")"
   ]
  },
  {
   "cell_type": "code",
   "execution_count": 32,
   "metadata": {},
   "outputs": [
    {
     "name": "stdout",
     "output_type": "stream",
     "text": [
      "Classification Report for RF: \n",
      "                         precision    recall  f1-score   support\n",
      "\n",
      "                Benign       1.00      1.00      1.00    221955\n",
      "      DDOS attack-HOIC       1.00      1.00      1.00     59654\n",
      "  DDOS attack-LOIC-UDP       0.81      0.98      0.88       515\n",
      "DDoS attacks-LOIC-HTTP       1.00      1.00      1.00    172749\n",
      "\n",
      "              accuracy                           1.00    454873\n",
      "             macro avg       0.95      0.99      0.97    454873\n",
      "          weighted avg       1.00      1.00      1.00    454873\n",
      "\n"
     ]
    }
   ],
   "source": [
    "print(\"Classification Report for RF: \\n\", classification_report(le.inverse_transform(y_test), le.inverse_transform(predictions)))"
   ]
  },
  {
   "cell_type": "code",
   "execution_count": 33,
   "metadata": {},
   "outputs": [
    {
     "data": {
      "text/plain": [
       "<Axes: >"
      ]
     },
     "execution_count": 33,
     "metadata": {},
     "output_type": "execute_result"
    },
    {
     "data": {
      "image/png": "[encoded data removed]",
      "text/plain": [
       "<Figure size 640x480 with 2 Axes>"
      ]
     },
     "metadata": {},
     "output_type": "display_data"
    }
   ],
   "source": [
    "cf_matrix = confusion_matrix(y_test, predictions)\n",
    "sns.heatmap(cf_matrix, annot=True, fmt='d')"
   ]
  },
  {
   "cell_type": "code",
   "execution_count": 34,
   "metadata": {},
   "outputs": [],
   "source": [
    "import csv\n",
    "\n",
    "# File name to save the output\n",
    "filename = 'DDoS_Attack_Detection_Full_features.csv'\n",
    "\n",
    "# Feature names\n",
    "feature_names = ['Protocol', 'Flow Duration', 'Total Fwd Packets',\n",
    "       'Total Backward Packets', 'Fwd Packets Length Total',\n",
    "       'Bwd Packets Length Total', 'Fwd Packet Length Max',\n",
    "       'Fwd Packet Length Min', 'Fwd Packet Length Mean',\n",
    "       'Fwd Packet Length Std', 'Bwd Packet Length Max',\n",
    "       'Bwd Packet Length Min', 'Bwd Packet Length Mean',\n",
    "       'Bwd Packet Length Std', 'Flow Bytes/s', 'Flow Packets/s',\n",
    "       'Flow IAT Mean', 'Flow IAT Std', 'Flow IAT Max', 'Flow IAT Min',\n",
    "       'Fwd IAT Total', 'Fwd IAT Mean', 'Fwd IAT Std', 'Fwd IAT Max',\n",
    "       'Fwd IAT Min', 'Bwd IAT Total', 'Bwd IAT Mean', 'Bwd IAT Std',\n",
    "       'Bwd IAT Max', 'Bwd IAT Min', 'Fwd PSH Flags', 'Bwd PSH Flags',\n",
    "       'Fwd URG Flags', 'Bwd URG Flags', 'Fwd Header Length',\n",
    "       'Bwd Header Length', 'Fwd Packets/s', 'Bwd Packets/s',\n",
    "       'Packet Length Min', 'Packet Length Max', 'Packet Length Mean',\n",
    "       'Packet Length Std', 'Packet Length Variance', 'FIN Flag Count',\n",
    "       'SYN Flag Count', 'RST Flag Count', 'PSH Flag Count', 'ACK Flag Count',\n",
    "       'URG Flag Count', 'CWE Flag Count', 'ECE Flag Count', 'Down/Up Ratio',\n",
    "       'Avg Packet Size', 'Avg Fwd Segment Size', 'Avg Bwd Segment Size',\n",
    "       'Fwd Avg Bytes/Bulk', 'Fwd Avg Packets/Bulk', 'Fwd Avg Bulk Rate',\n",
    "       'Bwd Avg Bytes/Bulk', 'Bwd Avg Packets/Bulk', 'Bwd Avg Bulk Rate',\n",
    "       'Subflow Fwd Packets', 'Subflow Fwd Bytes', 'Subflow Bwd Packets',\n",
    "       'Subflow Bwd Bytes', 'Init Fwd Win Bytes', 'Init Bwd Win Bytes',\n",
    "       'Fwd Act Data Packets', 'Fwd Seg Size Min', 'Active Mean', 'Active Std',\n",
    "       'Active Max', 'Active Min', 'Idle Mean', 'Idle Std', 'Idle Max',\n",
    "       'Idle Min'] \n",
    "\n",
    "# Class names\n",
    "class_names = ['Benign', 'DDoS attacks-LOIC-HTTP', 'DDOS attack-HOIC', 'DDOS attack-LOIC-UDP']  \n",
    "\n",
    "# Open the CSV file for writing with 'utf-8' encoding\n",
    "with open(filename, 'w', newline='', encoding='utf-8') as file:\n",
    "    writer = csv.writer(file)\n",
    "\n",
    "    # Write the header (feature names and class names)\n",
    "    writer.writerow(['Sample', 'Label'] + feature_names)\n",
    "\n",
    "    # Write the data for each sample\n",
    "    for i, label in enumerate(predictions):\n",
    "        if label in [3, 1, 2]:  # Samples belonging to the DDoS classes\n",
    "            features = list(X_test[i])  # Convert to a list\n",
    "\n",
    "            # Write the data row\n",
    "            row = [i, class_names[label]] + features\n",
    "            writer.writerow(row)"
   ]
  },
  {
   "cell_type": "code",
   "execution_count": 35,
   "metadata": {},
   "outputs": [
    {
     "data": {
      "image/png": "[encoded data removed]",
      "text/plain": [
       "<Figure size 1000x600 with 1 Axes>"
      ]
     },
     "metadata": {},
     "output_type": "display_data"
    }
   ],
   "source": [
    "importance = rf.feature_importances_\n",
    "feature_names = train.columns\n",
    "\n",
    "indices = np.argsort(importance)[::-1]\n",
    "\n",
    "plt.figure(figsize=(10, 6))\n",
    "plt.bar(range(train.shape[1]), importance[indices])\n",
    "plt.xticks(range(train.shape[1]), feature_names[indices], rotation=90)\n",
    "plt.xlabel('Features')\n",
    "plt.ylabel('Importances')\n",
    "plt.title('Feature Importance')\n",
    "plt.tight_layout()\n",
    "plt.show()"
   ]
  },
  {
   "cell_type": "markdown",
   "metadata": {},
   "source": [
    "# III. Training and Evaluating Model With 20 & 50 Important Features"
   ]
  },
  {
   "cell_type": "markdown",
   "metadata": {},
   "source": [
    " ### <b>  With 20 important features"
   ]
  },
  {
   "cell_type": "code",
   "execution_count": 36,
   "metadata": {
    "execution": {
     "iopub.execute_input": "2023-11-21T08:40:13.479096Z",
     "iopub.status.busy": "2023-11-21T08:40:13.478653Z",
     "iopub.status.idle": "2023-11-21T08:40:13.485140Z",
     "shell.execute_reply": "2023-11-21T08:40:13.483995Z",
     "shell.execute_reply.started": "2023-11-21T08:40:13.479065Z"
    }
   },
   "outputs": [],
   "source": [
    "# Retrieving indices of the 20 important features\n",
    "top_20_indices = np.argsort(importance)[-20:]\n",
    "# Retrieving names of the 20 important features\n",
    "top_20_features = train.columns[top_20_indices]"
   ]
  },
  {
   "cell_type": "code",
   "execution_count": 37,
   "metadata": {
    "execution": {
     "iopub.execute_input": "2023-11-21T08:40:33.159078Z",
     "iopub.status.busy": "2023-11-21T08:40:33.158148Z",
     "iopub.status.idle": "2023-11-21T08:40:33.309816Z",
     "shell.execute_reply": "2023-11-21T08:40:33.308833Z",
     "shell.execute_reply.started": "2023-11-21T08:40:33.159041Z"
    }
   },
   "outputs": [],
   "source": [
    "# Creating a new dataset with only the 20 important features\n",
    "X_train_top_20 = train[top_20_features].values\n",
    "X_test_top_20 = test[top_20_features].values"
   ]
  },
  {
   "cell_type": "code",
   "execution_count": 38,
   "metadata": {},
   "outputs": [
    {
     "data": {
      "text/plain": [
       "Index(['Protocol', 'Packet Length Min', 'Bwd Packet Length Max',\n",
       "       'Init Bwd Win Bytes', 'Bwd Packet Length Mean',\n",
       "       'Fwd Packet Length Mean', 'Bwd Packet Length Std',\n",
       "       'Avg Bwd Segment Size', 'Fwd IAT Total', 'Flow IAT Mean',\n",
       "       'Fwd Packet Length Max', 'Fwd Header Length', 'Flow IAT Max',\n",
       "       'Flow Duration', 'Fwd Act Data Packets', 'Subflow Fwd Packets',\n",
       "       'Init Fwd Win Bytes', 'Fwd Packets Length Total', 'Total Fwd Packets',\n",
       "       'Subflow Fwd Bytes'],\n",
       "      dtype='object')"
      ]
     },
     "execution_count": 38,
     "metadata": {},
     "output_type": "execute_result"
    }
   ],
   "source": [
    "test[top_20_features].columns"
   ]
  },
  {
   "cell_type": "code",
   "execution_count": 39,
   "metadata": {},
   "outputs": [
    {
     "data": {
      "text/html": [
       "<style>#sk-container-id-2 {color: black;}#sk-container-id-2 pre{padding: 0;}#sk-container-id-2 div.sk-toggleable {background-color: white;}#sk-container-id-2 label.sk-toggleable__label {cursor: pointer;display: block;width: 100%;margin-bottom: 0;padding: 0.3em;box-sizing: border-box;text-align: center;}#sk-container-id-2 label.sk-toggleable__label-arrow:before {content: \"▸\";float: left;margin-right: 0.25em;color: #696969;}#sk-container-id-2 label.sk-toggleable__label-arrow:hover:before {color: black;}#sk-container-id-2 div.sk-estimator:hover label.sk-toggleable__label-arrow:before {color: black;}#sk-container-id-2 div.sk-toggleable__content {max-height: 0;max-width: 0;overflow: hidden;text-align: left;background-color: #f0f8ff;}#sk-container-id-2 div.sk-toggleable__content pre {margin: 0.2em;color: black;border-radius: 0.25em;background-color: #f0f8ff;}#sk-container-id-2 input.sk-toggleable__control:checked~div.sk-toggleable__content {max-height: 200px;max-width: 100%;overflow: auto;}#sk-container-id-2 input.sk-toggleable__control:checked~label.sk-toggleable__label-arrow:before {content: \"▾\";}#sk-container-id-2 div.sk-estimator input.sk-toggleable__control:checked~label.sk-toggleable__label {background-color: #d4ebff;}#sk-container-id-2 div.sk-label input.sk-toggleable__control:checked~label.sk-toggleable__label {background-color: #d4ebff;}#sk-container-id-2 input.sk-hidden--visually {border: 0;clip: rect(1px 1px 1px 1px);clip: rect(1px, 1px, 1px, 1px);height: 1px;margin: -1px;overflow: hidden;padding: 0;position: absolute;width: 1px;}#sk-container-id-2 div.sk-estimator {font-family: monospace;background-color: #f0f8ff;border: 1px dotted black;border-radius: 0.25em;box-sizing: border-box;margin-bottom: 0.5em;}#sk-container-id-2 div.sk-estimator:hover {background-color: #d4ebff;}#sk-container-id-2 div.sk-parallel-item::after {content: \"\";width: 100%;border-bottom: 1px solid gray;flex-grow: 1;}#sk-container-id-2 div.sk-label:hover label.sk-toggleable__label {background-color: #d4ebff;}#sk-container-id-2 div.sk-serial::before {content: \"\";position: absolute;border-left: 1px solid gray;box-sizing: border-box;top: 0;bottom: 0;left: 50%;z-index: 0;}#sk-container-id-2 div.sk-serial {display: flex;flex-direction: column;align-items: center;background-color: white;padding-right: 0.2em;padding-left: 0.2em;position: relative;}#sk-container-id-2 div.sk-item {position: relative;z-index: 1;}#sk-container-id-2 div.sk-parallel {display: flex;align-items: stretch;justify-content: center;background-color: white;position: relative;}#sk-container-id-2 div.sk-item::before, #sk-container-id-2 div.sk-parallel-item::before {content: \"\";position: absolute;border-left: 1px solid gray;box-sizing: border-box;top: 0;bottom: 0;left: 50%;z-index: -1;}#sk-container-id-2 div.sk-parallel-item {display: flex;flex-direction: column;z-index: 1;position: relative;background-color: white;}#sk-container-id-2 div.sk-parallel-item:first-child::after {align-self: flex-end;width: 50%;}#sk-container-id-2 div.sk-parallel-item:last-child::after {align-self: flex-start;width: 50%;}#sk-container-id-2 div.sk-parallel-item:only-child::after {width: 0;}#sk-container-id-2 div.sk-dashed-wrapped {border: 1px dashed gray;margin: 0 0.4em 0.5em 0.4em;box-sizing: border-box;padding-bottom: 0.4em;background-color: white;}#sk-container-id-2 div.sk-label label {font-family: monospace;font-weight: bold;display: inline-block;line-height: 1.2em;}#sk-container-id-2 div.sk-label-container {text-align: center;}#sk-container-id-2 div.sk-container {/* jupyter's `normalize.less` sets `[hidden] { display: none; }` but bootstrap.min.css set `[hidden] { display: none !important; }` so we also need the `!important` here to be able to override the default hidden behavior on the sphinx rendered scikit-learn.org. See: https://github.com/scikit-learn/scikit-learn/issues/21755 */display: inline-block !important;position: relative;}#sk-container-id-2 div.sk-text-repr-fallback {display: none;}</style><div id=\"sk-container-id-2\" class=\"sk-top-container\"><div class=\"sk-text-repr-fallback\"><pre>RandomForestClassifier(class_weight=&#x27;balanced&#x27;, n_estimators=175,\n",
       "                       random_state=12)</pre><b>In a Jupyter environment, please rerun this cell to show the HTML representation or trust the notebook. <br />On GitHub, the HTML representation is unable to render, please try loading this page with nbviewer.org.</b></div><div class=\"sk-container\" hidden><div class=\"sk-item\"><div class=\"sk-estimator sk-toggleable\"><input class=\"sk-toggleable__control sk-hidden--visually\" id=\"sk-estimator-id-2\" type=\"checkbox\" checked><label for=\"sk-estimator-id-2\" class=\"sk-toggleable__label sk-toggleable__label-arrow\">RandomForestClassifier</label><div class=\"sk-toggleable__content\"><pre>RandomForestClassifier(class_weight=&#x27;balanced&#x27;, n_estimators=175,\n",
       "                       random_state=12)</pre></div></div></div></div></div>"
      ],
      "text/plain": [
       "RandomForestClassifier(class_weight='balanced', n_estimators=175,\n",
       "                       random_state=12)"
      ]
     },
     "execution_count": 39,
     "metadata": {},
     "output_type": "execute_result"
    }
   ],
   "source": [
    "rf1 = copy.deepcopy(rf)\n",
    "rf1"
   ]
  },
  {
   "cell_type": "code",
   "execution_count": 40,
   "metadata": {
    "execution": {
     "iopub.execute_input": "2023-11-21T08:42:13.546164Z",
     "iopub.status.busy": "2023-11-21T08:42:13.545763Z",
     "iopub.status.idle": "2023-11-21T08:43:50.358148Z",
     "shell.execute_reply": "2023-11-21T08:43:50.357348Z",
     "shell.execute_reply.started": "2023-11-21T08:42:13.546134Z"
    }
   },
   "outputs": [
    {
     "name": "stdout",
     "output_type": "stream",
     "text": [
      "Time training (20 features): 468.3342888355255 s\n"
     ]
    }
   ],
   "source": [
    "start_time = time.time()\n",
    "rf1.fit(X_train_top_20, y_train)\n",
    "end_time = time.time()\n",
    "\n",
    "training_time1 = end_time - start_time\n",
    "print(\"Time training (20 features):\", training_time1, \"s\")"
   ]
  },
  {
   "cell_type": "code",
   "execution_count": 41,
   "metadata": {
    "execution": {
     "iopub.execute_input": "2023-11-21T08:44:17.474188Z",
     "iopub.status.busy": "2023-11-21T08:44:17.473476Z",
     "iopub.status.idle": "2023-11-21T08:44:19.260375Z",
     "shell.execute_reply": "2023-11-21T08:44:19.259080Z",
     "shell.execute_reply.started": "2023-11-21T08:44:17.474155Z"
    }
   },
   "outputs": [
    {
     "name": "stdout",
     "output_type": "stream",
     "text": [
      "Accuracy: 99.964%\n"
     ]
    }
   ],
   "source": [
    "# Evaluating the performance on the test set\n",
    "predictions1 = rf1.predict(X_test_top_20)\n",
    "print(f\"Accuracy: {accuracy_score(y_test, predictions1)* 100:.3f}%\")"
   ]
  },
  {
   "cell_type": "code",
   "execution_count": 42,
   "metadata": {
    "execution": {
     "iopub.execute_input": "2023-11-21T08:53:42.983084Z",
     "iopub.status.busy": "2023-11-21T08:53:42.982105Z",
     "iopub.status.idle": "2023-11-21T08:53:43.869793Z",
     "shell.execute_reply": "2023-11-21T08:53:43.868679Z",
     "shell.execute_reply.started": "2023-11-21T08:53:42.983046Z"
    }
   },
   "outputs": [
    {
     "name": "stdout",
     "output_type": "stream",
     "text": [
      "Classification Report for RF: \n",
      "                         precision    recall  f1-score   support\n",
      "\n",
      "                Benign       1.00      1.00      1.00    221955\n",
      "      DDOS attack-HOIC       1.00      1.00      1.00     59654\n",
      "  DDOS attack-LOIC-UDP       0.81      0.93      0.87       515\n",
      "DDoS attacks-LOIC-HTTP       1.00      1.00      1.00    172749\n",
      "\n",
      "              accuracy                           1.00    454873\n",
      "             macro avg       0.95      0.98      0.97    454873\n",
      "          weighted avg       1.00      1.00      1.00    454873\n",
      "\n"
     ]
    }
   ],
   "source": [
    "print(\"Classification Report for RF: \\n\", classification_report(le.inverse_transform(y_test), le.inverse_transform(predictions1)))"
   ]
  },
  {
   "cell_type": "code",
   "execution_count": 43,
   "metadata": {
    "execution": {
     "iopub.execute_input": "2023-11-21T08:53:29.645128Z",
     "iopub.status.busy": "2023-11-21T08:53:29.644710Z",
     "iopub.status.idle": "2023-11-21T08:53:30.263556Z",
     "shell.execute_reply": "2023-11-21T08:53:30.262451Z",
     "shell.execute_reply.started": "2023-11-21T08:53:29.645094Z"
    }
   },
   "outputs": [
    {
     "data": {
      "text/plain": [
       "<Axes: >"
      ]
     },
     "execution_count": 43,
     "metadata": {},
     "output_type": "execute_result"
    },
    {
     "data": {
      "image/png": "[encoded data removed]",
      "text/plain": [
       "<Figure size 640x480 with 2 Axes>"
      ]
     },
     "metadata": {},
     "output_type": "display_data"
    }
   ],
   "source": [
    "cf_matrix = confusion_matrix(y_test, predictions1)\n",
    "sns.heatmap(cf_matrix, annot=True, fmt='d')"
   ]
  },
  {
   "cell_type": "code",
   "execution_count": 44,
   "metadata": {},
   "outputs": [],
   "source": [
    "import csv\n",
    "\n",
    "# File name to save the output\n",
    "filename = 'DDoS_Attack_Detection_20_features.csv'\n",
    "\n",
    "# Feature names\n",
    "feature_names = ['Protocol', 'Packet Length Min', 'Bwd Packet Length Max',\n",
    "       'Init Bwd Win Bytes', 'Bwd Packet Length Mean',\n",
    "       'Fwd Packet Length Mean', 'Bwd Packet Length Std',\n",
    "       'Avg Bwd Segment Size', 'Fwd IAT Total', 'Flow IAT Mean',\n",
    "       'Fwd Packet Length Max', 'Fwd Header Length', 'Flow IAT Max',\n",
    "       'Flow Duration', 'Fwd Act Data Packets', 'Subflow Fwd Packets',\n",
    "       'Init Fwd Win Bytes', 'Fwd Packets Length Total', 'Total Fwd Packets',\n",
    "       'Subflow Fwd Bytes'] \n",
    "\n",
    "# Class names\n",
    "class_names = ['Benign', 'DDoS attacks-LOIC-HTTP', 'DDOS attack-HOIC', 'DDOS attack-LOIC-UDP']  \n",
    "\n",
    "# Open the CSV file for writing with 'utf-8' encoding\n",
    "with open(filename, 'w', newline='', encoding='utf-8') as file:\n",
    "    writer = csv.writer(file)\n",
    "\n",
    "    # Write the header (feature names and class names)\n",
    "    writer.writerow(['Sample', 'Label'] + feature_names)\n",
    "\n",
    "    # Write the data for each sample\n",
    "    for i, label in enumerate(predictions1):\n",
    "        if label in [3, 1, 2]:  # Samples belonging to the DDoS classes\n",
    "            features = list(X_test_top_20[i])  # Convert to a list\n",
    "\n",
    "            # Write the data row\n",
    "            row = [i, class_names[label]] + features\n",
    "            writer.writerow(row)"
   ]
  },
  {
   "cell_type": "markdown",
   "metadata": {},
   "source": [
    " ### <b>  With 30 important features"
   ]
  },
  {
   "cell_type": "code",
   "execution_count": 45,
   "metadata": {},
   "outputs": [],
   "source": [
    "# Retrieving indices of the 30 important features\n",
    "top_30_indices = np.argsort(importance)[-30:]\n",
    "# Retrieving names of the 30 important features\n",
    "top_30_features = train.columns[top_30_indices]"
   ]
  },
  {
   "cell_type": "code",
   "execution_count": 46,
   "metadata": {},
   "outputs": [],
   "source": [
    "# Creating a new dataset with only the 30 important features\n",
    "X_train_top_30 = train[top_30_features].values\n",
    "X_test_top_30 = test[top_30_features].values"
   ]
  },
  {
   "cell_type": "code",
   "execution_count": 47,
   "metadata": {},
   "outputs": [
    {
     "data": {
      "text/plain": [
       "Index(['Flow IAT Min', 'Avg Packet Size', 'Avg Fwd Segment Size',\n",
       "       'Fwd Packet Length Min', 'Total Backward Packets', 'Packet Length Mean',\n",
       "       'Fwd IAT Std', 'Fwd Packet Length Std', 'Subflow Bwd Bytes',\n",
       "       'Bwd Packets Length Total', 'Protocol', 'Packet Length Min',\n",
       "       'Bwd Packet Length Max', 'Init Bwd Win Bytes', 'Bwd Packet Length Mean',\n",
       "       'Fwd Packet Length Mean', 'Bwd Packet Length Std',\n",
       "       'Avg Bwd Segment Size', 'Fwd IAT Total', 'Flow IAT Mean',\n",
       "       'Fwd Packet Length Max', 'Fwd Header Length', 'Flow IAT Max',\n",
       "       'Flow Duration', 'Fwd Act Data Packets', 'Subflow Fwd Packets',\n",
       "       'Init Fwd Win Bytes', 'Fwd Packets Length Total', 'Total Fwd Packets',\n",
       "       'Subflow Fwd Bytes'],\n",
       "      dtype='object')"
      ]
     },
     "execution_count": 47,
     "metadata": {},
     "output_type": "execute_result"
    }
   ],
   "source": [
    "test[top_30_features].columns"
   ]
  },
  {
   "cell_type": "code",
   "execution_count": 48,
   "metadata": {},
   "outputs": [
    {
     "data": {
      "text/html": [
       "<style>#sk-container-id-3 {color: black;}#sk-container-id-3 pre{padding: 0;}#sk-container-id-3 div.sk-toggleable {background-color: white;}#sk-container-id-3 label.sk-toggleable__label {cursor: pointer;display: block;width: 100%;margin-bottom: 0;padding: 0.3em;box-sizing: border-box;text-align: center;}#sk-container-id-3 label.sk-toggleable__label-arrow:before {content: \"▸\";float: left;margin-right: 0.25em;color: #696969;}#sk-container-id-3 label.sk-toggleable__label-arrow:hover:before {color: black;}#sk-container-id-3 div.sk-estimator:hover label.sk-toggleable__label-arrow:before {color: black;}#sk-container-id-3 div.sk-toggleable__content {max-height: 0;max-width: 0;overflow: hidden;text-align: left;background-color: #f0f8ff;}#sk-container-id-3 div.sk-toggleable__content pre {margin: 0.2em;color: black;border-radius: 0.25em;background-color: #f0f8ff;}#sk-container-id-3 input.sk-toggleable__control:checked~div.sk-toggleable__content {max-height: 200px;max-width: 100%;overflow: auto;}#sk-container-id-3 input.sk-toggleable__control:checked~label.sk-toggleable__label-arrow:before {content: \"▾\";}#sk-container-id-3 div.sk-estimator input.sk-toggleable__control:checked~label.sk-toggleable__label {background-color: #d4ebff;}#sk-container-id-3 div.sk-label input.sk-toggleable__control:checked~label.sk-toggleable__label {background-color: #d4ebff;}#sk-container-id-3 input.sk-hidden--visually {border: 0;clip: rect(1px 1px 1px 1px);clip: rect(1px, 1px, 1px, 1px);height: 1px;margin: -1px;overflow: hidden;padding: 0;position: absolute;width: 1px;}#sk-container-id-3 div.sk-estimator {font-family: monospace;background-color: #f0f8ff;border: 1px dotted black;border-radius: 0.25em;box-sizing: border-box;margin-bottom: 0.5em;}#sk-container-id-3 div.sk-estimator:hover {background-color: #d4ebff;}#sk-container-id-3 div.sk-parallel-item::after {content: \"\";width: 100%;border-bottom: 1px solid gray;flex-grow: 1;}#sk-container-id-3 div.sk-label:hover label.sk-toggleable__label {background-color: #d4ebff;}#sk-container-id-3 div.sk-serial::before {content: \"\";position: absolute;border-left: 1px solid gray;box-sizing: border-box;top: 0;bottom: 0;left: 50%;z-index: 0;}#sk-container-id-3 div.sk-serial {display: flex;flex-direction: column;align-items: center;background-color: white;padding-right: 0.2em;padding-left: 0.2em;position: relative;}#sk-container-id-3 div.sk-item {position: relative;z-index: 1;}#sk-container-id-3 div.sk-parallel {display: flex;align-items: stretch;justify-content: center;background-color: white;position: relative;}#sk-container-id-3 div.sk-item::before, #sk-container-id-3 div.sk-parallel-item::before {content: \"\";position: absolute;border-left: 1px solid gray;box-sizing: border-box;top: 0;bottom: 0;left: 50%;z-index: -1;}#sk-container-id-3 div.sk-parallel-item {display: flex;flex-direction: column;z-index: 1;position: relative;background-color: white;}#sk-container-id-3 div.sk-parallel-item:first-child::after {align-self: flex-end;width: 50%;}#sk-container-id-3 div.sk-parallel-item:last-child::after {align-self: flex-start;width: 50%;}#sk-container-id-3 div.sk-parallel-item:only-child::after {width: 0;}#sk-container-id-3 div.sk-dashed-wrapped {border: 1px dashed gray;margin: 0 0.4em 0.5em 0.4em;box-sizing: border-box;padding-bottom: 0.4em;background-color: white;}#sk-container-id-3 div.sk-label label {font-family: monospace;font-weight: bold;display: inline-block;line-height: 1.2em;}#sk-container-id-3 div.sk-label-container {text-align: center;}#sk-container-id-3 div.sk-container {/* jupyter's `normalize.less` sets `[hidden] { display: none; }` but bootstrap.min.css set `[hidden] { display: none !important; }` so we also need the `!important` here to be able to override the default hidden behavior on the sphinx rendered scikit-learn.org. See: https://github.com/scikit-learn/scikit-learn/issues/21755 */display: inline-block !important;position: relative;}#sk-container-id-3 div.sk-text-repr-fallback {display: none;}</style><div id=\"sk-container-id-3\" class=\"sk-top-container\"><div class=\"sk-text-repr-fallback\"><pre>RandomForestClassifier(class_weight=&#x27;balanced&#x27;, n_estimators=175,\n",
       "                       random_state=12)</pre><b>In a Jupyter environment, please rerun this cell to show the HTML representation or trust the notebook. <br />On GitHub, the HTML representation is unable to render, please try loading this page with nbviewer.org.</b></div><div class=\"sk-container\" hidden><div class=\"sk-item\"><div class=\"sk-estimator sk-toggleable\"><input class=\"sk-toggleable__control sk-hidden--visually\" id=\"sk-estimator-id-3\" type=\"checkbox\" checked><label for=\"sk-estimator-id-3\" class=\"sk-toggleable__label sk-toggleable__label-arrow\">RandomForestClassifier</label><div class=\"sk-toggleable__content\"><pre>RandomForestClassifier(class_weight=&#x27;balanced&#x27;, n_estimators=175,\n",
       "                       random_state=12)</pre></div></div></div></div></div>"
      ],
      "text/plain": [
       "RandomForestClassifier(class_weight='balanced', n_estimators=175,\n",
       "                       random_state=12)"
      ]
     },
     "execution_count": 48,
     "metadata": {},
     "output_type": "execute_result"
    }
   ],
   "source": [
    "rf2 = copy.deepcopy(rf)\n",
    "rf2"
   ]
  },
  {
   "cell_type": "code",
   "execution_count": 49,
   "metadata": {},
   "outputs": [
    {
     "name": "stdout",
     "output_type": "stream",
     "text": [
      "Time training (30 features): 520.4678771495819 s\n"
     ]
    }
   ],
   "source": [
    "start_time = time.time()\n",
    "rf2.fit(X_train_top_30, y_train)\n",
    "end_time = time.time()\n",
    "\n",
    "training_time2 = end_time - start_time\n",
    "print(\"Time training (30 features):\", training_time2, \"s\")"
   ]
  },
  {
   "cell_type": "code",
   "execution_count": 50,
   "metadata": {},
   "outputs": [
    {
     "name": "stdout",
     "output_type": "stream",
     "text": [
      "Accuracy: 99.964%\n"
     ]
    }
   ],
   "source": [
    "# Evaluating the performance on the test set\n",
    "predictions2 = rf2.predict(X_test_top_30)\n",
    "print(f\"Accuracy: {accuracy_score(y_test, predictions2)* 100:.3f}%\")"
   ]
  },
  {
   "cell_type": "code",
   "execution_count": 51,
   "metadata": {},
   "outputs": [
    {
     "name": "stdout",
     "output_type": "stream",
     "text": [
      "Classification Report for RF: \n",
      "                         precision    recall  f1-score   support\n",
      "\n",
      "                Benign       1.00      1.00      1.00    221955\n",
      "      DDOS attack-HOIC       1.00      1.00      1.00     59654\n",
      "  DDOS attack-LOIC-UDP       0.81      0.97      0.88       515\n",
      "DDoS attacks-LOIC-HTTP       1.00      1.00      1.00    172749\n",
      "\n",
      "              accuracy                           1.00    454873\n",
      "             macro avg       0.95      0.99      0.97    454873\n",
      "          weighted avg       1.00      1.00      1.00    454873\n",
      "\n"
     ]
    }
   ],
   "source": [
    "print(\"Classification Report for RF: \\n\", classification_report(le.inverse_transform(y_test), le.inverse_transform(predictions2)))"
   ]
  },
  {
   "cell_type": "code",
   "execution_count": 52,
   "metadata": {},
   "outputs": [
    {
     "data": {
      "text/plain": [
       "<Axes: >"
      ]
     },
     "execution_count": 52,
     "metadata": {},
     "output_type": "execute_result"
    },
    {
     "data": {
      "image/png": "[encoded data removed]",
      "text/plain": [
       "<Figure size 640x480 with 2 Axes>"
      ]
     },
     "metadata": {},
     "output_type": "display_data"
    }
   ],
   "source": [
    "cf_matrix = confusion_matrix(y_test, predictions2)\n",
    "sns.heatmap(cf_matrix, annot=True, fmt='d')"
   ]
  },
  {
   "cell_type": "code",
   "execution_count": 53,
   "metadata": {},
   "outputs": [],
   "source": [
    "import csv\n",
    "\n",
    "# File name to save the output\n",
    "filename = 'DDoS_Attack_Detection_30_features.csv'\n",
    "\n",
    "# Feature names\n",
    "feature_names = ['Flow IAT Min', 'Avg Packet Size', 'Avg Fwd Segment Size',\n",
    "       'Fwd Packet Length Min', 'Total Backward Packets', 'Packet Length Mean',\n",
    "       'Fwd IAT Std', 'Fwd Packet Length Std', 'Subflow Bwd Bytes',\n",
    "       'Bwd Packets Length Total', 'Protocol', 'Packet Length Min',\n",
    "       'Bwd Packet Length Max', 'Init Bwd Win Bytes', 'Bwd Packet Length Mean',\n",
    "       'Fwd Packet Length Mean', 'Bwd Packet Length Std',\n",
    "       'Avg Bwd Segment Size', 'Fwd IAT Total', 'Flow IAT Mean',\n",
    "       'Fwd Packet Length Max', 'Fwd Header Length', 'Flow IAT Max',\n",
    "       'Flow Duration', 'Fwd Act Data Packets', 'Subflow Fwd Packets',\n",
    "       'Init Fwd Win Bytes', 'Fwd Packets Length Total', 'Total Fwd Packets',\n",
    "       'Subflow Fwd Bytes'] \n",
    "\n",
    "# Class names\n",
    "class_names = ['Benign', 'DDoS attacks-LOIC-HTTP', 'DDOS attack-HOIC', 'DDOS attack-LOIC-UDP']  \n",
    "\n",
    "# Open the CSV file for writing with 'utf-8' encoding\n",
    "with open(filename, 'w', newline='', encoding='utf-8') as file:\n",
    "    writer = csv.writer(file)\n",
    "\n",
    "    # Write the header (feature names and class names)\n",
    "    writer.writerow(['Sample', 'Label'] + feature_names)\n",
    "\n",
    "    # Write the data for each sample\n",
    "    for i, label in enumerate(predictions2):\n",
    "        if label in [3, 1, 2]:  # Samples belonging to the DDoS classes\n",
    "            features = list(X_test_top_30[i])  # Convert to a list\n",
    "\n",
    "            # Write the data row\n",
    "            row = [i, class_names[label]] + features\n",
    "            writer.writerow(row)"
   ]
  },
  {
   "cell_type": "markdown",
   "metadata": {},
   "source": [
    " ### <b>  With 40 important features"
   ]
  },
  {
   "cell_type": "code",
   "execution_count": 54,
   "metadata": {},
   "outputs": [],
   "source": [
    "# Retrieving indices of the 40 important features\n",
    "top_40_indices = np.argsort(importance)[-40:]\n",
    "# Retrieving names of the 20 important features\n",
    "top_40_features = train.columns[top_40_indices]"
   ]
  },
  {
   "cell_type": "code",
   "execution_count": 55,
   "metadata": {},
   "outputs": [],
   "source": [
    "# Creating a new dataset with only the 40 important features\n",
    "X_train_top_40 = train[top_40_features].values\n",
    "X_test_top_40 = test[top_40_features].values"
   ]
  },
  {
   "cell_type": "code",
   "execution_count": 56,
   "metadata": {},
   "outputs": [
    {
     "data": {
      "text/plain": [
       "Index(['Fwd Packets/s', 'RST Flag Count', 'Fwd IAT Min',\n",
       "       'Packet Length Variance', 'Packet Length Max', 'Fwd IAT Mean',\n",
       "       'Packet Length Std', 'Subflow Bwd Packets', 'Fwd Seg Size Min',\n",
       "       'Bwd Header Length', 'Flow IAT Min', 'Avg Packet Size',\n",
       "       'Avg Fwd Segment Size', 'Fwd Packet Length Min',\n",
       "       'Total Backward Packets', 'Packet Length Mean', 'Fwd IAT Std',\n",
       "       'Fwd Packet Length Std', 'Subflow Bwd Bytes',\n",
       "       'Bwd Packets Length Total', 'Protocol', 'Packet Length Min',\n",
       "       'Bwd Packet Length Max', 'Init Bwd Win Bytes', 'Bwd Packet Length Mean',\n",
       "       'Fwd Packet Length Mean', 'Bwd Packet Length Std',\n",
       "       'Avg Bwd Segment Size', 'Fwd IAT Total', 'Flow IAT Mean',\n",
       "       'Fwd Packet Length Max', 'Fwd Header Length', 'Flow IAT Max',\n",
       "       'Flow Duration', 'Fwd Act Data Packets', 'Subflow Fwd Packets',\n",
       "       'Init Fwd Win Bytes', 'Fwd Packets Length Total', 'Total Fwd Packets',\n",
       "       'Subflow Fwd Bytes'],\n",
       "      dtype='object')"
      ]
     },
     "execution_count": 56,
     "metadata": {},
     "output_type": "execute_result"
    }
   ],
   "source": [
    "test[top_40_features].columns"
   ]
  },
  {
   "cell_type": "code",
   "execution_count": 57,
   "metadata": {},
   "outputs": [
    {
     "data": {
      "text/html": [
       "<style>#sk-container-id-4 {color: black;}#sk-container-id-4 pre{padding: 0;}#sk-container-id-4 div.sk-toggleable {background-color: white;}#sk-container-id-4 label.sk-toggleable__label {cursor: pointer;display: block;width: 100%;margin-bottom: 0;padding: 0.3em;box-sizing: border-box;text-align: center;}#sk-container-id-4 label.sk-toggleable__label-arrow:before {content: \"▸\";float: left;margin-right: 0.25em;color: #696969;}#sk-container-id-4 label.sk-toggleable__label-arrow:hover:before {color: black;}#sk-container-id-4 div.sk-estimator:hover label.sk-toggleable__label-arrow:before {color: black;}#sk-container-id-4 div.sk-toggleable__content {max-height: 0;max-width: 0;overflow: hidden;text-align: left;background-color: #f0f8ff;}#sk-container-id-4 div.sk-toggleable__content pre {margin: 0.2em;color: black;border-radius: 0.25em;background-color: #f0f8ff;}#sk-container-id-4 input.sk-toggleable__control:checked~div.sk-toggleable__content {max-height: 200px;max-width: 100%;overflow: auto;}#sk-container-id-4 input.sk-toggleable__control:checked~label.sk-toggleable__label-arrow:before {content: \"▾\";}#sk-container-id-4 div.sk-estimator input.sk-toggleable__control:checked~label.sk-toggleable__label {background-color: #d4ebff;}#sk-container-id-4 div.sk-label input.sk-toggleable__control:checked~label.sk-toggleable__label {background-color: #d4ebff;}#sk-container-id-4 input.sk-hidden--visually {border: 0;clip: rect(1px 1px 1px 1px);clip: rect(1px, 1px, 1px, 1px);height: 1px;margin: -1px;overflow: hidden;padding: 0;position: absolute;width: 1px;}#sk-container-id-4 div.sk-estimator {font-family: monospace;background-color: #f0f8ff;border: 1px dotted black;border-radius: 0.25em;box-sizing: border-box;margin-bottom: 0.5em;}#sk-container-id-4 div.sk-estimator:hover {background-color: #d4ebff;}#sk-container-id-4 div.sk-parallel-item::after {content: \"\";width: 100%;border-bottom: 1px solid gray;flex-grow: 1;}#sk-container-id-4 div.sk-label:hover label.sk-toggleable__label {background-color: #d4ebff;}#sk-container-id-4 div.sk-serial::before {content: \"\";position: absolute;border-left: 1px solid gray;box-sizing: border-box;top: 0;bottom: 0;left: 50%;z-index: 0;}#sk-container-id-4 div.sk-serial {display: flex;flex-direction: column;align-items: center;background-color: white;padding-right: 0.2em;padding-left: 0.2em;position: relative;}#sk-container-id-4 div.sk-item {position: relative;z-index: 1;}#sk-container-id-4 div.sk-parallel {display: flex;align-items: stretch;justify-content: center;background-color: white;position: relative;}#sk-container-id-4 div.sk-item::before, #sk-container-id-4 div.sk-parallel-item::before {content: \"\";position: absolute;border-left: 1px solid gray;box-sizing: border-box;top: 0;bottom: 0;left: 50%;z-index: -1;}#sk-container-id-4 div.sk-parallel-item {display: flex;flex-direction: column;z-index: 1;position: relative;background-color: white;}#sk-container-id-4 div.sk-parallel-item:first-child::after {align-self: flex-end;width: 50%;}#sk-container-id-4 div.sk-parallel-item:last-child::after {align-self: flex-start;width: 50%;}#sk-container-id-4 div.sk-parallel-item:only-child::after {width: 0;}#sk-container-id-4 div.sk-dashed-wrapped {border: 1px dashed gray;margin: 0 0.4em 0.5em 0.4em;box-sizing: border-box;padding-bottom: 0.4em;background-color: white;}#sk-container-id-4 div.sk-label label {font-family: monospace;font-weight: bold;display: inline-block;line-height: 1.2em;}#sk-container-id-4 div.sk-label-container {text-align: center;}#sk-container-id-4 div.sk-container {/* jupyter's `normalize.less` sets `[hidden] { display: none; }` but bootstrap.min.css set `[hidden] { display: none !important; }` so we also need the `!important` here to be able to override the default hidden behavior on the sphinx rendered scikit-learn.org. See: https://github.com/scikit-learn/scikit-learn/issues/21755 */display: inline-block !important;position: relative;}#sk-container-id-4 div.sk-text-repr-fallback {display: none;}</style><div id=\"sk-container-id-4\" class=\"sk-top-container\"><div class=\"sk-text-repr-fallback\"><pre>RandomForestClassifier(class_weight=&#x27;balanced&#x27;, n_estimators=175,\n",
       "                       random_state=12)</pre><b>In a Jupyter environment, please rerun this cell to show the HTML representation or trust the notebook. <br />On GitHub, the HTML representation is unable to render, please try loading this page with nbviewer.org.</b></div><div class=\"sk-container\" hidden><div class=\"sk-item\"><div class=\"sk-estimator sk-toggleable\"><input class=\"sk-toggleable__control sk-hidden--visually\" id=\"sk-estimator-id-4\" type=\"checkbox\" checked><label for=\"sk-estimator-id-4\" class=\"sk-toggleable__label sk-toggleable__label-arrow\">RandomForestClassifier</label><div class=\"sk-toggleable__content\"><pre>RandomForestClassifier(class_weight=&#x27;balanced&#x27;, n_estimators=175,\n",
       "                       random_state=12)</pre></div></div></div></div></div>"
      ],
      "text/plain": [
       "RandomForestClassifier(class_weight='balanced', n_estimators=175,\n",
       "                       random_state=12)"
      ]
     },
     "execution_count": 57,
     "metadata": {},
     "output_type": "execute_result"
    }
   ],
   "source": [
    "rf3 = copy.deepcopy(rf)\n",
    "rf3"
   ]
  },
  {
   "cell_type": "code",
   "execution_count": 58,
   "metadata": {},
   "outputs": [
    {
     "name": "stdout",
     "output_type": "stream",
     "text": [
      "Time training (40 features): 611.8035254478455 s\n"
     ]
    }
   ],
   "source": [
    "start_time = time.time()\n",
    "rf3.fit(X_train_top_40, y_train)\n",
    "end_time = time.time()\n",
    "\n",
    "training_time3 = end_time - start_time\n",
    "print(\"Time training (40 features):\", training_time3, \"s\")"
   ]
  },
  {
   "cell_type": "code",
   "execution_count": 59,
   "metadata": {},
   "outputs": [
    {
     "name": "stdout",
     "output_type": "stream",
     "text": [
      "Accuracy: 99.952%\n"
     ]
    }
   ],
   "source": [
    "# Evaluating the performance on the test set\n",
    "predictions3 = rf3.predict(X_test_top_40)\n",
    "print(f\"Accuracy: {accuracy_score(y_test, predictions3)* 100:.3f}%\")"
   ]
  },
  {
   "cell_type": "code",
   "execution_count": 60,
   "metadata": {},
   "outputs": [
    {
     "name": "stdout",
     "output_type": "stream",
     "text": [
      "Classification Report for RF: \n",
      "                         precision    recall  f1-score   support\n",
      "\n",
      "                Benign       1.00      1.00      1.00    221955\n",
      "      DDOS attack-HOIC       1.00      1.00      1.00     59654\n",
      "  DDOS attack-LOIC-UDP       0.80      0.98      0.88       515\n",
      "DDoS attacks-LOIC-HTTP       1.00      1.00      1.00    172749\n",
      "\n",
      "              accuracy                           1.00    454873\n",
      "             macro avg       0.95      1.00      0.97    454873\n",
      "          weighted avg       1.00      1.00      1.00    454873\n",
      "\n"
     ]
    }
   ],
   "source": [
    "print(\"Classification Report for RF: \\n\", classification_report(le.inverse_transform(y_test), le.inverse_transform(predictions3)))"
   ]
  },
  {
   "cell_type": "code",
   "execution_count": 61,
   "metadata": {},
   "outputs": [
    {
     "data": {
      "text/plain": [
       "<Axes: >"
      ]
     },
     "execution_count": 61,
     "metadata": {},
     "output_type": "execute_result"
    },
    {
     "data": {
      "image/png": "[encoded data removed]",
      "text/plain": [
       "<Figure size 640x480 with 2 Axes>"
      ]
     },
     "metadata": {},
     "output_type": "display_data"
    }
   ],
   "source": [
    "cf_matrix = confusion_matrix(y_test, predictions3)\n",
    "sns.heatmap(cf_matrix, annot=True, fmt='d')"
   ]
  },
  {
   "cell_type": "code",
   "execution_count": 62,
   "metadata": {},
   "outputs": [],
   "source": [
    "import csv\n",
    "\n",
    "# File name to save the output\n",
    "filename = 'DDoS_Attack_Detection_40_features.csv'\n",
    "\n",
    "# Feature names\n",
    "feature_names = ['Fwd Packets/s', 'RST Flag Count', 'Fwd IAT Min',\n",
    "       'Packet Length Variance', 'Packet Length Max', 'Fwd IAT Mean',\n",
    "       'Packet Length Std', 'Subflow Bwd Packets', 'Fwd Seg Size Min',\n",
    "       'Bwd Header Length', 'Flow IAT Min', 'Avg Packet Size',\n",
    "       'Avg Fwd Segment Size', 'Fwd Packet Length Min',\n",
    "       'Total Backward Packets', 'Packet Length Mean', 'Fwd IAT Std',\n",
    "       'Fwd Packet Length Std', 'Subflow Bwd Bytes',\n",
    "       'Bwd Packets Length Total', 'Protocol', 'Packet Length Min',\n",
    "       'Bwd Packet Length Max', 'Init Bwd Win Bytes', 'Bwd Packet Length Mean',\n",
    "       'Fwd Packet Length Mean', 'Bwd Packet Length Std',\n",
    "       'Avg Bwd Segment Size', 'Fwd IAT Total', 'Flow IAT Mean',\n",
    "       'Fwd Packet Length Max', 'Fwd Header Length', 'Flow IAT Max',\n",
    "       'Flow Duration', 'Fwd Act Data Packets', 'Subflow Fwd Packets',\n",
    "       'Init Fwd Win Bytes', 'Fwd Packets Length Total', 'Total Fwd Packets',\n",
    "       'Subflow Fwd Bytes'] \n",
    "\n",
    "# Class names\n",
    "class_names = ['Benign', 'DDoS attacks-LOIC-HTTP', 'DDOS attack-HOIC', 'DDOS attack-LOIC-UDP']  \n",
    "\n",
    "# Open the CSV file for writing with 'utf-8' encoding\n",
    "with open(filename, 'w', newline='', encoding='utf-8') as file:\n",
    "    writer = csv.writer(file)\n",
    "\n",
    "    # Write the header (feature names and class names)\n",
    "    writer.writerow(['Sample', 'Label'] + feature_names)\n",
    "\n",
    "    # Write the data for each sample\n",
    "    for i, label in enumerate(predictions3):\n",
    "        if label in [3, 1, 2]:  # Samples belonging to the DDoS classes\n",
    "            features = list(X_test_top_40[i])  # Convert to a list\n",
    "\n",
    "            # Write the data row\n",
    "            row = [i, class_names[label]] + features\n",
    "            writer.writerow(row)"
   ]
  },
  {
   "cell_type": "markdown",
   "metadata": {},
   "source": [
    " ### <b>  With 50 important features"
   ]
  },
  {
   "cell_type": "code",
   "execution_count": 63,
   "metadata": {
    "execution": {
     "iopub.execute_input": "2023-11-21T08:44:59.424858Z",
     "iopub.status.busy": "2023-11-21T08:44:59.424439Z",
     "iopub.status.idle": "2023-11-21T08:44:59.430137Z",
     "shell.execute_reply": "2023-11-21T08:44:59.429157Z",
     "shell.execute_reply.started": "2023-11-21T08:44:59.424825Z"
    }
   },
   "outputs": [],
   "source": [
    "# Retrieving indices of the 50 important features\n",
    "top_50_indices = np.argsort(importance)[-50:]\n",
    "# Retrieving names of the 50 important features\n",
    "top_50_features = train.columns[top_50_indices]"
   ]
  },
  {
   "cell_type": "code",
   "execution_count": 64,
   "metadata": {
    "execution": {
     "iopub.execute_input": "2023-11-21T08:47:03.869021Z",
     "iopub.status.busy": "2023-11-21T08:47:03.868549Z",
     "iopub.status.idle": "2023-11-21T08:47:04.200819Z",
     "shell.execute_reply": "2023-11-21T08:47:04.199729Z",
     "shell.execute_reply.started": "2023-11-21T08:47:03.868984Z"
    }
   },
   "outputs": [],
   "source": [
    "# Creating a new dataset with only the 50 important features\n",
    "X_train_top_50 = train[top_50_features].values\n",
    "X_test_top_50 = test[top_50_features].values"
   ]
  },
  {
   "cell_type": "code",
   "execution_count": 65,
   "metadata": {},
   "outputs": [
    {
     "data": {
      "text/plain": [
       "Index(['ECE Flag Count', 'ACK Flag Count', 'Idle Min', 'Bwd IAT Mean',\n",
       "       'Idle Max', 'Flow IAT Std', 'Flow Packets/s', 'Bwd Packets/s',\n",
       "       'Down/Up Ratio', 'Fwd IAT Max', 'Fwd Packets/s', 'RST Flag Count',\n",
       "       'Fwd IAT Min', 'Packet Length Variance', 'Packet Length Max',\n",
       "       'Fwd IAT Mean', 'Packet Length Std', 'Subflow Bwd Packets',\n",
       "       'Fwd Seg Size Min', 'Bwd Header Length', 'Flow IAT Min',\n",
       "       'Avg Packet Size', 'Avg Fwd Segment Size', 'Fwd Packet Length Min',\n",
       "       'Total Backward Packets', 'Packet Length Mean', 'Fwd IAT Std',\n",
       "       'Fwd Packet Length Std', 'Subflow Bwd Bytes',\n",
       "       'Bwd Packets Length Total', 'Protocol', 'Packet Length Min',\n",
       "       'Bwd Packet Length Max', 'Init Bwd Win Bytes', 'Bwd Packet Length Mean',\n",
       "       'Fwd Packet Length Mean', 'Bwd Packet Length Std',\n",
       "       'Avg Bwd Segment Size', 'Fwd IAT Total', 'Flow IAT Mean',\n",
       "       'Fwd Packet Length Max', 'Fwd Header Length', 'Flow IAT Max',\n",
       "       'Flow Duration', 'Fwd Act Data Packets', 'Subflow Fwd Packets',\n",
       "       'Init Fwd Win Bytes', 'Fwd Packets Length Total', 'Total Fwd Packets',\n",
       "       'Subflow Fwd Bytes'],\n",
       "      dtype='object')"
      ]
     },
     "execution_count": 65,
     "metadata": {},
     "output_type": "execute_result"
    }
   ],
   "source": [
    "test[top_50_features].columns"
   ]
  },
  {
   "cell_type": "code",
   "execution_count": 66,
   "metadata": {},
   "outputs": [
    {
     "data": {
      "text/html": [
       "<style>#sk-container-id-5 {color: black;}#sk-container-id-5 pre{padding: 0;}#sk-container-id-5 div.sk-toggleable {background-color: white;}#sk-container-id-5 label.sk-toggleable__label {cursor: pointer;display: block;width: 100%;margin-bottom: 0;padding: 0.3em;box-sizing: border-box;text-align: center;}#sk-container-id-5 label.sk-toggleable__label-arrow:before {content: \"▸\";float: left;margin-right: 0.25em;color: #696969;}#sk-container-id-5 label.sk-toggleable__label-arrow:hover:before {color: black;}#sk-container-id-5 div.sk-estimator:hover label.sk-toggleable__label-arrow:before {color: black;}#sk-container-id-5 div.sk-toggleable__content {max-height: 0;max-width: 0;overflow: hidden;text-align: left;background-color: #f0f8ff;}#sk-container-id-5 div.sk-toggleable__content pre {margin: 0.2em;color: black;border-radius: 0.25em;background-color: #f0f8ff;}#sk-container-id-5 input.sk-toggleable__control:checked~div.sk-toggleable__content {max-height: 200px;max-width: 100%;overflow: auto;}#sk-container-id-5 input.sk-toggleable__control:checked~label.sk-toggleable__label-arrow:before {content: \"▾\";}#sk-container-id-5 div.sk-estimator input.sk-toggleable__control:checked~label.sk-toggleable__label {background-color: #d4ebff;}#sk-container-id-5 div.sk-label input.sk-toggleable__control:checked~label.sk-toggleable__label {background-color: #d4ebff;}#sk-container-id-5 input.sk-hidden--visually {border: 0;clip: rect(1px 1px 1px 1px);clip: rect(1px, 1px, 1px, 1px);height: 1px;margin: -1px;overflow: hidden;padding: 0;position: absolute;width: 1px;}#sk-container-id-5 div.sk-estimator {font-family: monospace;background-color: #f0f8ff;border: 1px dotted black;border-radius: 0.25em;box-sizing: border-box;margin-bottom: 0.5em;}#sk-container-id-5 div.sk-estimator:hover {background-color: #d4ebff;}#sk-container-id-5 div.sk-parallel-item::after {content: \"\";width: 100%;border-bottom: 1px solid gray;flex-grow: 1;}#sk-container-id-5 div.sk-label:hover label.sk-toggleable__label {background-color: #d4ebff;}#sk-container-id-5 div.sk-serial::before {content: \"\";position: absolute;border-left: 1px solid gray;box-sizing: border-box;top: 0;bottom: 0;left: 50%;z-index: 0;}#sk-container-id-5 div.sk-serial {display: flex;flex-direction: column;align-items: center;background-color: white;padding-right: 0.2em;padding-left: 0.2em;position: relative;}#sk-container-id-5 div.sk-item {position: relative;z-index: 1;}#sk-container-id-5 div.sk-parallel {display: flex;align-items: stretch;justify-content: center;background-color: white;position: relative;}#sk-container-id-5 div.sk-item::before, #sk-container-id-5 div.sk-parallel-item::before {content: \"\";position: absolute;border-left: 1px solid gray;box-sizing: border-box;top: 0;bottom: 0;left: 50%;z-index: -1;}#sk-container-id-5 div.sk-parallel-item {display: flex;flex-direction: column;z-index: 1;position: relative;background-color: white;}#sk-container-id-5 div.sk-parallel-item:first-child::after {align-self: flex-end;width: 50%;}#sk-container-id-5 div.sk-parallel-item:last-child::after {align-self: flex-start;width: 50%;}#sk-container-id-5 div.sk-parallel-item:only-child::after {width: 0;}#sk-container-id-5 div.sk-dashed-wrapped {border: 1px dashed gray;margin: 0 0.4em 0.5em 0.4em;box-sizing: border-box;padding-bottom: 0.4em;background-color: white;}#sk-container-id-5 div.sk-label label {font-family: monospace;font-weight: bold;display: inline-block;line-height: 1.2em;}#sk-container-id-5 div.sk-label-container {text-align: center;}#sk-container-id-5 div.sk-container {/* jupyter's `normalize.less` sets `[hidden] { display: none; }` but bootstrap.min.css set `[hidden] { display: none !important; }` so we also need the `!important` here to be able to override the default hidden behavior on the sphinx rendered scikit-learn.org. See: https://github.com/scikit-learn/scikit-learn/issues/21755 */display: inline-block !important;position: relative;}#sk-container-id-5 div.sk-text-repr-fallback {display: none;}</style><div id=\"sk-container-id-5\" class=\"sk-top-container\"><div class=\"sk-text-repr-fallback\"><pre>RandomForestClassifier(class_weight=&#x27;balanced&#x27;, n_estimators=175,\n",
       "                       random_state=12)</pre><b>In a Jupyter environment, please rerun this cell to show the HTML representation or trust the notebook. <br />On GitHub, the HTML representation is unable to render, please try loading this page with nbviewer.org.</b></div><div class=\"sk-container\" hidden><div class=\"sk-item\"><div class=\"sk-estimator sk-toggleable\"><input class=\"sk-toggleable__control sk-hidden--visually\" id=\"sk-estimator-id-5\" type=\"checkbox\" checked><label for=\"sk-estimator-id-5\" class=\"sk-toggleable__label sk-toggleable__label-arrow\">RandomForestClassifier</label><div class=\"sk-toggleable__content\"><pre>RandomForestClassifier(class_weight=&#x27;balanced&#x27;, n_estimators=175,\n",
       "                       random_state=12)</pre></div></div></div></div></div>"
      ],
      "text/plain": [
       "RandomForestClassifier(class_weight='balanced', n_estimators=175,\n",
       "                       random_state=12)"
      ]
     },
     "execution_count": 66,
     "metadata": {},
     "output_type": "execute_result"
    }
   ],
   "source": [
    "rf4 = copy.deepcopy(rf)\n",
    "rf4"
   ]
  },
  {
   "cell_type": "code",
   "execution_count": 67,
   "metadata": {
    "execution": {
     "iopub.execute_input": "2023-11-21T08:48:14.372637Z",
     "iopub.status.busy": "2023-11-21T08:48:14.372177Z",
     "iopub.status.idle": "2023-11-21T08:51:09.748604Z",
     "shell.execute_reply": "2023-11-21T08:51:09.747497Z",
     "shell.execute_reply.started": "2023-11-21T08:48:14.372603Z"
    }
   },
   "outputs": [
    {
     "name": "stdout",
     "output_type": "stream",
     "text": [
      "Time training (50 features): 707.7845957279205 s\n"
     ]
    }
   ],
   "source": [
    "start_time = time.time()\n",
    "rf4.fit(X_train_top_50, y_train)\n",
    "end_time = time.time()\n",
    "\n",
    "training_time4 = end_time - start_time\n",
    "print(\"Time training (50 features):\", training_time4, \"s\")"
   ]
  },
  {
   "cell_type": "code",
   "execution_count": 68,
   "metadata": {
    "execution": {
     "iopub.execute_input": "2023-11-21T08:51:47.111343Z",
     "iopub.status.busy": "2023-11-21T08:51:47.110870Z",
     "iopub.status.idle": "2023-11-21T08:51:49.194908Z",
     "shell.execute_reply": "2023-11-21T08:51:49.193726Z",
     "shell.execute_reply.started": "2023-11-21T08:51:47.111308Z"
    }
   },
   "outputs": [
    {
     "name": "stdout",
     "output_type": "stream",
     "text": [
      "Accuracy: 99.947%\n"
     ]
    }
   ],
   "source": [
    "# Evaluating the performance on the test set\n",
    "predictions4 = rf4.predict(X_test_top_50)\n",
    "print(f\"Accuracy: {accuracy_score(y_test, predictions4)* 100:.3f}%\")"
   ]
  },
  {
   "cell_type": "code",
   "execution_count": 69,
   "metadata": {
    "execution": {
     "iopub.execute_input": "2023-11-21T08:52:02.251669Z",
     "iopub.status.busy": "2023-11-21T08:52:02.250306Z",
     "iopub.status.idle": "2023-11-21T08:52:03.174627Z",
     "shell.execute_reply": "2023-11-21T08:52:03.173293Z",
     "shell.execute_reply.started": "2023-11-21T08:52:02.251626Z"
    }
   },
   "outputs": [
    {
     "name": "stdout",
     "output_type": "stream",
     "text": [
      "Classification Report for RF: \n",
      "                         precision    recall  f1-score   support\n",
      "\n",
      "                Benign       1.00      1.00      1.00    221955\n",
      "      DDOS attack-HOIC       1.00      1.00      1.00     59654\n",
      "  DDOS attack-LOIC-UDP       0.84      0.95      0.89       515\n",
      "DDoS attacks-LOIC-HTTP       1.00      1.00      1.00    172749\n",
      "\n",
      "              accuracy                           1.00    454873\n",
      "             macro avg       0.96      0.99      0.97    454873\n",
      "          weighted avg       1.00      1.00      1.00    454873\n",
      "\n"
     ]
    }
   ],
   "source": [
    "print(\"Classification Report for RF: \\n\", classification_report(le.inverse_transform(y_test), le.inverse_transform(predictions4)))"
   ]
  },
  {
   "cell_type": "code",
   "execution_count": 70,
   "metadata": {
    "execution": {
     "iopub.execute_input": "2023-11-21T08:52:07.443630Z",
     "iopub.status.busy": "2023-11-21T08:52:07.443229Z",
     "iopub.status.idle": "2023-11-21T08:52:07.847292Z",
     "shell.execute_reply": "2023-11-21T08:52:07.846144Z",
     "shell.execute_reply.started": "2023-11-21T08:52:07.443601Z"
    }
   },
   "outputs": [
    {
     "data": {
      "text/plain": [
       "<Axes: >"
      ]
     },
     "execution_count": 70,
     "metadata": {},
     "output_type": "execute_result"
    },
    {
     "data": {
      "image/png": "[encoded data removed]",
      "text/plain": [
       "<Figure size 640x480 with 2 Axes>"
      ]
     },
     "metadata": {},
     "output_type": "display_data"
    }
   ],
   "source": [
    "cf_matrix = confusion_matrix(y_test, predictions4)\n",
    "sns.heatmap(cf_matrix, annot=True, fmt='d')"
   ]
  },
  {
   "cell_type": "code",
   "execution_count": 71,
   "metadata": {},
   "outputs": [],
   "source": [
    "import csv\n",
    "\n",
    "# File name to save the output\n",
    "filename = 'DDoS_Attack_Detection_50_features.csv'\n",
    "\n",
    "# Feature names\n",
    "feature_names = ['ECE Flag Count', 'ACK Flag Count', 'Idle Min', 'Bwd IAT Mean',\n",
    "       'Idle Max', 'Flow IAT Std', 'Flow Packets/s', 'Bwd Packets/s',\n",
    "       'Down/Up Ratio', 'Fwd IAT Max', 'Fwd Packets/s', 'RST Flag Count',\n",
    "       'Fwd IAT Min', 'Packet Length Variance', 'Packet Length Max',\n",
    "       'Fwd IAT Mean', 'Packet Length Std', 'Subflow Bwd Packets',\n",
    "       'Fwd Seg Size Min', 'Bwd Header Length', 'Flow IAT Min',\n",
    "       'Avg Packet Size', 'Avg Fwd Segment Size', 'Fwd Packet Length Min',\n",
    "       'Total Backward Packets', 'Packet Length Mean', 'Fwd IAT Std',\n",
    "       'Fwd Packet Length Std', 'Subflow Bwd Bytes',\n",
    "       'Bwd Packets Length Total', 'Protocol', 'Packet Length Min',\n",
    "       'Bwd Packet Length Max', 'Init Bwd Win Bytes', 'Bwd Packet Length Mean',\n",
    "       'Fwd Packet Length Mean', 'Bwd Packet Length Std',\n",
    "       'Avg Bwd Segment Size', 'Fwd IAT Total', 'Flow IAT Mean',\n",
    "       'Fwd Packet Length Max', 'Fwd Header Length', 'Flow IAT Max',\n",
    "       'Flow Duration', 'Fwd Act Data Packets', 'Subflow Fwd Packets',\n",
    "       'Init Fwd Win Bytes', 'Fwd Packets Length Total', 'Total Fwd Packets',\n",
    "       'Subflow Fwd Bytes'] \n",
    "\n",
    "# Class names\n",
    "class_names = ['Benign', 'DDoS attacks-LOIC-HTTP', 'DDOS attack-HOIC', 'DDOS attack-LOIC-UDP']  \n",
    "\n",
    "# Open the CSV file for writing with 'utf-8' encoding\n",
    "with open(filename, 'w', newline='', encoding='utf-8') as file:\n",
    "    writer = csv.writer(file)\n",
    "\n",
    "    # Write the header (feature names and class names)\n",
    "    writer.writerow(['Sample', 'Label'] + feature_names)\n",
    "\n",
    "    # Write the data for each sample\n",
    "    for i, label in enumerate(predictions4):\n",
    "        if label in [3, 1, 2]:  # Samples belonging to the DDoS classes\n",
    "            features = list(X_test_top_50[i])  # Convert to a list\n",
    "\n",
    "            # Write the data row\n",
    "            row = [i, class_names[label]] + features\n",
    "            writer.writerow(row)"
   ]
  },
  {
   "cell_type": "markdown",
   "metadata": {},
   "source": [
    "# IV. Comparison"
   ]
  },
  {
   "cell_type": "code",
   "execution_count": 72,
   "metadata": {},
   "outputs": [],
   "source": [
    "recall = recall_score(y_test, predictions, average='macro')\n",
    "recall1 = recall_score(y_test, predictions1, average='macro')\n",
    "recall2 = recall_score(y_test, predictions2, average='macro')\n",
    "recall3 = recall_score(y_test, predictions3, average='macro')\n",
    "recall4 = recall_score(y_test, predictions4, average='macro')\n",
    "\n",
    "precision = precision_score(y_test, predictions, average='macro')\n",
    "precision1 = precision_score(y_test, predictions1, average='macro')\n",
    "precision2 = precision_score(y_test, predictions2, average='macro')\n",
    "precision3 = precision_score(y_test, predictions3, average='macro')\n",
    "precision4 = precision_score(y_test, predictions4, average='macro')\n",
    "\n",
    "f1 = f1_score(y_test, predictions, average='macro')\n",
    "f1_1 = f1_score(y_test, predictions1, average='macro')\n",
    "f1_2 = f1_score(y_test, predictions2, average='macro')\n",
    "f1_3 = f1_score(y_test, predictions3, average='macro')\n",
    "f1_4 = f1_score(y_test, predictions4, average='macro')\n",
    "\n",
    "accuracy = accuracy_score(y_test, predictions) \n",
    "accuracy1 = accuracy_score(y_test, predictions1) \n",
    "accuracy2 = accuracy_score(y_test, predictions2) \n",
    "accuracy3 = accuracy_score(y_test, predictions3) \n",
    "accuracy4 = accuracy_score(y_test, predictions4) "
   ]
  },
  {
   "cell_type": "code",
   "execution_count": 96,
   "metadata": {},
   "outputs": [
    {
     "data": {
      "image/png": "[encoded data removed]",
      "text/plain": [
       "<Figure size 2000x800 with 1 Axes>"
      ]
     },
     "metadata": {},
     "output_type": "display_data"
    }
   ],
   "source": [
    "labels = ['77 features', '50 features', '40 features', '30 features', '20 features']\n",
    "precisions = [precision, precision4, precision3, precision2, precision1]\n",
    "recalls = [recall, recall4, recall3, recall2, recall1]\n",
    "f1_scores = [f1, f1_4, f1_3, f1_2, f1_1]\n",
    "accuracies = [accuracy, accuracy4, accuracy3, accuracy2, accuracy1]\n",
    "\n",
    "x = np.arange(len(labels))\n",
    "width = 0.2\n",
    "\n",
    "fig, ax = plt.subplots(figsize=(20, 8))\n",
    "\n",
    "precision_bar = ax.bar(x - width, precisions, width, label='Precision', color='blue')\n",
    "recall_bar = ax.bar(x, recalls, width, label='Recall', color='green')\n",
    "f1_score_bar = ax.bar(x + width, f1_scores, width, label='F1-score', color='orange')\n",
    "accuracy_bar = ax.bar(x + 2 * width, accuracies, width, label='Accuracy', color='red')\n",
    "\n",
    "ax.set_xticks(x)\n",
    "ax.set_xticklabels(labels)\n",
    "ax.set_xlabel('Number of Features')\n",
    "ax.set_ylabel('Value')\n",
    "ax.set_title('Comparison of Precision, Recall, F1-score, and Accuracy')\n",
    "\n",
    "# Add value labels on top of each bar\n",
    "def autolabel(bars):\n",
    "    for bar in bars:\n",
    "        height = bar.get_height()\n",
    "        ax.annotate('{:.5f}'.format(height),\n",
    "                    xy=(bar.get_x() + bar.get_width() / 2, height),\n",
    "                    xytext=(0, 3),\n",
    "                    textcoords=\"offset points\",\n",
    "                    ha='center', va='bottom')\n",
    "\n",
    "autolabel(precision_bar)\n",
    "autolabel(recall_bar)\n",
    "autolabel(f1_score_bar)\n",
    "autolabel(accuracy_bar)\n",
    "\n",
    "# Add gradient background\n",
    "ax.set_facecolor('lightgray')\n",
    "ax.set_axisbelow(True)\n",
    "ax.yaxis.grid(color='white', linestyle='dashed')\n",
    "\n",
    "# Adjust the legend position\n",
    "plt.subplots_adjust(top=0.85)\n",
    "plt.legend(loc='upper right', bbox_to_anchor=(1.1, 1))\n",
    "\n",
    "# Automatically adjust the layout to avoid overlapping\n",
    "fig.tight_layout()\n",
    "\n",
    "plt.show()"
   ]
  },
  {
   "cell_type": "code",
   "execution_count": 97,
   "metadata": {},
   "outputs": [],
   "source": [
    "data = {'Number of Features': labels,\n",
    "        'Precision': precisions,\n",
    "        'Recall': recalls,\n",
    "        'F1-score': f1_scores,\n",
    "       'Accuracy': accuracies}\n",
    "\n",
    "df = pd.DataFrame(data)"
   ]
  },
  {
   "cell_type": "code",
   "execution_count": 98,
   "metadata": {},
   "outputs": [],
   "source": [
    "df.set_index('Number of Features', inplace=True)"
   ]
  },
  {
   "cell_type": "code",
   "execution_count": 99,
   "metadata": {},
   "outputs": [
    {
     "data": {
      "text/html": [
       "<div>\n",
       "<style scoped>\n",
       "    .dataframe tbody tr th:only-of-type {\n",
       "        vertical-align: middle;\n",
       "    }\n",
       "\n",
       "    .dataframe tbody tr th {\n",
       "        vertical-align: top;\n",
       "    }\n",
       "\n",
       "    .dataframe thead th {\n",
       "        text-align: right;\n",
       "    }\n",
       "</style>\n",
       "<table border=\"1\" class=\"dataframe\">\n",
       "  <thead>\n",
       "    <tr style=\"text-align: right;\">\n",
       "      <th></th>\n",
       "      <th>Precision</th>\n",
       "      <th>Recall</th>\n",
       "      <th>F1-score</th>\n",
       "      <th>Accuracy</th>\n",
       "    </tr>\n",
       "    <tr>\n",
       "      <th>Number of Features</th>\n",
       "      <th></th>\n",
       "      <th></th>\n",
       "      <th></th>\n",
       "      <th></th>\n",
       "    </tr>\n",
       "  </thead>\n",
       "  <tbody>\n",
       "    <tr>\n",
       "      <th>77 features</th>\n",
       "      <td>0.951322</td>\n",
       "      <td>0.993715</td>\n",
       "      <td>0.970510</td>\n",
       "      <td>0.999314</td>\n",
       "    </tr>\n",
       "    <tr>\n",
       "      <th>50 features</th>\n",
       "      <td>0.958945</td>\n",
       "      <td>0.987101</td>\n",
       "      <td>0.972142</td>\n",
       "      <td>0.999472</td>\n",
       "    </tr>\n",
       "    <tr>\n",
       "      <th>40 features</th>\n",
       "      <td>0.949034</td>\n",
       "      <td>0.995346</td>\n",
       "      <td>0.969768</td>\n",
       "      <td>0.999519</td>\n",
       "    </tr>\n",
       "    <tr>\n",
       "      <th>30 features</th>\n",
       "      <td>0.952625</td>\n",
       "      <td>0.991057</td>\n",
       "      <td>0.970166</td>\n",
       "      <td>0.999639</td>\n",
       "    </tr>\n",
       "    <tr>\n",
       "      <th>20 features</th>\n",
       "      <td>0.952468</td>\n",
       "      <td>0.981859</td>\n",
       "      <td>0.966162</td>\n",
       "      <td>0.999639</td>\n",
       "    </tr>\n",
       "  </tbody>\n",
       "</table>\n",
       "</div>"
      ],
      "text/plain": [
       "                    Precision    Recall  F1-score  Accuracy\n",
       "Number of Features                                         \n",
       "77 features          0.951322  0.993715  0.970510  0.999314\n",
       "50 features          0.958945  0.987101  0.972142  0.999472\n",
       "40 features          0.949034  0.995346  0.969768  0.999519\n",
       "30 features          0.952625  0.991057  0.970166  0.999639\n",
       "20 features          0.952468  0.981859  0.966162  0.999639"
      ]
     },
     "execution_count": 99,
     "metadata": {},
     "output_type": "execute_result"
    }
   ],
   "source": [
    "df"
   ]
  }
 ],
 "metadata": {
  "kaggle": {
   "accelerator": "none",
   "dataSources": [
    {
     "datasetId": 2396410,
     "sourceId": 4059899,
     "sourceType": "datasetVersion"
    }
   ],
   "dockerImageVersionId": 30587,
   "isGpuEnabled": false,
   "isInternetEnabled": true,
   "language": "python",
   "sourceType": "notebook"
  },
  "kernelspec": {
   "display_name": "Python 3 (ipykernel)",
   "language": "python",
   "name": "python3"
  },
  "language_info": {
   "codemirror_mode": {
    "name": "ipython",
    "version": 3
   },
   "file_extension": ".py",
   "mimetype": "text/x-python",
   "name": "python",
   "nbconvert_exporter": "python",
   "pygments_lexer": "ipython3",
   "version": "3.11.5"
  }
 },
 "nbformat": 4,
 "nbformat_minor": 4
}
